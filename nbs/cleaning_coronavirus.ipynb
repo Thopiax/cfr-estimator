{
 "cells": [
  {
   "cell_type": "markdown",
   "metadata": {},
   "source": [
    "# Coronavirus - Global Data Cleaning"
   ]
  },
  {
   "cell_type": "code",
   "execution_count": 9,
   "metadata": {
    "inputHidden": false,
    "jupyter": {
     "outputs_hidden": false
    },
    "outputHidden": false
   },
   "outputs": [],
   "source": [
    "import pandas as pd\n",
    "import numpy as np\n",
    "import matplotlib.pyplot as plt\n",
    "import seaborn as sns\n",
    "\n",
    "import os, re, pickle"
   ]
  },
  {
   "cell_type": "code",
   "execution_count": 10,
   "metadata": {
    "inputHidden": false,
    "jupyter": {
     "outputs_hidden": false
    },
    "outputHidden": false
   },
   "outputs": [
    {
     "data": {
      "text/plain": "<IPython.core.display.HTML object>",
      "text/html": "<style>.container { width:100% !important; }</style>"
     },
     "metadata": {},
     "output_type": "display_data"
    }
   ],
   "source": [
    "from IPython.core.display import display, HTML\n",
    "from utils.path import DATA_ROOTPATH\n",
    "display(HTML(\"<style>.container { width:100% !important; }</style>\"))\n",
    "\n",
    "plt.rcParams['figure.figsize']=[32, 18]\n",
    "plt.rcParams['font.size']=16\n",
    "plt.rcParams['font.weight']='bold'\n",
    "plt.rcParams['axes.titlesize'] = 24\n",
    "plt.rcParams['axes.labelsize'] = 16"
   ]
  },
  {
   "cell_type": "code",
   "execution_count": 11,
   "metadata": {},
   "outputs": [],
   "source": [
    "%reload_ext autoreload\n",
    "%autoreload 2\n",
    "%matplotlib inline"
   ]
  },
  {
   "cell_type": "markdown",
   "metadata": {},
   "source": [
    "# Crucial Oubtreak Data\n",
    "\n",
    "## Load Data"
   ]
  },
  {
   "cell_type": "markdown",
   "metadata": {},
   "source": [
    "Load the most recent data available on the Covid-19 epidemic from the `CSSEGISandData` repository. \n",
    "\n",
    "There are three reports that are interesting to us: *confirmed cases*, *fatalities* and *recovered cases*.\n",
    "All the cases for a specific region (from different provinces/states) are summed under the umbrella of that region to have country-level granularity on our data."
   ]
  },
  {
   "cell_type": "code",
   "execution_count": 12,
   "metadata": {},
   "outputs": [],
   "source": [
    "# uncomment below to load latest data\n",
    "\n",
    "coronavirus_confirmed_df = pd.read_csv('https://raw.githubusercontent.com/CSSEGISandData/COVID-19/master/csse_covid_19_data/csse_covid_19_time_series/time_series_covid19_confirmed_global.csv')\\\n",
    "                        .drop([\"Lat\", \"Long\", \"Province/State\"], axis=1)\\\n",
    "                        .groupby('Country/Region').sum()\\\n",
    "                        .transpose()\n",
    "coronavirus_confirmed_df.to_csv(\"../data/raw/coronavirus_confirmed_global.csv\")\n",
    "# coronavirus_confirmed_df = pd.read_csv(\"../data/raw/coronavirus_confirmed_global.csv\", index_col=0)\n",
    "\n",
    "coronavirus_death_df = pd.read_csv('https://raw.githubusercontent.com/CSSEGISandData/COVID-19/master/csse_covid_19_data/csse_covid_19_time_series/time_series_covid19_deaths_global.csv')\\\n",
    "                    .drop([\"Lat\", \"Long\", \"Province/State\"], axis=1)\\\n",
    "                    .groupby('Country/Region').sum()\\\n",
    "                    .transpose()\n",
    "coronavirus_death_df.to_csv(\"../data/raw/coronavirus_death_global.csv\")\n",
    "# coronavirus_death_df = pd.read_csv(\"../data/raw/coronavirus_death_global.csv\", index_col=0)\n",
    "\n",
    "coronavirus_recovered_df = pd.read_csv('https://raw.githubusercontent.com/CSSEGISandData/COVID-19/master/csse_covid_19_data/csse_covid_19_time_series/time_series_covid19_recovered_global.csv')\\\n",
    "                    .drop([\"Lat\", \"Long\", \"Province/State\"], axis=1)\\\n",
    "                    .groupby('Country/Region').sum()\\\n",
    "                    .transpose()\n",
    "coronavirus_recovered_df.to_csv(\"../data/raw/coronavirus_recovered_global.csv\")\n",
    "# coronavirus_recovered_df = pd.read_csv(\"../data/raw/coronavirus_recovered_global.csv\", index_col=0)"
   ]
  },
  {
   "cell_type": "markdown",
   "metadata": {},
   "source": [
    "## Clean Data\n",
    "\n",
    "### Remove Reclassifications\n",
    "\n",
    "Within the data, there are inconsistencies related the cumulative number of cases dropping from one day to the next due to re-classifications in the data. To address this, we correct the data by taking the cumulative minimum of cases in reverse order, as to ensure monoticity of all of our cumulative curves."
   ]
  },
  {
   "cell_type": "code",
   "execution_count": 13,
   "metadata": {},
   "outputs": [],
   "source": [
    "def verify_monotonicity(df):\n",
    "    return df.apply(lambda s: s.is_monotonic).all()\n",
    "\n",
    "def consider_reclassifications(df):\n",
    "    return df[::-1].cummin()[::-1]"
   ]
  },
  {
   "cell_type": "markdown",
   "metadata": {},
   "source": [
    "#### Confirmed Cases"
   ]
  },
  {
   "cell_type": "code",
   "execution_count": 14,
   "metadata": {},
   "outputs": [
    {
     "data": {
      "text/plain": "False"
     },
     "execution_count": 14,
     "metadata": {},
     "output_type": "execute_result"
    }
   ],
   "source": [
    "verify_monotonicity(coronavirus_confirmed_df)"
   ]
  },
  {
   "cell_type": "code",
   "execution_count": 15,
   "metadata": {},
   "outputs": [
    {
     "data": {
      "text/plain": "True"
     },
     "execution_count": 15,
     "metadata": {},
     "output_type": "execute_result"
    }
   ],
   "source": [
    "coronavirus_confirmed_df = consider_reclassifications(coronavirus_confirmed_df)\n",
    "verify_monotonicity(coronavirus_confirmed_df)"
   ]
  },
  {
   "cell_type": "markdown",
   "metadata": {},
   "source": [
    "#### Fatalities"
   ]
  },
  {
   "cell_type": "code",
   "execution_count": 16,
   "metadata": {},
   "outputs": [
    {
     "data": {
      "text/plain": "False"
     },
     "execution_count": 16,
     "metadata": {},
     "output_type": "execute_result"
    }
   ],
   "source": [
    "verify_monotonicity(coronavirus_death_df)"
   ]
  },
  {
   "cell_type": "code",
   "execution_count": 17,
   "metadata": {},
   "outputs": [
    {
     "data": {
      "text/plain": "True"
     },
     "execution_count": 17,
     "metadata": {},
     "output_type": "execute_result"
    }
   ],
   "source": [
    "coronavirus_death_df = consider_reclassifications(coronavirus_death_df)\n",
    "verify_monotonicity(coronavirus_death_df)"
   ]
  },
  {
   "cell_type": "markdown",
   "metadata": {},
   "source": [
    "#### Recovered Cases"
   ]
  },
  {
   "cell_type": "code",
   "execution_count": 19,
   "metadata": {},
   "outputs": [
    {
     "data": {
      "text/plain": "False"
     },
     "execution_count": 19,
     "metadata": {},
     "output_type": "execute_result"
    }
   ],
   "source": [
    "verify_monotonicity(coronavirus_recovered_df)"
   ]
  },
  {
   "cell_type": "code",
   "execution_count": 20,
   "metadata": {},
   "outputs": [
    {
     "data": {
      "text/plain": "True"
     },
     "execution_count": 20,
     "metadata": {},
     "output_type": "execute_result"
    }
   ],
   "source": [
    "coronavirus_recovered_df = consider_reclassifications(coronavirus_recovered_df)\n",
    "verify_monotonicity(coronavirus_recovered_df)"
   ]
  },
  {
   "cell_type": "markdown",
   "metadata": {},
   "source": [
    "## Save Data\n",
    "\n",
    "Now that we've appropriately treated and cleaned our data, we can store for further analysis in CSV files. We will store the daily date as opposed to cumulative as our analysis will need the data in that format."
   ]
  },
  {
   "cell_type": "code",
   "execution_count": 22,
   "metadata": {},
   "outputs": [],
   "source": [
    "coronavirus_confirmed_df.diff(axis=0).fillna(0).to_csv(DATA_ROOTPATH / \"clean/coronavirus_confirmed_global.csv\")\n",
    "coronavirus_death_df.diff(axis=0).fillna(0).to_csv(DATA_ROOTPATH / \"clean/coronavirus_death_global.csv\")\n",
    "coronavirus_recovered_df.diff(axis=0).fillna(0).to_csv(DATA_ROOTPATH / \"clean/coronavirus_recovered_global.csv\")"
   ]
  },
  {
   "cell_type": "markdown",
   "metadata": {},
   "source": [
    "# Secondary Data"
   ]
  },
  {
   "cell_type": "markdown",
   "metadata": {},
   "source": [
    "## Testing Policy\n",
    "\n",
    "This dataset, found in *Our World in Data*, represents the evolution of testing strategies for countries from early April, until mid-May. The data provides a way to understand how the (later parts) of the crucial statistics were collected (whether at a hospital, or at a broader level) and, therefore, how representative the data above are likely to be. Note that we only have testing policy data available for 135 countries (as opposed to the 185 countries listed above). The lack of monotonicity and large gaps in reporting are disconcerting and indicate we should consider the data with a grain of salt. Instead of considering the entirety of the data for further analysis, we will construct a simple boolean indicator (called `advanced_testing_policy_adopted`) of a country's policy during the entire outbreak which indicates whether they have engaged in either symptomatic or open testing at any point (values 2 or 3).\n",
    "\n",
    "The different policy descriptions are:\n",
    "\n",
    "    0: No testing policy\n",
    "\n",
    "    1: Only those who both (a) have symptoms AND (b) meet specific criteria (eg key workers, admitted to hospital, came into contact with a known case, returned from overseas)\n",
    "\n",
    "    2: testing of anyone showing COVID-19 symptoms\n",
    "\n",
    "    3: open public testing (eg “drive through” testing available to asymptomatic people)\n",
    "    \n"
   ]
  },
  {
   "cell_type": "markdown",
   "metadata": {
    "pycharm": {
     "is_executing": false
    }
   },
   "source": [
    "coronavirus_testing_policies = pd.read_csv(\"../data/raw/covid-19-testing-policy.csv\")\\\n",
    "                                 .pivot(index=\"Date\", columns=\"Entity\", values=\"Testing policy (OxBSG)\")\\\n",
    "                                 .rename({\n",
    "                                    'Czech Republic': \"Czechia\", \n",
    "                                    'United States': \"US\", \n",
    "                                    'Myanmar': \"Burma\", \n",
    "                                    'South Korea': \"Korea, South\", \n",
    "                                    'Taiwan': \"Taiwan*\"\n",
    "                                }, axis=1)"
   ]
  },
  {
   "cell_type": "code",
   "execution_count": 22,
   "metadata": {},
   "outputs": [
    {
     "ename": "NameError",
     "evalue": "name 'coronavirus_testing_policies' is not defined",
     "output_type": "error",
     "traceback": [
      "\u001B[0;31m---------------------------------------------------------------------------\u001B[0m",
      "\u001B[0;31mNameError\u001B[0m                                 Traceback (most recent call last)",
      "\u001B[0;32m<ipython-input-22-92f50bd5105a>\u001B[0m in \u001B[0;36m<module>\u001B[0;34m\u001B[0m\n\u001B[0;32m----> 1\u001B[0;31m \u001B[0mcoronavirus_testing_policies\u001B[0m\u001B[0;34m\u001B[0m\u001B[0;34m\u001B[0m\u001B[0m\n\u001B[0m\u001B[1;32m      2\u001B[0m \u001B[0;34m\u001B[0m\u001B[0m\n",
      "\u001B[0;31mNameError\u001B[0m: name 'coronavirus_testing_policies' is not defined"
     ]
    }
   ],
   "source": [
    "coronavirus_testing_policies"
   ]
  },
  {
   "cell_type": "code",
   "execution_count": null,
   "metadata": {},
   "outputs": [],
   "source": [
    "coronavirus_testing_policies.plot()\n",
    "plt.legend([])\n",
    "plt.show()"
   ]
  },
  {
   "cell_type": "code",
   "execution_count": null,
   "metadata": {},
   "outputs": [],
   "source": [
    "advanced_testing_policy_adopted = coronavirus_testing_policies.apply(lambda s: (s >= 2).any())"
   ]
  },
  {
   "cell_type": "code",
   "execution_count": null,
   "metadata": {},
   "outputs": [],
   "source": [
    "advanced_testing_policy_adopted.value_counts()"
   ]
  },
  {
   "cell_type": "code",
   "execution_count": null,
   "metadata": {},
   "outputs": [],
   "source": [
    "advanced_testing_policy_adopted[advanced_testing_policy_adopted].index"
   ]
  },
  {
   "cell_type": "code",
   "execution_count": null,
   "metadata": {},
   "outputs": [],
   "source": [
    "advanced_testing_policy_adopted.to_csv(\"../data/clean/coronavirus_advanced_testing_policy_adopted.csv\")"
   ]
  },
  {
   "cell_type": "markdown",
   "metadata": {},
   "source": [
    "## Testing per 1,000 people"
   ]
  },
  {
   "cell_type": "code",
   "execution_count": null,
   "metadata": {},
   "outputs": [],
   "source": [
    "coronavirus_testing_df = pd.read_csv(\"../data/raw/full-list-cumulative-total-tests-per-thousand.csv\")\\\n",
    "                                           .pivot(index=\"Date\", columns=\"Entity\", values=\"Total tests per thousand\")\\\n",
    "                                           .rename({\n",
    "                                                'Czech Republic': \"Czechia\", \n",
    "                                                'United States': \"US\", \n",
    "                                                'Myanmar': \"Burma\", \n",
    "                                                'South Korea': \"Korea, South\", \n",
    "                                                'Taiwan': \"Taiwan*\"\n",
    "                                            }, axis=1).drop([\n",
    "                                                'United States, specimens tested (CDC)',\n",
    "                                                'Japan, tests performed', \n",
    "                                                'India, people tested', \n",
    "                                                'Italy, tests performed', \n",
    "                                                'United Kingdom, tests performed', \n",
    "                                                'Singapore, swabs tested'\n",
    "                                            ], axis=1)"
   ]
  },
  {
   "cell_type": "code",
   "execution_count": null,
   "metadata": {},
   "outputs": [],
   "source": []
  },
  {
   "cell_type": "code",
   "execution_count": null,
   "metadata": {},
   "outputs": [],
   "source": [
    "latest_testing_per_thousand = coronavirus_testing_df.fillna(method='ffill').iloc[-1]"
   ]
  },
  {
   "cell_type": "code",
   "execution_count": null,
   "metadata": {},
   "outputs": [],
   "source": [
    "latest_testing_per_thousand.hist(bins=100)"
   ]
  },
  {
   "cell_type": "code",
   "execution_count": null,
   "metadata": {},
   "outputs": [],
   "source": [
    "latest_testing_per_thousand.sort_values().head(20)"
   ]
  },
  {
   "cell_type": "code",
   "execution_count": null,
   "metadata": {},
   "outputs": [],
   "source": [
    "latest_testing_per_thousand.to_csv(\"../data/clean/coronavirus_latest_testing_per_thousand.csv\")"
   ]
  }
 ],
 "metadata": {
  "kernelspec": {
   "display_name": "Python 3",
   "language": "python",
   "name": "python3"
  },
  "language_info": {
   "codemirror_mode": {
    "name": "ipython",
    "version": 3
   },
   "file_extension": ".py",
   "mimetype": "text/x-python",
   "name": "python",
   "nbconvert_exporter": "python",
   "pygments_lexer": "ipython3",
   "version": "3.8.2"
  }
 },
 "nbformat": 4,
 "nbformat_minor": 4
}