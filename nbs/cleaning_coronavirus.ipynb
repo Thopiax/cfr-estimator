{
 "cells": [
  {
   "cell_type": "markdown",
   "metadata": {},
   "source": [
    "# Coronavirus - Global Data Cleaning"
   ]
  },
  {
   "cell_type": "code",
   "execution_count": 1,
   "metadata": {
    "inputHidden": false,
    "jupyter": {
     "outputs_hidden": false
    },
    "outputHidden": false
   },
   "outputs": [],
   "source": [
    "import pandas as pd\n",
    "import numpy as np\n",
    "import matplotlib.pyplot as plt\n",
    "\n",
    "import os, re, pickle"
   ]
  },
  {
   "cell_type": "code",
   "execution_count": 2,
   "metadata": {
    "inputHidden": false,
    "jupyter": {
     "outputs_hidden": false
    },
    "outputHidden": false
   },
   "outputs": [
    {
     "data": {
      "text/html": [
       "<style>.container { width:100% !important; }</style>"
      ],
      "text/plain": [
       "<IPython.core.display.HTML object>"
      ]
     },
     "metadata": {},
     "output_type": "display_data"
    }
   ],
   "source": [
    "from IPython.core.display import display, HTML\n",
    "display(HTML(\"<style>.container { width:100% !important; }</style>\"))"
   ]
  },
  {
   "cell_type": "code",
   "execution_count": 13,
   "metadata": {},
   "outputs": [],
   "source": [
    "%reload_ext autoreload\n",
    "%autoreload 2\n",
    "%matplotlib inline"
   ]
  },
  {
   "cell_type": "markdown",
   "metadata": {},
   "source": [
    "## Load Data"
   ]
  },
  {
   "cell_type": "markdown",
   "metadata": {},
   "source": [
    "Load the most recent data available on the Covid-19 epidemic from the `CSSEGISandData` repository. \n",
    "\n",
    "There are three reports that are interesting to us: *confirmed cases*, *fatalities* and *recovered cases*.\n",
    "All the cases for a specific region (from different provinces/states) are summed under the umbrella of that region to have country-level granularity on our data."
   ]
  },
  {
   "cell_type": "code",
   "execution_count": 6,
   "metadata": {},
   "outputs": [],
   "source": [
    "# uncomment below to load latest data\n",
    "\n",
    "# coronavirus_confirmed_df = pd.read_csv('https://raw.githubusercontent.com/CSSEGISandData/COVID-19/master/csse_covid_19_data/csse_covid_19_time_series/time_series_covid19_confirmed_global.csv')\\\n",
    "#                         .drop([\"Lat\", \"Long\", \"Province/State\"], axis=1)\\\n",
    "#                         .groupby('Country/Region').sum()\\\n",
    "#                         .transpose()\n",
    "# coronavirus_confirmed_df.to_csv(\"../data/raw/coronavirus_confirmed_global.csv\")\n",
    "coronavirus_confirmed_df = pd.read_csv(\"../data/raw/coronavirus_confirmed_global.csv\", index_col=0)\n",
    "\n",
    "# coronavirus_death_df = pd.read_csv('https://raw.githubusercontent.com/CSSEGISandData/COVID-19/master/csse_covid_19_data/csse_covid_19_time_series/time_series_covid19_deaths_global.csv')\\\n",
    "#                     .drop([\"Lat\", \"Long\", \"Province/State\"], axis=1)\\\n",
    "#                     .groupby('Country/Region').sum()\\\n",
    "#                     .transpose()\n",
    "# coronavirus_death_df.to_csv(\"../data/raw/coronavirus_death_global.csv\")\n",
    "coronavirus_death_df = pd.read_csv(\"../data/raw/coronavirus_death_global.csv\", index_col=0)\n",
    "\n",
    "# coronavirus_recovered_df = pd.read_csv('https://raw.githubusercontent.com/CSSEGISandData/COVID-19/master/csse_covid_19_data/csse_covid_19_time_series/time_series_covid19_recovered_global.csv')\\\n",
    "#                     .drop([\"Lat\", \"Long\", \"Province/State\"], axis=1)\\\n",
    "#                     .groupby('Country/Region').sum()\\\n",
    "#                     .transpose()\n",
    "# coronavirus_recovered_df.to_csv(\"../data/raw/coronavirus_recovered_global.csv\")\n",
    "coronavirus_recovered_df = pd.read_csv(\"../data/raw/coronavirus_recovered_global.csv\", index_col=0)"
   ]
  },
  {
   "cell_type": "markdown",
   "metadata": {},
   "source": [
    "## Remove Reclassifications\n",
    "\n",
    "Within the data, there are inconsistencies related the cumulative number of cases dropping from one day to the next due to re-classifications in the data. To address this, we correct the data by taking the cumulative minimum of cases in reverse order, as to ensure monoticity of all of our cumulative curves."
   ]
  },
  {
   "cell_type": "code",
   "execution_count": 7,
   "metadata": {},
   "outputs": [],
   "source": [
    "def verify_monotonicity(df):\n",
    "    return df.apply(lambda s: s.is_monotonic).all()\n",
    "\n",
    "def consider_reclassifications(df):\n",
    "    return df[::-1].cummin()[::-1]"
   ]
  },
  {
   "cell_type": "markdown",
   "metadata": {},
   "source": [
    "#### Confirmed Cases"
   ]
  },
  {
   "cell_type": "code",
   "execution_count": 8,
   "metadata": {},
   "outputs": [
    {
     "data": {
      "text/plain": [
       "False"
      ]
     },
     "execution_count": 8,
     "metadata": {},
     "output_type": "execute_result"
    }
   ],
   "source": [
    "verify_monotonicity(coronavirus_confirmed_df)"
   ]
  },
  {
   "cell_type": "code",
   "execution_count": 9,
   "metadata": {},
   "outputs": [
    {
     "data": {
      "text/plain": [
       "True"
      ]
     },
     "execution_count": 9,
     "metadata": {},
     "output_type": "execute_result"
    }
   ],
   "source": [
    "coronavirus_confirmed_df = consider_reclassifications(coronavirus_confirmed_df)\n",
    "verify_monotonicity(coronavirus_confirmed_df)"
   ]
  },
  {
   "cell_type": "markdown",
   "metadata": {},
   "source": [
    "#### Fatalities"
   ]
  },
  {
   "cell_type": "code",
   "execution_count": 10,
   "metadata": {},
   "outputs": [
    {
     "data": {
      "text/plain": [
       "True"
      ]
     },
     "execution_count": 10,
     "metadata": {},
     "output_type": "execute_result"
    }
   ],
   "source": [
    "verify_monotonicity(coronavirus_death_df)"
   ]
  },
  {
   "cell_type": "markdown",
   "metadata": {},
   "source": [
    "#### Recovered Cases"
   ]
  },
  {
   "cell_type": "code",
   "execution_count": 11,
   "metadata": {},
   "outputs": [
    {
     "data": {
      "text/plain": [
       "False"
      ]
     },
     "execution_count": 11,
     "metadata": {},
     "output_type": "execute_result"
    }
   ],
   "source": [
    "verify_monotonicity(coronavirus_recovered_df)"
   ]
  },
  {
   "cell_type": "code",
   "execution_count": 12,
   "metadata": {},
   "outputs": [
    {
     "data": {
      "text/plain": [
       "True"
      ]
     },
     "execution_count": 12,
     "metadata": {},
     "output_type": "execute_result"
    }
   ],
   "source": [
    "coronavirus_recovered_df = consider_reclassifications(coronavirus_recovered_df)\n",
    "verify_monotonicity(coronavirus_recovered_df)"
   ]
  },
  {
   "cell_type": "markdown",
   "metadata": {},
   "source": [
    "## Save Clean Data\n",
    "\n",
    "Now that we've appropriately treated and cleaned our data, we can store for further analysis in CSV files. We will store the daily date as opposed to cumulative as our analysis will need the data in that format."
   ]
  },
  {
   "cell_type": "code",
   "execution_count": 14,
   "metadata": {},
   "outputs": [],
   "source": [
    "coronavirus_confirmed_df.diff(axis=0).fillna(0).to_csv(\"../data/clean/coronavirus_confirmed_global.csv\")\n",
    "coronavirus_death_df.diff(axis=0).fillna(0).to_csv(\"../data/clean/coronavirus_death_global.csv\")\n",
    "coronavirus_recovered_df.diff(axis=0).fillna(0).to_csv(\"../data/clean/coronavirus_recovered_global.csv\")"
   ]
  }
 ],
 "metadata": {
  "kernelspec": {
   "display_name": "Python [conda env:coronavirus]",
   "language": "python",
   "name": "conda-env-coronavirus-py"
  },
  "language_info": {
   "codemirror_mode": {
    "name": "ipython",
    "version": 3
   },
   "file_extension": ".py",
   "mimetype": "text/x-python",
   "name": "python",
   "nbconvert_exporter": "python",
   "pygments_lexer": "ipython3",
   "version": "3.8.2"
  }
 },
 "nbformat": 4,
 "nbformat_minor": 4
}
