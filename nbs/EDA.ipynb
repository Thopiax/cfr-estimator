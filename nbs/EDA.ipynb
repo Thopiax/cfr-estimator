{
 "cells": [
  {
   "cell_type": "markdown",
   "metadata": {
    "collapsed": true,
    "pycharm": {
     "name": "#%% md\n"
    }
   },
   "source": [
    "# Where do we go?\n",
    "\n",
    "This notebook is meant to find an answer to this problem."
   ]
  },
  {
   "cell_type": "code",
   "execution_count": 1,
   "metadata": {
    "pycharm": {
     "is_executing": false,
     "name": "#%%\n"
    }
   },
   "outputs": [
    {
     "name": "stderr",
     "text": [
      "\nBad key \"text.kerning_factor\" on line 4 in\n/Users/rafa/opt/anaconda3/envs/coronavirus/lib/python3.8/site-packages/matplotlib/mpl-data/stylelib/_classic_test_patch.mplstyle.\nYou probably need to get an updated matplotlibrc file from\nhttps://github.com/matplotlib/matplotlib/blob/v3.1.3/matplotlibrc.template\nor from the matplotlib source distribution\n"
     ],
     "output_type": "stream"
    }
   ],
   "source": [
    "import numpy as np\n",
    "import pandas as pd\n",
    "import matplotlib.pyplot as plt\n",
    "import seaborn as sns\n",
    "from inversion.individual import FatalityIndividualModel\n",
    "from inversion.population.models import AnalyticalPopulationModel\n",
    "from outbreak.plot import plot_outbreak\n",
    "from utils.regions import OECD\n",
    "\n",
    "%reload_ext autoreload\n",
    "%autoreload 2\n",
    "\n",
    "plt.rcParams['figure.figsize']=[32,18]\n",
    "plt.rcParams['font.size']=22\n",
    "plt.rcParams['font.weight']='bold'\n",
    "plt.rcParams['axes.titlesize'] = 28\n",
    "plt.rcParams['axes.labelsize'] = 24\n",
    "\n",
    "plt.style.use('seaborn-whitegrid')\n"
   ]
  },
  {
   "cell_type": "code",
   "execution_count": 43,
   "metadata": {
    "pycharm": {
     "is_executing": false,
     "name": "#%%\n"
    }
   },
   "outputs": [],
   "source": [
    "from epydemic.outbreak import Outbreak, OutbreakTimeWindow, Epidemic\n",
    "from epydemic.utils.helpers import build_coronavirus_epidemic\n",
    "from epydemic.inversion.individual import FatalityIndividualModel\n",
    "from epydemic.inversion.population.models import AnalyticalPopulationModel\n",
    "from epydemic.utils.path import DATA_ROOTPATH"
   ]
  },
  {
   "cell_type": "markdown",
   "metadata": {},
   "source": [
    "## Oxford Data"
   ]
  },
  {
   "cell_type": "code",
   "execution_count": 3,
   "metadata": {
    "pycharm": {
     "is_executing": false,
     "name": "#%%\n"
    }
   },
   "outputs": [],
   "source": [
    "raw_oxford_df = pd.read_csv(DATA_ROOTPATH / \"raw/oxford_data.csv\", parse_dates=[\"Date\"])"
   ]
  },
  {
   "cell_type": "code",
   "execution_count": 4,
   "metadata": {
    "pycharm": {
     "is_executing": false,
     "name": "#%%\n"
    }
   },
   "outputs": [],
   "source": [
    "oxford_df = raw_oxford_df.drop(columns=[\"CountryCode\"]).replace({\"United States\": \"US\", \"Czech Republic\": \"Czechia\"})\\\n",
    "         .pivot(index=\"Date\", columns=\"CountryName\")\\\n",
    "         .fillna(method=\"ffill\")\n",
    "\n",
    "oxford_df.columns = oxford_df.columns.set_levels(\n",
    "    oxford_df.columns.levels[0].str.replace(\" \", \"_\"), \n",
    "    level=0\n",
    ")"
   ]
  },
  {
   "cell_type": "code",
   "execution_count": 22,
   "metadata": {
    "pycharm": {
     "is_executing": false,
     "name": "#%%\n"
    }
   },
   "outputs": [],
   "source": [
    "economic_index = oxford_df[\"EconomicSupportIndex\"]\n",
    "government_index = oxford_df[\"GovernmentResponseIndex\"]\n",
    "stringency_index = oxford_df[\"StringencyIndex\"]\n",
    "containment_health_index = oxford_df[\"ContainmentHealthIndex\"]\n",
    "\n",
    "OECD_mask = set(OECD).intersection(economic_index.columns)\n",
    "\n",
    "policies: pd.Index = oxford_df.columns.unique(0)\n"
   ]
  },
  {
   "cell_type": "markdown",
   "source": [
    "### Containment Policies"
   ],
   "metadata": {
    "collapsed": false
   }
  },
  {
   "cell_type": "code",
   "execution_count": 8,
   "outputs": [],
   "source": [
    "containment_policies = policies[policies.str.contains(\"C\\d\", regex=True)]\n",
    "\n",
    "containment_flags = containment_policies[containment_policies.str.contains(\"Flag\")]\n",
    "containment_policies = containment_policies[~containment_policies.str.contains(\"Flag\")]\n",
    "\n",
    "containment_df = oxford_df[containment_policies].dropna(how=\"all\", axis=1)\n",
    "containment_flags_df = oxford_df[containment_flags].dropna(how=\"all\", axis=1)"
   ],
   "metadata": {
    "collapsed": false,
    "pycharm": {
     "name": "#%%\n",
     "is_executing": false
    }
   }
  },
  {
   "cell_type": "code",
   "execution_count": 9,
   "outputs": [],
   "source": [
    "containment_dict = {}\n",
    "\n",
    "for policy in containment_policies:\n",
    "    containment_dict[policy] = containment_df[policy]\n",
    "    "
   ],
   "metadata": {
    "collapsed": false,
    "pycharm": {
     "name": "#%%\n",
     "is_executing": false
    }
   }
  },
  {
   "cell_type": "code",
   "execution_count": 57,
   "metadata": {
    "pycharm": {
     "is_executing": false,
     "name": "#%%\n"
    }
   },
   "outputs": [],
   "source": [
    "epidemic = build_coronavirus_epidemic(**containment_dict)"
   ]
  },
  {
   "cell_type": "code",
   "execution_count": 17,
   "outputs": [
    {
     "data": {
      "text/plain": "region          otw_start  otw_end\nBelgium         43         50          0.436962\n                           57         16.714349\n                           64         13.507329\n                           71         10.348846\n                           78          9.748015\n                                        ...    \nUnited Kingdom  43         99          0.313585\n                           106         0.130449\n                           113         0.279397\n                           120         0.322359\n                           127         0.182358\nName: MTTF, Length: 188, dtype: float64"
     },
     "metadata": {},
     "output_type": "execute_result",
     "execution_count": 17
    }
   ],
   "source": [
    "df = pd.read_csv(DATA_ROOTPATH / \"oecd_outbreak_record.csv\", index_col=[1, 2, 3])\n",
    "\n",
    "Y = df[\"MTTF\"]\n",
    "\n",
    "Y\n"
   ],
   "metadata": {
    "collapsed": false,
    "pycharm": {
     "name": "#%%\n",
     "is_executing": false
    }
   }
  },
  {
   "cell_type": "code",
   "execution_count": 75,
   "outputs": [],
   "source": [
    "def build_policies(otw : OutbreakTimeWindow):\n",
    "    for policy in containment_policies:\n",
    "        outbreak_policy = otw[policy]\n",
    "        \n",
    "        print(outbreak_policy.shape)\n",
    "        \n",
    "        "
   ],
   "metadata": {
    "collapsed": false,
    "pycharm": {
     "name": "#%%\n",
     "is_executing": false
    }
   }
  },
  {
   "cell_type": "code",
   "execution_count": 76,
   "outputs": [
    {
     "name": "stdout",
     "text": [
      "Australia not in df\nAustria not in df\n(7,)\n(7,)\n(7,)\n(7,)\n(7,)\n(7,)\n(7,)\n(7,)\n(14,)\n(14,)\n(14,)\n(14,)\n(14,)\n(14,)\n(14,)\n(14,)\n(21,)\n(21,)\n(21,)\n(21,)\n(21,)\n(21,)\n(21,)\n(21,)\n(28,)\n(28,)\n(28,)\n(28,)\n(28,)\n(28,)\n(28,)\n(28,)\n(35,)\n(35,)\n(35,)\n(35,)\n(35,)\n(35,)\n(35,)\n(35,)\n(42,)\n(42,)\n(42,)\n(42,)\n(42,)\n(42,)\n(42,)\n(42,)\n(49,)\n(49,)\n(49,)\n(49,)\n(49,)\n(49,)\n(49,)\n(49,)\n(56,)\n(56,)\n(56,)\n(56,)\n(56,)\n(56,)\n(56,)\n(56,)\n(63,)\n(63,)\n(63,)\n(63,)\n(63,)\n(63,)\n(63,)\n(63,)\n(70,)\n(70,)\n(70,)\n(70,)\n(70,)\n(70,)\n(70,)\n(70,)\n(77,)\n(77,)\n(77,)\n(77,)\n(77,)\n(77,)\n(77,)\n(77,)\n(84,)\n(84,)\n(84,)\n(84,)\n(84,)\n(84,)\n(84,)\n(84,)\n"
     ],
     "output_type": "stream"
    }
   ],
   "source": [
    "        \n",
    "\n",
    "for region, outbreak in epidemic.get_outbreaks(OECD).items():\n",
    "    if region not in df.index.unique(level=0):\n",
    "        print(region, \"not in df\")\n",
    "        continue\n",
    "        \n",
    "    for otw in outbreak.expanding_windows():\n",
    "        row = df.loc[(region, otw.start, otw.end)]\n",
    "        individual_model = FatalityIndividualModel(parameters=row[[\"alpha\", \"beta\", \"eta\"]])\n",
    "        \n",
    "        model = AnalyticalPopulationModel(otw, individual_model=individual_model)\n",
    "        \n",
    "        build_policies(otw)\n",
    "        \n",
    "    break\n",
    "        \n",
    "\n"
   ],
   "metadata": {
    "collapsed": false,
    "pycharm": {
     "name": "#%%\n",
     "is_executing": false
    }
   }
  },
  {
   "cell_type": "code",
   "execution_count": 59,
   "outputs": [
    {
     "data": {
      "text/plain": "Dates\n0 days      0.0\n1 days      0.0\n2 days      0.0\n3 days      0.0\n4 days      0.0\n           ... \n128 days    2.0\n129 days    2.0\n130 days    2.0\n131 days    2.0\n132 days    2.0\nFreq: D, Name: Italy, Length: 133, dtype: float64"
     },
     "metadata": {},
     "output_type": "execute_result",
     "execution_count": 59
    }
   ],
   "source": [
    "epidemic.outbreaks[\"Italy\"].C1_School_closing"
   ],
   "metadata": {
    "collapsed": false,
    "pycharm": {
     "name": "#%%\n",
     "is_executing": false
    }
   }
  },
  {
   "cell_type": "code",
   "execution_count": null,
   "outputs": [],
   "source": [
    "\n"
   ],
   "metadata": {
    "collapsed": false,
    "pycharm": {
     "name": "#%%\n"
    }
   }
  }
 ],
 "metadata": {
  "kernelspec": {
   "display_name": "Python 3",
   "language": "python",
   "name": "python3"
  },
  "language_info": {
   "codemirror_mode": {
    "name": "ipython",
    "version": 3
   },
   "file_extension": ".py",
   "mimetype": "text/x-python",
   "name": "python",
   "nbconvert_exporter": "python",
   "pygments_lexer": "ipython3",
   "version": "3.8.2"
  },
  "pycharm": {
   "stem_cell": {
    "cell_type": "raw",
    "source": [],
    "metadata": {
     "collapsed": false
    }
   }
  }
 },
 "nbformat": 4,
 "nbformat_minor": 1
}