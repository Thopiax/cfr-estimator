{
 "cells": [
  {
   "cell_type": "markdown",
   "metadata": {},
   "source": [
    "# Coronavirus - Exploratory Analysis"
   ]
  },
  {
   "cell_type": "code",
   "execution_count": 16,
   "metadata": {},
   "outputs": [],
   "source": [
    "import pandas as pd\n",
    "import numpy as np\n",
    "import matplotlib.pyplot as plt\n",
    "import seaborn as sns\n",
    "\n",
    "import os, re, pickle\n",
    "\n",
    "from pydemic import Pandemic, Outbreak"
   ]
  },
  {
   "cell_type": "code",
   "execution_count": 17,
   "metadata": {},
   "outputs": [
    {
     "data": {
      "text/html": [
       "<style>.container { width:100% !important; }</style>"
      ],
      "text/plain": [
       "<IPython.core.display.HTML object>"
      ]
     },
     "metadata": {},
     "output_type": "display_data"
    }
   ],
   "source": [
    "from IPython.core.display import display, HTML\n",
    "display(HTML(\"<style>.container { width:100% !important; }</style>\"))\n",
    "\n",
    "plt.rcParams['figure.figsize']=[32,18]\n",
    "plt.rcParams['font.size']=22\n",
    "plt.rcParams['font.weight']='bold'\n",
    "plt.rcParams['axes.titlesize'] = 28\n",
    "plt.rcParams['axes.labelsize'] = 24\n",
    "\n",
    "plt.style.use('seaborn-whitegrid')"
   ]
  },
  {
   "cell_type": "code",
   "execution_count": 3,
   "metadata": {},
   "outputs": [],
   "source": [
    "%reload_ext autoreload\n",
    "%autoreload 2\n",
    "%matplotlib inline"
   ]
  },
  {
   "cell_type": "markdown",
   "metadata": {},
   "source": [
    "## Construct Pandemic"
   ]
  },
  {
   "cell_type": "code",
   "execution_count": 4,
   "metadata": {},
   "outputs": [],
   "source": [
    "coronavirus_confirmed_df = pd.read_csv(\"../data/clean/coronavirus_confirmed_global.csv\", index_col=0)\n",
    "coronavirus_death_df = pd.read_csv(\"../data/clean/coronavirus_death_global.csv\", index_col=0)\n",
    "coronavirus_recovered_df = pd.read_csv(\"../data/clean/coronavirus_recovered_global.csv\", index_col=0)\n",
    "\n",
    "pandemic = Pandemic(\"Coronavirus\", coronavirus_confirmed_df, coronavirus_death_df, coronavirus_recovered_df)"
   ]
  },
  {
   "cell_type": "markdown",
   "metadata": {},
   "source": [
    "### Save Outbreaks"
   ]
  },
  {
   "cell_type": "code",
   "execution_count": 5,
   "metadata": {},
   "outputs": [],
   "source": [
    "for outbreak in pandemic.outbreaks.values():\n",
    "    outbreak.save()"
   ]
  },
  {
   "cell_type": "markdown",
   "metadata": {},
   "source": [
    "## Analyze Data"
   ]
  },
  {
   "cell_type": "markdown",
   "metadata": {},
   "source": [
    "### Top Regions Coverage"
   ]
  },
  {
   "cell_type": "markdown",
   "metadata": {},
   "source": [
    "We have data available on 185 different regions (mostly representing countries). Of course, for a preliminary analysis, we don't want to necessarily consider all of these. We will therefore take a subset of top affected countries that represent a large enough coverage of the global pandemic. As of today (22 of April), the top 10 affected countries represent 2/3 of cases and 3/4ths of deaths. We consider this to be representative enough for the preliminary analysis and will proceed with this truncated dataset."
   ]
  },
  {
   "cell_type": "code",
   "execution_count": 8,
   "metadata": {},
   "outputs": [
    {
     "name": "stdout",
     "output_type": "stream",
     "text": [
      "Regions: US, Spain, Italy, United Kingdom, France, Germany, Russia, Turkey, Brazil, Canada\n",
      "Case coverage=66.26\n",
      "Death coverage=78.92\n",
      "Recovery coverage=58.60\n"
     ]
    }
   ],
   "source": [
    "top10_countries = pandemic.get_top_regions(top_n=10, exclude=[\"China\", \"Iran\"])\n",
    "pandemic.print_regions_coverage(top10_countries)"
   ]
  },
  {
   "cell_type": "code",
   "execution_count": 9,
   "metadata": {},
   "outputs": [
    {
     "name": "stdout",
     "output_type": "stream",
     "text": [
      "Regions: US, Spain, Italy, United Kingdom, France, Germany, Russia, Turkey, Brazil, Canada, Peru, Belgium, India, Netherlands, Ecuador, Saudi Arabia, Switzerland, Mexico, Portugal, Sweden\n",
      "Case coverage=79.77\n",
      "Death coverage=92.21\n",
      "Recovery coverage=77.69\n"
     ]
    }
   ],
   "source": [
    "top20_countries = pandemic.get_top_regions(top_n=20, exclude=[\"China\", \"Iran\"])\n",
    "pandemic.print_regions_coverage(top20_countries)"
   ]
  },
  {
   "cell_type": "code",
   "execution_count": 10,
   "metadata": {
    "scrolled": false
   },
   "outputs": [
    {
     "name": "stdout",
     "output_type": "stream",
     "text": [
      "Regions: US, Spain, Italy, United Kingdom, France, Germany, Russia, Turkey, Brazil, Iran, China, Canada, Peru, Belgium, India, Netherlands, Ecuador, Saudi Arabia, Switzerland, Mexico, Portugal, Sweden, Pakistan, Chile, Ireland, Singapore, Belarus, Qatar, Israel, Austria, Japan, United Arab Emirates, Poland, Romania, Ukraine, Indonesia, Bangladesh, Korea, South, Denmark, Philippines, Serbia, Colombia, Dominican Republic, Norway, Czechia, South Africa, Panama, Egypt, Australia, Malaysia\n",
      "Case coverage=95.04\n",
      "Death coverage=98.02\n",
      "Recovery coverage=94.17\n"
     ]
    }
   ],
   "source": [
    "top50_countries = pandemic.get_top_regions(top_n=50)\n",
    "pandemic.print_regions_coverage(top50_countries)"
   ]
  },
  {
   "cell_type": "code",
   "execution_count": 14,
   "metadata": {},
   "outputs": [],
   "source": [
    "top10_outbreaks = pandemic.get_outbreaks(top10_countries)"
   ]
  },
  {
   "cell_type": "markdown",
   "metadata": {},
   "source": [
    "### Smooth Curve Resampling\n",
    "\n",
    "Let the standard sampling size be of 3 days."
   ]
  },
  {
   "cell_type": "code",
   "execution_count": null,
   "metadata": {},
   "outputs": [],
   "source": [
    "def plot_different_sampling_sizes(outbreak, ax, sampling_sizes=[1, 2, 3, 7, 14]):\n",
    "    for k in [1, 2, 3, 7, 14]:\n",
    "        outbreak.smoothing_coefficient = k\n",
    "        \n",
    "        sns.lineplot(data=outbreak.smooth_fatality_curve.values, label=f\"{k} days\", ax=ax)"
   ]
  },
  {
   "cell_type": "code",
   "execution_count": null,
   "metadata": {},
   "outputs": [],
   "source": [
    "fig, axes = plt.subplots(nrows=5, ncols=2)\n",
    "\n",
    "for i, (region, outbreak) in enumerate(top10_outbreaks.items()):\n",
    "    ax = axes[i // 2][i % 2]\n",
    "    ax.set_title(outbreak.region)\n",
    "    plot_different_sampling_sizes(outbreak, ax)"
   ]
  },
  {
   "cell_type": "code",
   "execution_count": null,
   "metadata": {},
   "outputs": [],
   "source": []
  }
 ],
 "metadata": {
  "kernelspec": {
   "display_name": "Python [conda env:coronavirus]",
   "language": "python",
   "name": "conda-env-coronavirus-py"
  },
  "language_info": {
   "codemirror_mode": {
    "name": "ipython",
    "version": 3
   },
   "file_extension": ".py",
   "mimetype": "text/x-python",
   "name": "python",
   "nbconvert_exporter": "python",
   "pygments_lexer": "ipython3",
   "version": "3.8.2"
  }
 },
 "nbformat": 4,
 "nbformat_minor": 4
}
