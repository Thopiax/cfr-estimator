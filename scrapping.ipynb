{
 "cells": [
  {
   "cell_type": "code",
   "execution_count": 1,
   "metadata": {
    "collapsed": false,
    "inputHidden": false,
    "outputHidden": false
   },
   "outputs": [],
   "source": [
    "import pandas as pd\n",
    "import numpy as np\n",
    "import matplotlib.pyplot as plt\n",
    "\n",
    "import requests\n",
    "import urllib.request\n",
    "from bs4 import BeautifulSoup\n",
    "import csv\n",
    "\n",
    "import os\n",
    "import re\n",
    "\n",
    "import pickle"
   ]
  },
  {
   "cell_type": "markdown",
   "metadata": {},
   "source": [
    "# Scrapping Epidemic Data"
   ]
  },
  {
   "cell_type": "code",
   "execution_count": 2,
   "metadata": {
    "collapsed": false,
    "inputHidden": false,
    "outputHidden": false
   },
   "outputs": [],
   "source": [
    "EPIDEMICS = [\n",
    "    \"MERS\",\n",
    "    \"SARS\",\n",
    "    \"SWINE\",\n",
    "    \"MAD COW\",\n",
    "    \"EBOLA\",\n",
    "    \"INFLUENZA\"\n",
    "]"
   ]
  },
  {
   "cell_type": "code",
   "execution_count": 15,
   "metadata": {
    "collapsed": false,
    "inputHidden": false,
    "outputHidden": false
   },
   "outputs": [],
   "source": [
    "YEARS = range(2000, 2021)\n",
    "WHO_BASE_URL = \"https://www.who.int\""
   ]
  },
  {
   "cell_type": "markdown",
   "metadata": {},
   "source": [
    "## Archive WHO articles"
   ]
  },
  {
   "cell_type": "code",
   "execution_count": 129,
   "metadata": {
    "collapsed": false,
    "inputHidden": false,
    "outputHidden": false
   },
   "outputs": [],
   "source": [
    "def page_soup(url):\n",
    "    response = requests.get(url)\n",
    "    return BeautifulSoup(response.text, \"html.parser\")\n",
    "\n",
    "def archive_article(url, year, text):\n",
    "    safe_filename = url.replace(\"/\", \"_\")\n",
    "    \n",
    "    if os.path.isfile(f'data/{year}/{safe_filename}.html'):\n",
    "        return False\n",
    "    \n",
    "    with open(f'data/{year}/{safe_filename}.html', 'w') as file:\n",
    "        file.write(str(text))\n",
    "        \n",
    "    return True"
   ]
  },
  {
   "cell_type": "code",
   "execution_count": 77,
   "metadata": {
    "collapsed": false,
    "inputHidden": false,
    "outputHidden": false
   },
   "outputs": [],
   "source": [
    "def archive_year_epidemic_dons(year):\n",
    "    year_url = f\"{WHO_BASE_URL}/csr/don/archive/year/{year}/en/\"\n",
    "    \n",
    "    if not os.path.isdir(f'data/{year}'):\n",
    "        os.mkdir(f'data/{year}')\n",
    "    \n",
    "    year_archive = page_soup(year_url).find(\"ul\", {\"class\": \"auto_archive\"})\n",
    "    \n",
    "    for article_link in year_archive.findAll('a'):\n",
    "        soup = page_soup(WHO_BASE_URL + article_link['href'])\n",
    "        \n",
    "        article_text = soup.find(\"div\", {\"id\": \"primary\"})\n",
    "        \n",
    "        if not archive_article(article_link['href'], year, article_text):\n",
    "            print(f'Article {article_link[\"href\"]} archive already exists.')\n",
    "            continue\n",
    "        \n",
    "    return True"
   ]
  },
  {
   "cell_type": "code",
   "execution_count": 78,
   "metadata": {
    "collapsed": false,
    "inputHidden": false,
    "outputHidden": false
   },
   "outputs": [
    {
     "name": "stdout",
     "output_type": "stream",
     "text": [
      "Running for 2000.\n",
      "Running for 2001.\n",
      "Running for 2002.\n",
      "Running for 2003.\n",
      "Article /csr/don/2003_06_17a/en/ archive already exists.\n",
      "Running for 2004.\n",
      "Running for 2005.\n",
      "Running for 2006.\n",
      "Running for 2007.\n",
      "Running for 2008.\n",
      "Running for 2009.\n",
      "Running for 2010.\n",
      "Running for 2011.\n",
      "Running for 2012.\n",
      "Running for 2013.\n",
      "Running for 2014.\n",
      "Running for 2015.\n",
      "Running for 2016.\n",
      "Running for 2017.\n",
      "Running for 2018.\n",
      "Running for 2019.\n"
     ]
    }
   ],
   "source": [
    "for year in YEARS:\n",
    "    print(f\"Running for {year}.\")\n",
    "    archive_year_epidemic_dons(year)"
   ]
  },
  {
   "cell_type": "markdown",
   "metadata": {},
   "source": [
    "## Analyze Archive"
   ]
  },
  {
   "cell_type": "code",
   "execution_count": 186,
   "metadata": {},
   "outputs": [],
   "source": [
    "date_pattern = re.compile(\"([0-9]{4}_[0-9]+_[0-9]+|[0-9]+\\-[a-zA-Z]+\\-[0-9]{4})\")\n",
    "\n",
    "def parse_filename_date(filename):\n",
    "    date_str = re.search(date_pattern, filename).group().replace(\"_\", \"/\")\n",
    "    \n",
    "    return pd.to_datetime(date_str)"
   ]
  },
  {
   "cell_type": "code",
   "execution_count": 189,
   "metadata": {},
   "outputs": [],
   "source": [
    "for year in YEARS:\n",
    "    for filename in os.listdir(f'data/{year}'):\n",
    "        with open(f'data/{year}/{filename}', \"r\") as file:\n",
    "            article_date = parse_filename_date(filename)\n",
    "            article_text = BeautifulSoup(file.read(), \"html.parser\")"
   ]
  },
  {
   "cell_type": "markdown",
   "metadata": {},
   "source": [
    "## MERS\n",
    "\n",
    "There is a lot of Excel data available on MERS outbreaks throughout the years. We should split each outbreak and analyze them seperately. This will be especially useful when reconciling separate excel files into one."
   ]
  },
  {
   "cell_type": "code",
   "execution_count": 3,
   "metadata": {},
   "outputs": [],
   "source": [
    "MERS_excels = None\n",
    "with open(\"data/MERS_excels.pk\", \"rb\") as file:\n",
    "    MERS_excels = pickle.load(file)"
   ]
  },
  {
   "cell_type": "markdown",
   "metadata": {},
   "source": [
    "### South Korea 2015\n",
    "\n",
    "The MERS outbreak of 2015 in South Korea is the first set of data available. Upon initial inspection of the files, it becomes clear that these build on top of each other and therefore there's no need to aggregate all of them. Instead, we can just consider the last record available containing 188 patient records."
   ]
  },
  {
   "cell_type": "code",
   "execution_count": 453,
   "metadata": {},
   "outputs": [],
   "source": [
    "south_korea_url = MERS_excels[0]"
   ]
  },
  {
   "cell_type": "code",
   "execution_count": 454,
   "metadata": {},
   "outputs": [
    {
     "data": {
      "text/plain": [
       "'https://www.who.int/csr/disease/coronavirus_infections/MERS-CoV-cases-rok-21Jul15.xlsx'"
      ]
     },
     "execution_count": 454,
     "metadata": {},
     "output_type": "execute_result"
    }
   ],
   "source": [
    "south_korea_url"
   ]
  },
  {
   "cell_type": "code",
   "execution_count": 467,
   "metadata": {},
   "outputs": [],
   "source": [
    "south_korea_df = pd.read_excel(south_korea_url, header=3)"
   ]
  },
  {
   "cell_type": "markdown",
   "metadata": {},
   "source": [
    "#### Create Infection Date column"
   ]
  },
  {
   "cell_type": "code",
   "execution_count": 471,
   "metadata": {},
   "outputs": [],
   "source": [
    "date_columns = [\n",
    "    \"Date of symptoms onset\", \n",
    "    \"Date of first hospitalization\",\n",
    "    \"Date of laboratory confirmation\",\n",
    "    \"Date of outcome\"\n",
    "]"
   ]
  },
  {
   "cell_type": "code",
   "execution_count": 472,
   "metadata": {},
   "outputs": [],
   "source": [
    "for col in date_columns:\n",
    "    south_korea_df[col] = pd.to_datetime(south_korea_df[col], errors='coerce')"
   ]
  },
  {
   "cell_type": "code",
   "execution_count": 473,
   "metadata": {},
   "outputs": [],
   "source": [
    "south_korea_df[\"Date of infection\"] = south_korea_df[\"Date of symptoms onset\"]\n",
    "# first fallback: first hospitalization\n",
    "south_korea_df.loc[south_korea_df[\"Date of infection\"].isna(), \"Date of infection\"] = south_korea_df.loc[south_korea_df[\"Date of infection\"].isna(), \"Date of first hospitalization\"]\n",
    "# second fallback: laboratory confirmation\n",
    "south_korea_df.loc[south_korea_df[\"Date of infection\"].isna(), \"Date of infection\"] = south_korea_df.loc[south_korea_df[\"Date of infection\"].isna(), \"Date of laboratory confirmation\"]"
   ]
  },
  {
   "cell_type": "code",
   "execution_count": 476,
   "metadata": {},
   "outputs": [
    {
     "data": {
      "text/plain": [
       "(185, 4)"
      ]
     },
     "execution_count": 476,
     "metadata": {},
     "output_type": "execute_result"
    }
   ],
   "source": [
    "irrelevant_columns = [\n",
    "    \"Case no.\",\n",
    "    \"Age\",\n",
    "    \"Sex\",\n",
    "    \"Health care worker\",\n",
    "    \"Comorbidities\",\n",
    "    \"Date of symptoms onset\", \n",
    "    \"Date of first hospitalization\",\n",
    "    \"Date of laboratory confirmation\"\n",
    "]\n",
    "\n",
    "reduced_df = south_korea_df.drop(columns=irrelevant_columns)\\\n",
    "                           .rename({\"Date of notification to WHO\": \"Last updated\", \"Status\": \"Outcome\"}, axis=1)\\\n",
    "                           .reset_index(drop=True)\n",
    "\n",
    "reduced_df.columns.name = \"\"\n",
    "reduced_df = reduced_df[[\"Date of infection\", \"Outcome\", \"Date of outcome\", \"Last updated\"]]\n",
    "\n",
    "reduced_df.shape"
   ]
  },
  {
   "cell_type": "code",
   "execution_count": 477,
   "metadata": {},
   "outputs": [],
   "source": [
    "reduced_df.to_csv('data/MERS/MERS_south_korea_patients.csv')"
   ]
  },
  {
   "cell_type": "markdown",
   "metadata": {},
   "source": [
    "#### Create Timeline"
   ]
  },
  {
   "cell_type": "code",
   "execution_count": 478,
   "metadata": {},
   "outputs": [],
   "source": [
    "def build_timeline(df):\n",
    "    infection_cumsum = df.groupby(df['Date of infection'].dt.date).size().cumsum()\n",
    "    death_cumsum = df[df['Outcome'] == 'Deceased'].groupby(df['Date of outcome'].dt.date).size().cumsum()\n",
    "    \n",
    "    index_union = death_cumsum.index.union(infection_cumsum.index)\n",
    "    \n",
    "    return pd.DataFrame({\n",
    "        \"Infected\": infection_cumsum, \n",
    "        \"Dead\": death_cumsum\n",
    "    }, index=index_union).fillna(method='ffill').fillna(0).astype('int64')"
   ]
  },
  {
   "cell_type": "code",
   "execution_count": 479,
   "metadata": {},
   "outputs": [],
   "source": [
    "timeline_df = build_timeline(reduced_df)"
   ]
  },
  {
   "cell_type": "code",
   "execution_count": 480,
   "metadata": {},
   "outputs": [],
   "source": [
    "timeline_df.to_csv('data/MERS/MERS_south_korea_timeline.csv')"
   ]
  },
  {
   "cell_type": "markdown",
   "metadata": {},
   "source": [
    "### Middle East 2017-2019\n",
    "\n",
    "This is the other major outbreak happened in the Middle East from early 2017 on. All remaining records seem to involved this outbreak."
   ]
  },
  {
   "cell_type": "code",
   "execution_count": 492,
   "metadata": {},
   "outputs": [
    {
     "data": {
      "text/plain": [
       "(6862, 17)"
      ]
     },
     "execution_count": 492,
     "metadata": {},
     "output_type": "execute_result"
    }
   ],
   "source": [
    "if os.path.isfile('data/MERS/MERS_middle_east_raw.csv'):\n",
    "    middle_east_df = pd.read_csv('data/MERS/middle_east/raw.csv', index_col=0)\n",
    "else:\n",
    "    middle_east_df = pd.concat([pd.read_excel(url, header=None) for url in MERS_excels[9:]], sort=False).reset_index(drop=True)\n",
    "    \n",
    "    middle_east_df.to_csv('data/MERS/MERS_middle_east_raw.csv')\n",
    "    \n",
    "middle_east_df.shape"
   ]
  },
  {
   "cell_type": "markdown",
   "metadata": {},
   "source": [
    "### Clean DataFrame"
   ]
  },
  {
   "cell_type": "markdown",
   "metadata": {},
   "source": [
    "#### Drop Filler Rows\n",
    "\n",
    "Most excel files contain many filler rows (for descriptions and explanations) that we need to ignore in our analysis. The threshold 2 was selected by iterative selection."
   ]
  },
  {
   "cell_type": "code",
   "execution_count": 493,
   "metadata": {},
   "outputs": [
    {
     "data": {
      "text/plain": [
       "(4472, 17)"
      ]
     },
     "execution_count": 493,
     "metadata": {},
     "output_type": "execute_result"
    }
   ],
   "source": [
    "middle_east_df = middle_east_df.dropna(thresh=2)\n",
    "\n",
    "middle_east_df.shape"
   ]
  },
  {
   "cell_type": "markdown",
   "metadata": {},
   "source": [
    "#### Drop Duplicates"
   ]
  },
  {
   "cell_type": "code",
   "execution_count": 494,
   "metadata": {},
   "outputs": [],
   "source": [
    "middle_east_df = middle_east_df.drop_duplicates()"
   ]
  },
  {
   "cell_type": "code",
   "execution_count": 495,
   "metadata": {},
   "outputs": [
    {
     "data": {
      "text/plain": [
       "(613, 17)"
      ]
     },
     "execution_count": 495,
     "metadata": {},
     "output_type": "execute_result"
    }
   ],
   "source": [
    "middle_east_df.shape"
   ]
  },
  {
   "cell_type": "markdown",
   "metadata": {},
   "source": [
    "#### Remove header rows\n",
    "\n",
    "Before performing any further action, we must keep track of column names so we use one of these rows as our default columns for the DataFrame.\n",
    "\n",
    "In order to remove header rows, we must find a column with a consistent value type across all reports. Initially, we thought that the first column (usually named \"Case no.\") would solve our issue. As it turns out, there are some issues with this column so we move on to the next one (normally called \"Date of notification to WHO (yyyy/mm/dd)\"). Using this column removes a total of 5 rows from the DataFrame."
   ]
  },
  {
   "cell_type": "code",
   "execution_count": 496,
   "metadata": {},
   "outputs": [],
   "source": [
    "middle_east_df.columns = middle_east_df.iloc[0].tolist()"
   ]
  },
  {
   "cell_type": "code",
   "execution_count": 497,
   "metadata": {},
   "outputs": [],
   "source": [
    "middle_east_df['Date of notification to WHO (yyyy/mm/dd)'] = pd.to_datetime(middle_east_df['Date of notification to WHO (yyyy/mm/dd)'], errors='coerce')"
   ]
  },
  {
   "cell_type": "code",
   "execution_count": 498,
   "metadata": {},
   "outputs": [
    {
     "data": {
      "text/html": [
       "<div>\n",
       "<style scoped>\n",
       "    .dataframe tbody tr th:only-of-type {\n",
       "        vertical-align: middle;\n",
       "    }\n",
       "\n",
       "    .dataframe tbody tr th {\n",
       "        vertical-align: top;\n",
       "    }\n",
       "\n",
       "    .dataframe thead th {\n",
       "        text-align: right;\n",
       "    }\n",
       "</style>\n",
       "<table border=\"1\" class=\"dataframe\">\n",
       "  <thead>\n",
       "    <tr style=\"text-align: right;\">\n",
       "      <th></th>\n",
       "      <th>Case no.</th>\n",
       "      <th>Date of notification to WHO (yyyy/mm/dd)</th>\n",
       "      <th>Reporting country</th>\n",
       "      <th>City of residence</th>\n",
       "      <th>Age</th>\n",
       "      <th>Sex</th>\n",
       "      <th>Health care worker</th>\n",
       "      <th>Comorbidities</th>\n",
       "      <th>Exposure to camels</th>\n",
       "      <th>Camel milk consumption</th>\n",
       "      <th>Exposure to MERS-CoV cases</th>\n",
       "      <th>Date of symptoms onset (yyyy/mm/dd)</th>\n",
       "      <th>Date of first hospitalization (yyyy/mm/dd)</th>\n",
       "      <th>Date of laboratory confirmation (yyyy/mm/dd)</th>\n",
       "      <th>Status</th>\n",
       "      <th>Date of outcome (yyyy/mm/dd)</th>\n",
       "      <th>Last updated</th>\n",
       "    </tr>\n",
       "  </thead>\n",
       "  <tbody>\n",
       "    <tr>\n",
       "      <th>4</th>\n",
       "      <td>Case no.</td>\n",
       "      <td>NaT</td>\n",
       "      <td>Reporting country</td>\n",
       "      <td>City of residence</td>\n",
       "      <td>Age</td>\n",
       "      <td>Sex</td>\n",
       "      <td>Health care worker</td>\n",
       "      <td>Comorbidities</td>\n",
       "      <td>Exposure to camels</td>\n",
       "      <td>Camel milk consumption</td>\n",
       "      <td>Exposure to MERS-CoV cases</td>\n",
       "      <td>Date of symptoms onset (yyyy/mm/dd)</td>\n",
       "      <td>Date of first hospitalization (yyyy/mm/dd)</td>\n",
       "      <td>Date of laboratory confirmation (yyyy/mm/dd)</td>\n",
       "      <td>Status</td>\n",
       "      <td>Date of outcome (yyyy/mm/dd)</td>\n",
       "      <td>Last updated</td>\n",
       "    </tr>\n",
       "    <tr>\n",
       "      <th>5027</th>\n",
       "      <td>Case no.</td>\n",
       "      <td>NaT</td>\n",
       "      <td>Reporting country</td>\n",
       "      <td>City of residence</td>\n",
       "      <td>Age</td>\n",
       "      <td>Sex</td>\n",
       "      <td>Health care worker</td>\n",
       "      <td>Comorbidities</td>\n",
       "      <td>Exposure to camels</td>\n",
       "      <td>Camel milk consumption</td>\n",
       "      <td>Exposure to MERS-CoV cases</td>\n",
       "      <td>Date of symptoms onset (yyyy/mm/dd)</td>\n",
       "      <td>Date of first hospitalization (yyyy/mm/dd)</td>\n",
       "      <td>Date of laboratory confirmation (yyyy/mm/dd)</td>\n",
       "      <td>Status</td>\n",
       "      <td>Date of outcome (yyyy/mm/dd)</td>\n",
       "      <td>NaN</td>\n",
       "    </tr>\n",
       "    <tr>\n",
       "      <th>5041</th>\n",
       "      <td>Case no.</td>\n",
       "      <td>NaT</td>\n",
       "      <td>Reporting country</td>\n",
       "      <td>Region of residence</td>\n",
       "      <td>Age</td>\n",
       "      <td>Sex</td>\n",
       "      <td>Health care worker</td>\n",
       "      <td>Comorbidities</td>\n",
       "      <td>Exposure to camels</td>\n",
       "      <td>Camel milk consumption</td>\n",
       "      <td>Contact with a MERS-CoV cases</td>\n",
       "      <td>Date of symptoms onset (yyyy/mm/dd)</td>\n",
       "      <td>Date of first hospitalization (yyyy/mm/dd)</td>\n",
       "      <td>Date of laboratory confirmation (yyyy/mm/dd)</td>\n",
       "      <td>Status</td>\n",
       "      <td>Date of outcome (yyyy/mm/dd)</td>\n",
       "      <td>Last updated</td>\n",
       "    </tr>\n",
       "    <tr>\n",
       "      <th>5056</th>\n",
       "      <td>Case no.</td>\n",
       "      <td>NaT</td>\n",
       "      <td>Reporting country</td>\n",
       "      <td>Region of residence</td>\n",
       "      <td>Age</td>\n",
       "      <td>Sex</td>\n",
       "      <td>Health care worker</td>\n",
       "      <td>Comorbidities</td>\n",
       "      <td>Exposure to camels</td>\n",
       "      <td>Camel milk consumption</td>\n",
       "      <td>Contact with a MERS-CoV cases</td>\n",
       "      <td>Date of symptoms onset (yyyy/mm/dd)</td>\n",
       "      <td>Date of first hospitalization (yyyy/mm/dd)</td>\n",
       "      <td>Date of laboratory confirmation (yyyy/mm/dd)</td>\n",
       "      <td>Status</td>\n",
       "      <td>Date of outcome (yyyy/mm/dd)</td>\n",
       "      <td>Last updated</td>\n",
       "    </tr>\n",
       "    <tr>\n",
       "      <th>5080</th>\n",
       "      <td>NaN</td>\n",
       "      <td>NaT</td>\n",
       "      <td>Age</td>\n",
       "      <td>Gender</td>\n",
       "      <td>National</td>\n",
       "      <td>Healthcare  Worker</td>\n",
       "      <td>Region</td>\n",
       "      <td>City</td>\n",
       "      <td>Onset Date</td>\n",
       "      <td>Admission Date</td>\n",
       "      <td>Co-morbidity</td>\n",
       "      <td>Exposure to Dromedary</td>\n",
       "      <td>Symptomatic</td>\n",
       "      <td>Outcome</td>\n",
       "      <td>Date of Death</td>\n",
       "      <td>NaN</td>\n",
       "      <td>NaN</td>\n",
       "    </tr>\n",
       "    <tr>\n",
       "      <th>6767</th>\n",
       "      <td>Case no.</td>\n",
       "      <td>NaT</td>\n",
       "      <td>Reporting country</td>\n",
       "      <td>Region of residence</td>\n",
       "      <td>Age</td>\n",
       "      <td>Sex</td>\n",
       "      <td>Health care worker</td>\n",
       "      <td>Comorbidities</td>\n",
       "      <td>Exposure to camels</td>\n",
       "      <td>Camel milk consumption</td>\n",
       "      <td>Exposure to MERS-CoV cases</td>\n",
       "      <td>Date of symptoms onset (yyyy/mm/dd)</td>\n",
       "      <td>Date of first hospitalization (yyyy/mm/dd)</td>\n",
       "      <td>Date of laboratory confirmation (yyyy/mm/dd)</td>\n",
       "      <td>Status</td>\n",
       "      <td>Date of outcome (yyyy/mm/dd)</td>\n",
       "      <td>Last updated</td>\n",
       "    </tr>\n",
       "  </tbody>\n",
       "</table>\n",
       "</div>"
      ],
      "text/plain": [
       "      Case no. Date of notification to WHO (yyyy/mm/dd)  Reporting country  \\\n",
       "4     Case no.                                      NaT  Reporting country   \n",
       "5027  Case no.                                      NaT  Reporting country   \n",
       "5041  Case no.                                      NaT  Reporting country   \n",
       "5056  Case no.                                      NaT  Reporting country   \n",
       "5080       NaN                                      NaT                Age   \n",
       "6767  Case no.                                      NaT  Reporting country   \n",
       "\n",
       "        City of residence        Age                 Sex  Health care worker  \\\n",
       "4       City of residence        Age                 Sex  Health care worker   \n",
       "5027    City of residence        Age                 Sex  Health care worker   \n",
       "5041  Region of residence        Age                 Sex  Health care worker   \n",
       "5056  Region of residence        Age                 Sex  Health care worker   \n",
       "5080               Gender  National   Healthcare  Worker              Region   \n",
       "6767  Region of residence        Age                 Sex  Health care worker   \n",
       "\n",
       "      Comorbidities  Exposure to camels  Camel milk consumption  \\\n",
       "4     Comorbidities  Exposure to camels  Camel milk consumption   \n",
       "5027  Comorbidities  Exposure to camels  Camel milk consumption   \n",
       "5041  Comorbidities  Exposure to camels  Camel milk consumption   \n",
       "5056  Comorbidities  Exposure to camels  Camel milk consumption   \n",
       "5080           City          Onset Date          Admission Date   \n",
       "6767  Comorbidities  Exposure to camels  Camel milk consumption   \n",
       "\n",
       "         Exposure to MERS-CoV cases  Date of symptoms onset (yyyy/mm/dd)  \\\n",
       "4        Exposure to MERS-CoV cases  Date of symptoms onset (yyyy/mm/dd)   \n",
       "5027     Exposure to MERS-CoV cases  Date of symptoms onset (yyyy/mm/dd)   \n",
       "5041  Contact with a MERS-CoV cases  Date of symptoms onset (yyyy/mm/dd)   \n",
       "5056  Contact with a MERS-CoV cases  Date of symptoms onset (yyyy/mm/dd)   \n",
       "5080                   Co-morbidity                Exposure to Dromedary   \n",
       "6767     Exposure to MERS-CoV cases  Date of symptoms onset (yyyy/mm/dd)   \n",
       "\n",
       "      Date of first hospitalization (yyyy/mm/dd)  \\\n",
       "4     Date of first hospitalization (yyyy/mm/dd)   \n",
       "5027  Date of first hospitalization (yyyy/mm/dd)   \n",
       "5041  Date of first hospitalization (yyyy/mm/dd)   \n",
       "5056  Date of first hospitalization (yyyy/mm/dd)   \n",
       "5080                                 Symptomatic   \n",
       "6767  Date of first hospitalization (yyyy/mm/dd)   \n",
       "\n",
       "      Date of laboratory confirmation (yyyy/mm/dd)         Status  \\\n",
       "4     Date of laboratory confirmation (yyyy/mm/dd)         Status   \n",
       "5027  Date of laboratory confirmation (yyyy/mm/dd)         Status   \n",
       "5041  Date of laboratory confirmation (yyyy/mm/dd)         Status   \n",
       "5056  Date of laboratory confirmation (yyyy/mm/dd)         Status   \n",
       "5080                                      Outcome   Date of Death   \n",
       "6767  Date of laboratory confirmation (yyyy/mm/dd)         Status   \n",
       "\n",
       "      Date of outcome (yyyy/mm/dd)  Last updated  \n",
       "4     Date of outcome (yyyy/mm/dd)  Last updated  \n",
       "5027  Date of outcome (yyyy/mm/dd)           NaN  \n",
       "5041  Date of outcome (yyyy/mm/dd)  Last updated  \n",
       "5056  Date of outcome (yyyy/mm/dd)  Last updated  \n",
       "5080                           NaN           NaN  \n",
       "6767  Date of outcome (yyyy/mm/dd)  Last updated  "
      ]
     },
     "execution_count": 498,
     "metadata": {},
     "output_type": "execute_result"
    }
   ],
   "source": [
    "middle_east_df[middle_east_df['Date of notification to WHO (yyyy/mm/dd)'].isna()]"
   ]
  },
  {
   "cell_type": "code",
   "execution_count": 499,
   "metadata": {},
   "outputs": [
    {
     "data": {
      "text/plain": [
       "(607, 17)"
      ]
     },
     "execution_count": 499,
     "metadata": {},
     "output_type": "execute_result"
    }
   ],
   "source": [
    "middle_east_df = middle_east_df.dropna(subset=['Date of notification to WHO (yyyy/mm/dd)'])\n",
    "\n",
    "middle_east_df.shape"
   ]
  },
  {
   "cell_type": "markdown",
   "metadata": {},
   "source": [
    "There seems to be one report that was formatted differently than all other ones (as can be seen above in row #332). For this case, we will have to manually assign the values to the correct columns using the column names shown above and hope that it fixes it."
   ]
  },
  {
   "cell_type": "code",
   "execution_count": 500,
   "metadata": {},
   "outputs": [],
   "source": [
    "misformatted_row_indexes = middle_east_df[middle_east_df['Reporting country'].str.isnumeric()].index"
   ]
  },
  {
   "cell_type": "code",
   "execution_count": 501,
   "metadata": {},
   "outputs": [],
   "source": [
    "misformatted_df = middle_east_df.loc[misformatted_row_indexes].copy()"
   ]
  },
  {
   "cell_type": "code",
   "execution_count": 502,
   "metadata": {},
   "outputs": [],
   "source": [
    "misformatted_df['Reporting country'] = 'Saudi Arabia'\n",
    "misformatted_df['City of residence'] = middle_east_df.loc[misformatted_row_indexes]['Comorbidities']\n",
    "misformatted_df['Age'] = middle_east_df.loc[misformatted_row_indexes]['Reporting country']\n",
    "misformatted_df['Sex'] = middle_east_df.loc[misformatted_row_indexes]['City of residence']\n",
    "misformatted_df['Health care worker'] = middle_east_df.loc[misformatted_row_indexes]['Sex']\n",
    "misformatted_df['Comorbidities'] = middle_east_df.loc[misformatted_row_indexes]['Exposure to MERS-CoV cases']\n",
    "misformatted_df['Exposure to camels'] = middle_east_df.loc[misformatted_row_indexes]['Date of symptoms onset (yyyy/mm/dd)']\n",
    "misformatted_df['Status'] = middle_east_df.loc[misformatted_row_indexes]['Date of laboratory confirmation (yyyy/mm/dd)']\n",
    "misformatted_df['Date of symptoms onset (yyyy/mm/dd)'] = middle_east_df.loc[misformatted_row_indexes]['Exposure to camels']\n",
    "misformatted_df['Date of outcome (yyyy/mm/dd)'] = middle_east_df.loc[misformatted_row_indexes]['Status']\n",
    "misformatted_df['Date of first hospitalization (yyyy/mm/dd)'] = middle_east_df.loc[misformatted_row_indexes]['Camel milk consumption']\n",
    "misformatted_df['Date of laboratory confirmation (yyyy/mm/dd)'] = np.nan"
   ]
  },
  {
   "cell_type": "code",
   "execution_count": 503,
   "metadata": {},
   "outputs": [],
   "source": [
    "middle_east_df.loc[misformatted_row_indexes, :] = misformatted_df"
   ]
  },
  {
   "cell_type": "markdown",
   "metadata": {},
   "source": [
    "#### Reformat Identifier Columns"
   ]
  },
  {
   "cell_type": "code",
   "execution_count": 379,
   "metadata": {},
   "outputs": [],
   "source": [
    "middle_east_df.replace({\n",
    "    \"male\": \"M\",\n",
    "    \"female\": \"F\",\n",
    "    \"Alive \": \"Alive\",\n",
    "    \"Survivied \": \"Survived\",\n",
    "    \"Recovered\": \"Survived\",\n",
    "    \"Died\": \"Deceased\"\n",
    "}, inplace=True)"
   ]
  },
  {
   "cell_type": "markdown",
   "metadata": {},
   "source": [
    "#### Sort DataFrame chronologically\n",
    "\n",
    "Firstly, we need to handle the cases of empty Last updated value. We will consider the date of notification to be this last update."
   ]
  },
  {
   "cell_type": "code",
   "execution_count": 380,
   "metadata": {},
   "outputs": [],
   "source": [
    "middle_east_df.loc[:, \"Last updated\"] = pd.to_datetime(middle_east_df[\"Last updated\"], errors='coerce')"
   ]
  },
  {
   "cell_type": "code",
   "execution_count": 381,
   "metadata": {},
   "outputs": [],
   "source": [
    "nan_last_updated_mask = middle_east_df[middle_east_df[\"Last updated\"].isna()].index"
   ]
  },
  {
   "cell_type": "code",
   "execution_count": 382,
   "metadata": {},
   "outputs": [],
   "source": [
    "middle_east_df.loc[nan_last_updated_mask, \"Last updated\"] = middle_east_df.loc[nan_last_updated_mask, \"Date of notification to WHO (yyyy/mm/dd)\"]"
   ]
  },
  {
   "cell_type": "code",
   "execution_count": 383,
   "metadata": {},
   "outputs": [],
   "source": [
    "middle_east_df = middle_east_df.sort_values(by='Last updated').reset_index(drop=True)"
   ]
  },
  {
   "cell_type": "markdown",
   "metadata": {},
   "source": [
    "#### Remove duplicate patients\n",
    "\n",
    "First, we remove duplicated patients by their quasi-identifiers (defined below) including their `\"Status\"`. This allows us to remove those duplicates that occur due to an update (with no changes)."
   ]
  },
  {
   "cell_type": "code",
   "execution_count": 384,
   "metadata": {},
   "outputs": [],
   "source": [
    "quasi_identifiers = [\n",
    "    \"Date of notification to WHO (yyyy/mm/dd)\", \n",
    "    \"Reporting country\", \n",
    "    \"City of residence\", \n",
    "    \"Age\", \n",
    "    \"Sex\", \n",
    "    \"Date of symptoms onset (yyyy/mm/dd)\", \n",
    "    \"Date of first hospitalization (yyyy/mm/dd)\"\n",
    "]"
   ]
  },
  {
   "cell_type": "code",
   "execution_count": 385,
   "metadata": {},
   "outputs": [
    {
     "data": {
      "text/plain": [
       "(574, 17)"
      ]
     },
     "execution_count": 385,
     "metadata": {},
     "output_type": "execute_result"
    }
   ],
   "source": [
    "middle_east_df = middle_east_df.drop_duplicates(keep='last', subset=(quasi_identifiers + [\"Status\"]))\n",
    "\n",
    "middle_east_df.shape"
   ]
  },
  {
   "cell_type": "markdown",
   "metadata": {},
   "source": [
    "Next, we look at duplicated patients given their `quasi_identifiers` and keep the most up-to-date record for each patient."
   ]
  },
  {
   "cell_type": "code",
   "execution_count": 386,
   "metadata": {},
   "outputs": [
    {
     "data": {
      "text/plain": [
       "(546, 17)"
      ]
     },
     "execution_count": 386,
     "metadata": {},
     "output_type": "execute_result"
    }
   ],
   "source": [
    "middle_east_df = middle_east_df.drop_duplicates(keep='last', subset=quasi_identifiers)\n",
    "\n",
    "middle_east_df.shape"
   ]
  },
  {
   "cell_type": "markdown",
   "metadata": {},
   "source": [
    "We will now assumed that all other patients whose `\"Status\"` is `Alive` have gone on to survive the disease. Therefore, we can relabel them as `Survived`"
   ]
  },
  {
   "cell_type": "code",
   "execution_count": 387,
   "metadata": {},
   "outputs": [],
   "source": [
    "middle_east_df.replace({\"Alive\": \"Survived\"}, inplace=True)"
   ]
  },
  {
   "cell_type": "markdown",
   "metadata": {},
   "source": [
    "#### Drop unconfirmed cases\n",
    "\n",
    "There are 48 patients for which the laboratory confirmation date is empty. This number is non-negligeable for the scale of data available, but we should still drop these as we can't be sure that they represent people who were actually infected."
   ]
  },
  {
   "cell_type": "code",
   "execution_count": 388,
   "metadata": {},
   "outputs": [],
   "source": [
    "middle_east_df = middle_east_df[~middle_east_df[\"Date of laboratory confirmation (yyyy/mm/dd)\"].isna()]"
   ]
  },
  {
   "cell_type": "code",
   "execution_count": 389,
   "metadata": {},
   "outputs": [
    {
     "data": {
      "text/plain": [
       "(499, 17)"
      ]
     },
     "execution_count": 389,
     "metadata": {},
     "output_type": "execute_result"
    }
   ],
   "source": [
    "middle_east_df.shape"
   ]
  },
  {
   "cell_type": "markdown",
   "metadata": {},
   "source": [
    "#### Create Infection Date column\n",
    "\n",
    "First, we want to convert all dates into datetime types and drop any unconfirmed cases (there are only 48 of them)."
   ]
  },
  {
   "cell_type": "code",
   "execution_count": 390,
   "metadata": {},
   "outputs": [],
   "source": [
    "date_columns = [\n",
    "    \"Date of symptoms onset (yyyy/mm/dd)\", \n",
    "    \"Date of first hospitalization (yyyy/mm/dd)\",\n",
    "    \"Date of laboratory confirmation (yyyy/mm/dd)\",\n",
    "    \"Date of outcome (yyyy/mm/dd)\"\n",
    "]"
   ]
  },
  {
   "cell_type": "code",
   "execution_count": 391,
   "metadata": {},
   "outputs": [],
   "source": [
    "for col in date_columns:\n",
    "    middle_east_df[col] = pd.to_datetime(middle_east_df[col], errors='coerce')"
   ]
  },
  {
   "cell_type": "markdown",
   "metadata": {},
   "source": [
    "Next, we want to define a new column that will be used to simplify and unify the three different infection related date columns. We will prioritize the symptoms column as our main infection start column (even when there is no laboratory confirmation). For null values, we will fallback to the first hospitalization and then laboratory confirmation."
   ]
  },
  {
   "cell_type": "code",
   "execution_count": 392,
   "metadata": {},
   "outputs": [],
   "source": [
    "middle_east_df[\"Date of infection\"] = middle_east_df[\"Date of symptoms onset (yyyy/mm/dd)\"]\n",
    "# first fallback: first hospitalization\n",
    "middle_east_df.loc[middle_east_df[\"Date of infection\"].isna(), \"Date of infection\"] = middle_east_df.loc[middle_east_df[\"Date of infection\"].isna(), \"Date of first hospitalization (yyyy/mm/dd)\"]\n",
    "# second fallback: laboratory confirmation\n",
    "middle_east_df.loc[middle_east_df[\"Date of infection\"].isna(), \"Date of infection\"] = middle_east_df.loc[middle_east_df[\"Date of infection\"].isna(), \"Date of laboratory confirmation (yyyy/mm/dd)\"]"
   ]
  },
  {
   "cell_type": "markdown",
   "metadata": {},
   "source": [
    "#### Drop irrelevant columns"
   ]
  },
  {
   "cell_type": "code",
   "execution_count": 407,
   "metadata": {},
   "outputs": [
    {
     "data": {
      "text/plain": [
       "(499, 4)"
      ]
     },
     "execution_count": 407,
     "metadata": {},
     "output_type": "execute_result"
    }
   ],
   "source": [
    "irrelevant_columns = [\n",
    "    \"Case no.\",\n",
    "    \"Date of notification to WHO (yyyy/mm/dd)\",\n",
    "    \"Reporting country\",\n",
    "    \"City of residence\",\n",
    "    \"Age\",\n",
    "    \"Sex\",\n",
    "    \"Health care worker\",\n",
    "    \"Comorbidities\",\n",
    "    \"Exposure to camels\",\n",
    "    \"Camel milk consumption\",\n",
    "    \"Exposure to MERS-CoV cases\",\n",
    "    \"Date of symptoms onset (yyyy/mm/dd)\", \n",
    "    \"Date of first hospitalization (yyyy/mm/dd)\",\n",
    "    \"Date of laboratory confirmation (yyyy/mm/dd)\",\n",
    "]\n",
    "\n",
    "reduced_df = middle_east_df.drop(columns=irrelevant_columns)\\\n",
    "                           .rename({\"Date of outcome (yyyy/mm/dd)\": \"Date of outcome\", \"Status\": \"Outcome\"}, axis=1)\\\n",
    "                           .reset_index(drop=True)\n",
    "\n",
    "reduced_df.columns.name = \"\"\n",
    "reduced_df = reduced_df[[\"Date of infection\", \"Outcome\", \"Date of outcome\", \"Last updated\"]]\n",
    "\n",
    "reduced_df.shape"
   ]
  },
  {
   "cell_type": "code",
   "execution_count": 431,
   "metadata": {},
   "outputs": [],
   "source": [
    "reduced_df.to_csv('data/MERS/MERS_middle_east_patients.csv')"
   ]
  },
  {
   "cell_type": "markdown",
   "metadata": {},
   "source": [
    "#### Create Timeline"
   ]
  },
  {
   "cell_type": "code",
   "execution_count": 450,
   "metadata": {},
   "outputs": [],
   "source": [
    "def build_timeline(df):\n",
    "    infection_cumsum = df.groupby(df['Date of infection'].dt.date).size().cumsum()\n",
    "    death_cumsum = df[df['Outcome'] == 'Deceased'].groupby(df['Date of outcome'].dt.date).size().cumsum()\n",
    "    \n",
    "    index_union = death_cumsum.index.union(infection_cumsum.index)\n",
    "    \n",
    "    return pd.DataFrame({\n",
    "        \"Infected\": infection_cumsum, \n",
    "        \"Dead\": death_cumsum\n",
    "    }, index=index_union).fillna(method='ffill').fillna(0).astype('int64')"
   ]
  },
  {
   "cell_type": "code",
   "execution_count": 451,
   "metadata": {},
   "outputs": [],
   "source": [
    "timeline_df = build_timeline(reduced_df)"
   ]
  },
  {
   "cell_type": "code",
   "execution_count": 446,
   "metadata": {},
   "outputs": [],
   "source": [
    "timeline_df.to_csv('data/MERS/MERS_middle_east_timeline.csv')"
   ]
  },
  {
   "cell_type": "markdown",
   "metadata": {},
   "source": [
    "## Ebola"
   ]
  },
  {
   "cell_type": "code",
   "execution_count": 532,
   "metadata": {},
   "outputs": [],
   "source": [
    "ebola_df = pd.read_csv('data/ebola_data_db_format.csv')"
   ]
  },
  {
   "cell_type": "code",
   "execution_count": 540,
   "metadata": {},
   "outputs": [],
   "source": [
    "confirmed_df = ebola_df[ebola_df[\"Indicator\"].isin([\"Cumulative number of confirmed Ebola cases\", \"Cumulative number of confirmed Ebola deaths\"])]"
   ]
  },
  {
   "cell_type": "code",
   "execution_count": 545,
   "metadata": {},
   "outputs": [],
   "source": [
    "reduced_df = confirmed_df.groupby(['Country', 'Date', 'Indicator'])['value'].sum().unstack('Indicator').fillna(method='ffill').astype('int64')"
   ]
  },
  {
   "cell_type": "code",
   "execution_count": 538,
   "metadata": {},
   "outputs": [
    {
     "data": {
      "text/html": [
       "<div>\n",
       "<style scoped>\n",
       "    .dataframe tbody tr th:only-of-type {\n",
       "        vertical-align: middle;\n",
       "    }\n",
       "\n",
       "    .dataframe tbody tr th {\n",
       "        vertical-align: top;\n",
       "    }\n",
       "\n",
       "    .dataframe thead th {\n",
       "        text-align: right;\n",
       "    }\n",
       "</style>\n",
       "<table border=\"1\" class=\"dataframe\">\n",
       "  <thead>\n",
       "    <tr style=\"text-align: right;\">\n",
       "      <th></th>\n",
       "      <th>Indicator</th>\n",
       "      <th>Cumulative number of confirmed Ebola cases</th>\n",
       "      <th>Cumulative number of confirmed Ebola deaths</th>\n",
       "    </tr>\n",
       "    <tr>\n",
       "      <th>Country</th>\n",
       "      <th>Date</th>\n",
       "      <th></th>\n",
       "      <th></th>\n",
       "    </tr>\n",
       "  </thead>\n",
       "  <tbody>\n",
       "    <tr>\n",
       "      <th rowspan=\"61\" valign=\"top\">Liberia</th>\n",
       "      <th>2014-10-03</th>\n",
       "      <td>931</td>\n",
       "      <td>934</td>\n",
       "    </tr>\n",
       "    <tr>\n",
       "      <th>2014-10-08</th>\n",
       "      <td>941</td>\n",
       "      <td>1018</td>\n",
       "    </tr>\n",
       "    <tr>\n",
       "      <th>2014-10-10</th>\n",
       "      <td>943</td>\n",
       "      <td>1072</td>\n",
       "    </tr>\n",
       "    <tr>\n",
       "      <th>2014-10-15</th>\n",
       "      <td>950</td>\n",
       "      <td>1072</td>\n",
       "    </tr>\n",
       "    <tr>\n",
       "      <th>2014-10-22</th>\n",
       "      <td>965</td>\n",
       "      <td>1241</td>\n",
       "    </tr>\n",
       "    <tr>\n",
       "      <th>2014-10-25</th>\n",
       "      <td>965</td>\n",
       "      <td>1241</td>\n",
       "    </tr>\n",
       "    <tr>\n",
       "      <th>2015-02-10</th>\n",
       "      <td>3146</td>\n",
       "      <td>3826</td>\n",
       "    </tr>\n",
       "    <tr>\n",
       "      <th>2015-02-11</th>\n",
       "      <td>3146</td>\n",
       "      <td>3826</td>\n",
       "    </tr>\n",
       "    <tr>\n",
       "      <th>2015-02-12</th>\n",
       "      <td>3146</td>\n",
       "      <td>3826</td>\n",
       "    </tr>\n",
       "    <tr>\n",
       "      <th>2015-02-13</th>\n",
       "      <td>3147</td>\n",
       "      <td>3858</td>\n",
       "    </tr>\n",
       "    <tr>\n",
       "      <th>2015-02-16</th>\n",
       "      <td>3149</td>\n",
       "      <td>3858</td>\n",
       "    </tr>\n",
       "    <tr>\n",
       "      <th>2015-02-17</th>\n",
       "      <td>3149</td>\n",
       "      <td>3858</td>\n",
       "    </tr>\n",
       "    <tr>\n",
       "      <th>2015-02-18</th>\n",
       "      <td>3149</td>\n",
       "      <td>3858</td>\n",
       "    </tr>\n",
       "    <tr>\n",
       "      <th>2015-02-19</th>\n",
       "      <td>3152</td>\n",
       "      <td>3858</td>\n",
       "    </tr>\n",
       "    <tr>\n",
       "      <th>2015-02-20</th>\n",
       "      <td>3152</td>\n",
       "      <td>3858</td>\n",
       "    </tr>\n",
       "    <tr>\n",
       "      <th>2015-02-23</th>\n",
       "      <td>3153</td>\n",
       "      <td>3858</td>\n",
       "    </tr>\n",
       "    <tr>\n",
       "      <th>2015-02-25</th>\n",
       "      <td>3153</td>\n",
       "      <td>3858</td>\n",
       "    </tr>\n",
       "    <tr>\n",
       "      <th>2015-02-26</th>\n",
       "      <td>3153</td>\n",
       "      <td>3858</td>\n",
       "    </tr>\n",
       "    <tr>\n",
       "      <th>2015-02-27</th>\n",
       "      <td>3153</td>\n",
       "      <td>3858</td>\n",
       "    </tr>\n",
       "    <tr>\n",
       "      <th>2015-03-02</th>\n",
       "      <td>3153</td>\n",
       "      <td>3858</td>\n",
       "    </tr>\n",
       "    <tr>\n",
       "      <th>2015-03-04</th>\n",
       "      <td>3153</td>\n",
       "      <td>3858</td>\n",
       "    </tr>\n",
       "    <tr>\n",
       "      <th>2015-03-05</th>\n",
       "      <td>3150</td>\n",
       "      <td>3858</td>\n",
       "    </tr>\n",
       "    <tr>\n",
       "      <th>2015-03-06</th>\n",
       "      <td>3150</td>\n",
       "      <td>3858</td>\n",
       "    </tr>\n",
       "    <tr>\n",
       "      <th>2015-03-10</th>\n",
       "      <td>3150</td>\n",
       "      <td>3858</td>\n",
       "    </tr>\n",
       "    <tr>\n",
       "      <th>2015-03-11</th>\n",
       "      <td>3150</td>\n",
       "      <td>3858</td>\n",
       "    </tr>\n",
       "    <tr>\n",
       "      <th>2015-03-12</th>\n",
       "      <td>3150</td>\n",
       "      <td>3858</td>\n",
       "    </tr>\n",
       "    <tr>\n",
       "      <th>2015-03-13</th>\n",
       "      <td>3150</td>\n",
       "      <td>3858</td>\n",
       "    </tr>\n",
       "    <tr>\n",
       "      <th>2015-03-16</th>\n",
       "      <td>3150</td>\n",
       "      <td>3858</td>\n",
       "    </tr>\n",
       "    <tr>\n",
       "      <th>2015-03-17</th>\n",
       "      <td>3150</td>\n",
       "      <td>3858</td>\n",
       "    </tr>\n",
       "    <tr>\n",
       "      <th>2015-03-18</th>\n",
       "      <td>3150</td>\n",
       "      <td>3858</td>\n",
       "    </tr>\n",
       "    <tr>\n",
       "      <th>...</th>\n",
       "      <td>...</td>\n",
       "      <td>...</td>\n",
       "    </tr>\n",
       "    <tr>\n",
       "      <th>2015-10-22</th>\n",
       "      <td>3151</td>\n",
       "      <td>3858</td>\n",
       "    </tr>\n",
       "    <tr>\n",
       "      <th>2015-10-23</th>\n",
       "      <td>3151</td>\n",
       "      <td>3858</td>\n",
       "    </tr>\n",
       "    <tr>\n",
       "      <th>2015-10-26</th>\n",
       "      <td>3151</td>\n",
       "      <td>3858</td>\n",
       "    </tr>\n",
       "    <tr>\n",
       "      <th>2015-10-27</th>\n",
       "      <td>3151</td>\n",
       "      <td>3858</td>\n",
       "    </tr>\n",
       "    <tr>\n",
       "      <th>2015-10-29</th>\n",
       "      <td>3151</td>\n",
       "      <td>3858</td>\n",
       "    </tr>\n",
       "    <tr>\n",
       "      <th>2015-10-30</th>\n",
       "      <td>3151</td>\n",
       "      <td>3858</td>\n",
       "    </tr>\n",
       "    <tr>\n",
       "      <th>2015-11-03</th>\n",
       "      <td>3151</td>\n",
       "      <td>3858</td>\n",
       "    </tr>\n",
       "    <tr>\n",
       "      <th>2015-11-05</th>\n",
       "      <td>3151</td>\n",
       "      <td>3858</td>\n",
       "    </tr>\n",
       "    <tr>\n",
       "      <th>2015-11-06</th>\n",
       "      <td>3151</td>\n",
       "      <td>3858</td>\n",
       "    </tr>\n",
       "    <tr>\n",
       "      <th>2015-11-10</th>\n",
       "      <td>3151</td>\n",
       "      <td>3858</td>\n",
       "    </tr>\n",
       "    <tr>\n",
       "      <th>2015-11-11</th>\n",
       "      <td>3151</td>\n",
       "      <td>3858</td>\n",
       "    </tr>\n",
       "    <tr>\n",
       "      <th>2015-11-12</th>\n",
       "      <td>3151</td>\n",
       "      <td>3858</td>\n",
       "    </tr>\n",
       "    <tr>\n",
       "      <th>2015-11-16</th>\n",
       "      <td>3151</td>\n",
       "      <td>3858</td>\n",
       "    </tr>\n",
       "    <tr>\n",
       "      <th>2015-11-17</th>\n",
       "      <td>3151</td>\n",
       "      <td>3858</td>\n",
       "    </tr>\n",
       "    <tr>\n",
       "      <th>2015-11-20</th>\n",
       "      <td>3151</td>\n",
       "      <td>3858</td>\n",
       "    </tr>\n",
       "    <tr>\n",
       "      <th>2015-11-24</th>\n",
       "      <td>3151</td>\n",
       "      <td>3858</td>\n",
       "    </tr>\n",
       "    <tr>\n",
       "      <th>2015-11-26</th>\n",
       "      <td>3151</td>\n",
       "      <td>3858</td>\n",
       "    </tr>\n",
       "    <tr>\n",
       "      <th>2015-12-01</th>\n",
       "      <td>3151</td>\n",
       "      <td>3858</td>\n",
       "    </tr>\n",
       "    <tr>\n",
       "      <th>2015-12-02</th>\n",
       "      <td>3151</td>\n",
       "      <td>3858</td>\n",
       "    </tr>\n",
       "    <tr>\n",
       "      <th>2015-12-03</th>\n",
       "      <td>3151</td>\n",
       "      <td>3858</td>\n",
       "    </tr>\n",
       "    <tr>\n",
       "      <th>2015-12-09</th>\n",
       "      <td>3151</td>\n",
       "      <td>3858</td>\n",
       "    </tr>\n",
       "    <tr>\n",
       "      <th>2015-12-10</th>\n",
       "      <td>3151</td>\n",
       "      <td>3858</td>\n",
       "    </tr>\n",
       "    <tr>\n",
       "      <th>2015-12-11</th>\n",
       "      <td>3151</td>\n",
       "      <td>3858</td>\n",
       "    </tr>\n",
       "    <tr>\n",
       "      <th>2015-12-15</th>\n",
       "      <td>3151</td>\n",
       "      <td>3858</td>\n",
       "    </tr>\n",
       "    <tr>\n",
       "      <th>2015-12-16</th>\n",
       "      <td>3151</td>\n",
       "      <td>3858</td>\n",
       "    </tr>\n",
       "    <tr>\n",
       "      <th>2015-12-17</th>\n",
       "      <td>3151</td>\n",
       "      <td>3858</td>\n",
       "    </tr>\n",
       "    <tr>\n",
       "      <th>2015-12-22</th>\n",
       "      <td>3151</td>\n",
       "      <td>3858</td>\n",
       "    </tr>\n",
       "    <tr>\n",
       "      <th>2015-12-23</th>\n",
       "      <td>3151</td>\n",
       "      <td>3858</td>\n",
       "    </tr>\n",
       "    <tr>\n",
       "      <th>2015-12-29</th>\n",
       "      <td>3151</td>\n",
       "      <td>3858</td>\n",
       "    </tr>\n",
       "    <tr>\n",
       "      <th>2016-03-23</th>\n",
       "      <td>3151</td>\n",
       "      <td>3858</td>\n",
       "    </tr>\n",
       "  </tbody>\n",
       "</table>\n",
       "<p>201 rows × 2 columns</p>\n",
       "</div>"
      ],
      "text/plain": [
       "Indicator           Cumulative number of confirmed Ebola cases  \\\n",
       "Country Date                                                     \n",
       "Liberia 2014-10-03                                         931   \n",
       "        2014-10-08                                         941   \n",
       "        2014-10-10                                         943   \n",
       "        2014-10-15                                         950   \n",
       "        2014-10-22                                         965   \n",
       "        2014-10-25                                         965   \n",
       "        2015-02-10                                        3146   \n",
       "        2015-02-11                                        3146   \n",
       "        2015-02-12                                        3146   \n",
       "        2015-02-13                                        3147   \n",
       "        2015-02-16                                        3149   \n",
       "        2015-02-17                                        3149   \n",
       "        2015-02-18                                        3149   \n",
       "        2015-02-19                                        3152   \n",
       "        2015-02-20                                        3152   \n",
       "        2015-02-23                                        3153   \n",
       "        2015-02-25                                        3153   \n",
       "        2015-02-26                                        3153   \n",
       "        2015-02-27                                        3153   \n",
       "        2015-03-02                                        3153   \n",
       "        2015-03-04                                        3153   \n",
       "        2015-03-05                                        3150   \n",
       "        2015-03-06                                        3150   \n",
       "        2015-03-10                                        3150   \n",
       "        2015-03-11                                        3150   \n",
       "        2015-03-12                                        3150   \n",
       "        2015-03-13                                        3150   \n",
       "        2015-03-16                                        3150   \n",
       "        2015-03-17                                        3150   \n",
       "        2015-03-18                                        3150   \n",
       "...                                                        ...   \n",
       "        2015-10-22                                        3151   \n",
       "        2015-10-23                                        3151   \n",
       "        2015-10-26                                        3151   \n",
       "        2015-10-27                                        3151   \n",
       "        2015-10-29                                        3151   \n",
       "        2015-10-30                                        3151   \n",
       "        2015-11-03                                        3151   \n",
       "        2015-11-05                                        3151   \n",
       "        2015-11-06                                        3151   \n",
       "        2015-11-10                                        3151   \n",
       "        2015-11-11                                        3151   \n",
       "        2015-11-12                                        3151   \n",
       "        2015-11-16                                        3151   \n",
       "        2015-11-17                                        3151   \n",
       "        2015-11-20                                        3151   \n",
       "        2015-11-24                                        3151   \n",
       "        2015-11-26                                        3151   \n",
       "        2015-12-01                                        3151   \n",
       "        2015-12-02                                        3151   \n",
       "        2015-12-03                                        3151   \n",
       "        2015-12-09                                        3151   \n",
       "        2015-12-10                                        3151   \n",
       "        2015-12-11                                        3151   \n",
       "        2015-12-15                                        3151   \n",
       "        2015-12-16                                        3151   \n",
       "        2015-12-17                                        3151   \n",
       "        2015-12-22                                        3151   \n",
       "        2015-12-23                                        3151   \n",
       "        2015-12-29                                        3151   \n",
       "        2016-03-23                                        3151   \n",
       "\n",
       "Indicator           Cumulative number of confirmed Ebola deaths  \n",
       "Country Date                                                     \n",
       "Liberia 2014-10-03                                          934  \n",
       "        2014-10-08                                         1018  \n",
       "        2014-10-10                                         1072  \n",
       "        2014-10-15                                         1072  \n",
       "        2014-10-22                                         1241  \n",
       "        2014-10-25                                         1241  \n",
       "        2015-02-10                                         3826  \n",
       "        2015-02-11                                         3826  \n",
       "        2015-02-12                                         3826  \n",
       "        2015-02-13                                         3858  \n",
       "        2015-02-16                                         3858  \n",
       "        2015-02-17                                         3858  \n",
       "        2015-02-18                                         3858  \n",
       "        2015-02-19                                         3858  \n",
       "        2015-02-20                                         3858  \n",
       "        2015-02-23                                         3858  \n",
       "        2015-02-25                                         3858  \n",
       "        2015-02-26                                         3858  \n",
       "        2015-02-27                                         3858  \n",
       "        2015-03-02                                         3858  \n",
       "        2015-03-04                                         3858  \n",
       "        2015-03-05                                         3858  \n",
       "        2015-03-06                                         3858  \n",
       "        2015-03-10                                         3858  \n",
       "        2015-03-11                                         3858  \n",
       "        2015-03-12                                         3858  \n",
       "        2015-03-13                                         3858  \n",
       "        2015-03-16                                         3858  \n",
       "        2015-03-17                                         3858  \n",
       "        2015-03-18                                         3858  \n",
       "...                                                         ...  \n",
       "        2015-10-22                                         3858  \n",
       "        2015-10-23                                         3858  \n",
       "        2015-10-26                                         3858  \n",
       "        2015-10-27                                         3858  \n",
       "        2015-10-29                                         3858  \n",
       "        2015-10-30                                         3858  \n",
       "        2015-11-03                                         3858  \n",
       "        2015-11-05                                         3858  \n",
       "        2015-11-06                                         3858  \n",
       "        2015-11-10                                         3858  \n",
       "        2015-11-11                                         3858  \n",
       "        2015-11-12                                         3858  \n",
       "        2015-11-16                                         3858  \n",
       "        2015-11-17                                         3858  \n",
       "        2015-11-20                                         3858  \n",
       "        2015-11-24                                         3858  \n",
       "        2015-11-26                                         3858  \n",
       "        2015-12-01                                         3858  \n",
       "        2015-12-02                                         3858  \n",
       "        2015-12-03                                         3858  \n",
       "        2015-12-09                                         3858  \n",
       "        2015-12-10                                         3858  \n",
       "        2015-12-11                                         3858  \n",
       "        2015-12-15                                         3858  \n",
       "        2015-12-16                                         3858  \n",
       "        2015-12-17                                         3858  \n",
       "        2015-12-22                                         3858  \n",
       "        2015-12-23                                         3858  \n",
       "        2015-12-29                                         3858  \n",
       "        2016-03-23                                         3858  \n",
       "\n",
       "[201 rows x 2 columns]"
      ]
     },
     "execution_count": 538,
     "metadata": {},
     "output_type": "execute_result"
    }
   ],
   "source": [
    "confirmed_df[~(confirmed_df[\"Cumulative number of confirmed Ebola cases\"] >= confirmed_df[\"Cumulative number of confirmed Ebola deaths\"])]"
   ]
  },
  {
   "cell_type": "markdown",
   "metadata": {},
   "source": [
    "# Archive"
   ]
  },
  {
   "cell_type": "code",
   "execution_count": 66,
   "metadata": {},
   "outputs": [],
   "source": [
    "dates = pd.to_datetime(drop_rows(oman_df)['Date of notification to WHO (yyyy/mm/dd)'])"
   ]
  },
  {
   "cell_type": "code",
   "execution_count": 88,
   "metadata": {},
   "outputs": [],
   "source": [
    "date_range = pd.date_range(dates.min(), dates.max(), freq='D')"
   ]
  },
  {
   "cell_type": "code",
   "execution_count": 96,
   "metadata": {},
   "outputs": [],
   "source": [
    "oman_df_date_distribution = dates.groupby(dates.dt.date, as_index=True).count().reindex(date_range, fill_value=0)"
   ]
  },
  {
   "cell_type": "code",
   "execution_count": 103,
   "metadata": {},
   "outputs": [
    {
     "data": {
      "text/plain": [
       "1     30\n",
       "2     28\n",
       "3     31\n",
       "4     30\n",
       "5     31\n",
       "6     30\n",
       "7     31\n",
       "8     31\n",
       "9     30\n",
       "10    31\n",
       "11    30\n",
       "12    31\n",
       "Name: Date of notification to WHO (yyyy/mm/dd), dtype: int64"
      ]
     },
     "execution_count": 103,
     "metadata": {},
     "output_type": "execute_result"
    }
   ],
   "source": [
    "oman_df_date_distribution[\"2017-01-01\":\"2017-12-31\"].groupby(oman_df_date_distribution[\"2017-01-01\":\"2017-12-31\"].index.month).count()"
   ]
  }
 ],
 "metadata": {
  "kernel_info": {
   "name": "python3"
  },
  "kernelspec": {
   "display_name": "epidemics",
   "language": "python",
   "name": "epidemics"
  },
  "language_info": {
   "codemirror_mode": {
    "name": "ipython",
    "version": 3
   },
   "file_extension": ".py",
   "mimetype": "text/x-python",
   "name": "python",
   "nbconvert_exporter": "python",
   "pygments_lexer": "ipython3",
   "version": "3.7.6"
  },
  "nteract": {
   "version": "0.15.0"
  }
 },
 "nbformat": 4,
 "nbformat_minor": 2
}
