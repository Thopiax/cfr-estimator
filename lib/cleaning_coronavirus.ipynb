{
 "cells": [
  {
   "cell_type": "markdown",
   "metadata": {},
   "source": [
    "# Coronavirus - Global Data Cleaning"
   ]
  },
  {
   "cell_type": "code",
   "execution_count": 1,
   "metadata": {
    "inputHidden": false,
    "jupyter": {
     "outputs_hidden": false
    },
    "outputHidden": false
   },
   "outputs": [],
   "source": [
    "import pandas as pd\n",
    "import numpy as np\n",
    "import matplotlib.pyplot as plt\n",
    "import seaborn as sns\n",
    "\n",
    "import os, re, pickle"
   ]
  },
  {
   "cell_type": "code",
   "execution_count": 2,
   "metadata": {
    "inputHidden": false,
    "jupyter": {
     "outputs_hidden": false
    },
    "outputHidden": false
   },
   "outputs": [
    {
     "data": {
      "text/html": [
       "<style>.container { width:100% !important; }</style>"
      ],
      "text/plain": [
       "<IPython.core.display.HTML object>"
      ]
     },
     "metadata": {},
     "output_type": "display_data"
    }
   ],
   "source": [
    "from IPython.core.display import display, HTML\n",
    "display(HTML(\"<style>.container { width:100% !important; }</style>\"))\n",
    "\n",
    "plt.rcParams['figure.figsize']=[32, 18]\n",
    "plt.rcParams['font.size']=16\n",
    "plt.rcParams['font.weight']='bold'\n",
    "plt.rcParams['axes.titlesize'] = 24\n",
    "plt.rcParams['axes.labelsize'] = 16"
   ]
  },
  {
   "cell_type": "code",
   "execution_count": 3,
   "metadata": {},
   "outputs": [],
   "source": [
    "%reload_ext autoreload\n",
    "%autoreload 2\n",
    "%matplotlib inline"
   ]
  },
  {
   "cell_type": "markdown",
   "metadata": {},
   "source": [
    "# Crucial Oubtreak Data\n",
    "\n",
    "## Load Data"
   ]
  },
  {
   "cell_type": "markdown",
   "metadata": {},
   "source": [
    "Load the most recent data available on the Covid-19 epidemic from the `CSSEGISandData` repository. \n",
    "\n",
    "There are three reports that are interesting to us: *confirmed cases*, *fatalities* and *recovered cases*.\n",
    "All the cases for a specific region (from different provinces/states) are summed under the umbrella of that region to have country-level granularity on our data."
   ]
  },
  {
   "cell_type": "code",
   "execution_count": 25,
   "metadata": {},
   "outputs": [],
   "source": [
    "# uncomment below to load latest data\n",
    "\n",
    "# coronavirus_confirmed_df = pd.read_csv('https://raw.githubusercontent.com/CSSEGISandData/COVID-19/master/csse_covid_19_data/csse_covid_19_time_series/time_series_covid19_confirmed_global.csv')\\\n",
    "#                         .drop([\"Lat\", \"Long\", \"Province/State\"], axis=1)\\\n",
    "#                         .groupby('Country/Region').sum()\\\n",
    "#                         .transpose()\n",
    "# coronavirus_confirmed_df.to_csv(\"../data/raw/coronavirus_confirmed_global.csv\")\n",
    "coronavirus_confirmed_df = pd.read_csv(\"../data/raw/coronavirus_confirmed_global.csv\", index_col=0)\n",
    "\n",
    "# coronavirus_death_df = pd.read_csv('https://raw.githubusercontent.com/CSSEGISandData/COVID-19/master/csse_covid_19_data/csse_covid_19_time_series/time_series_covid19_deaths_global.csv')\\\n",
    "#                     .drop([\"Lat\", \"Long\", \"Province/State\"], axis=1)\\\n",
    "#                     .groupby('Country/Region').sum()\\\n",
    "#                     .transpose()\n",
    "# coronavirus_death_df.to_csv(\"../data/raw/coronavirus_death_global.csv\")\n",
    "coronavirus_death_df = pd.read_csv(\"../data/raw/coronavirus_death_global.csv\", index_col=0)\n",
    "\n",
    "# coronavirus_recovered_df = pd.read_csv('https://raw.githubusercontent.com/CSSEGISandData/COVID-19/master/csse_covid_19_data/csse_covid_19_time_series/time_series_covid19_recovered_global.csv')\\\n",
    "#                     .drop([\"Lat\", \"Long\", \"Province/State\"], axis=1)\\\n",
    "#                     .groupby('Country/Region').sum()\\\n",
    "#                     .transpose()\n",
    "# coronavirus_recovered_df.to_csv(\"../data/raw/coronavirus_recovered_global.csv\")\n",
    "coronavirus_recovered_df = pd.read_csv(\"../data/raw/coronavirus_recovered_global.csv\", index_col=0)"
   ]
  },
  {
   "cell_type": "markdown",
   "metadata": {},
   "source": [
    "## Clean Data\n",
    "\n",
    "### Remove Reclassifications\n",
    "\n",
    "Within the data, there are inconsistencies related the cumulative number of cases dropping from one day to the next due to re-classifications in the data. To address this, we correct the data by taking the cumulative minimum of cases in reverse order, as to ensure monoticity of all of our cumulative curves."
   ]
  },
  {
   "cell_type": "code",
   "execution_count": 26,
   "metadata": {},
   "outputs": [],
   "source": [
    "def verify_monotonicity(df):\n",
    "    return df.apply(lambda s: s.is_monotonic).all()\n",
    "\n",
    "def consider_reclassifications(df):\n",
    "    return df[::-1].cummin()[::-1]"
   ]
  },
  {
   "cell_type": "markdown",
   "metadata": {},
   "source": [
    "#### Confirmed Cases"
   ]
  },
  {
   "cell_type": "code",
   "execution_count": 27,
   "metadata": {},
   "outputs": [
    {
     "data": {
      "text/plain": [
       "False"
      ]
     },
     "execution_count": 27,
     "metadata": {},
     "output_type": "execute_result"
    }
   ],
   "source": [
    "verify_monotonicity(coronavirus_confirmed_df)"
   ]
  },
  {
   "cell_type": "code",
   "execution_count": 28,
   "metadata": {},
   "outputs": [
    {
     "data": {
      "text/plain": [
       "True"
      ]
     },
     "execution_count": 28,
     "metadata": {},
     "output_type": "execute_result"
    }
   ],
   "source": [
    "coronavirus_confirmed_df = consider_reclassifications(coronavirus_confirmed_df)\n",
    "verify_monotonicity(coronavirus_confirmed_df)"
   ]
  },
  {
   "cell_type": "markdown",
   "metadata": {},
   "source": [
    "#### Fatalities"
   ]
  },
  {
   "cell_type": "code",
   "execution_count": 29,
   "metadata": {},
   "outputs": [
    {
     "data": {
      "text/plain": [
       "False"
      ]
     },
     "execution_count": 29,
     "metadata": {},
     "output_type": "execute_result"
    }
   ],
   "source": [
    "verify_monotonicity(coronavirus_death_df)"
   ]
  },
  {
   "cell_type": "code",
   "execution_count": 30,
   "metadata": {},
   "outputs": [
    {
     "data": {
      "text/plain": [
       "True"
      ]
     },
     "execution_count": 30,
     "metadata": {},
     "output_type": "execute_result"
    }
   ],
   "source": [
    "coronavirus_death_df = consider_reclassifications(coronavirus_death_df)\n",
    "verify_monotonicity(coronavirus_death_df)"
   ]
  },
  {
   "cell_type": "markdown",
   "metadata": {},
   "source": [
    "#### Recovered Cases"
   ]
  },
  {
   "cell_type": "code",
   "execution_count": 31,
   "metadata": {},
   "outputs": [
    {
     "data": {
      "text/plain": [
       "False"
      ]
     },
     "execution_count": 31,
     "metadata": {},
     "output_type": "execute_result"
    }
   ],
   "source": [
    "verify_monotonicity(coronavirus_recovered_df)"
   ]
  },
  {
   "cell_type": "code",
   "execution_count": 32,
   "metadata": {},
   "outputs": [
    {
     "data": {
      "text/plain": [
       "True"
      ]
     },
     "execution_count": 32,
     "metadata": {},
     "output_type": "execute_result"
    }
   ],
   "source": [
    "coronavirus_recovered_df = consider_reclassifications(coronavirus_recovered_df)\n",
    "verify_monotonicity(coronavirus_recovered_df)"
   ]
  },
  {
   "cell_type": "markdown",
   "metadata": {},
   "source": [
    "## Save Data\n",
    "\n",
    "Now that we've appropriately treated and cleaned our data, we can store for further analysis in CSV files. We will store the daily date as opposed to cumulative as our analysis will need the data in that format."
   ]
  },
  {
   "cell_type": "code",
   "execution_count": 34,
   "metadata": {},
   "outputs": [],
   "source": [
    "coronavirus_confirmed_df.diff(axis=0).fillna(0).to_csv(\"../data/clean/coronavirus_confirmed_global.csv\")\n",
    "coronavirus_death_df.diff(axis=0).fillna(0).to_csv(\"../data/clean/coronavirus_death_global.csv\")\n",
    "coronavirus_recovered_df.diff(axis=0).fillna(0).to_csv(\"../data/clean/coronavirus_recovered_global.csv\")"
   ]
  },
  {
   "cell_type": "markdown",
   "metadata": {},
   "source": [
    "# Secondary Data"
   ]
  },
  {
   "cell_type": "markdown",
   "metadata": {},
   "source": [
    "## Testing Policy\n",
    "\n",
    "This dataset, found in *Our World in Data*, represents the evolution of testing strategies for countries from early April, until mid-May. The data provides a way to understand how the (later parts) of the crucial statistics were collected (whether at a hospital, or at a broader level) and, therefore, how representative the data above are likely to be. Note that we only have testing policy data available for 135 countries (as opposed to the 185 countries listed above). The lack of monotonicity and large gaps in reporting are disconcerting and indicate we should consider the data with a grain of salt. Instead of considering the entirety of the data for further analysis, we will construct a simple boolean indicator (called `advanced_testing_policy_adopted`) of a country's policy during the entire outbreak which indicates whether they have engaged in either symptomatic or open testing at any point (values 2 or 3).\n",
    "\n",
    "The different policy descriptions are:\n",
    "\n",
    "    0: No testing policy\n",
    "\n",
    "    1: Only those who both (a) have symptoms AND (b) meet specific criteria (eg key workers, admitted to hospital, came into contact with a known case, returned from overseas)\n",
    "\n",
    "    2: testing of anyone showing COVID-19 symptoms\n",
    "\n",
    "    3: open public testing (eg “drive through” testing available to asymptomatic people)\n",
    "    \n"
   ]
  },
  {
   "cell_type": "code",
   "execution_count": 13,
   "metadata": {},
   "outputs": [],
   "source": [
    "coronavirus_testing_policies = pd.read_csv(\"../data/raw/covid-19-testing-policy.csv\")\\\n",
    "                                 .pivot(index=\"Date\", columns=\"Entity\", values=\"Testing policy (OxBSG)\")\\\n",
    "                                 .rename({\n",
    "                                    'Czech Republic': \"Czechia\", \n",
    "                                    'United States': \"US\", \n",
    "                                    'Myanmar': \"Burma\", \n",
    "                                    'South Korea': \"Korea, South\", \n",
    "                                    'Taiwan': \"Taiwan*\"\n",
    "                                }, axis=1)"
   ]
  },
  {
   "cell_type": "code",
   "execution_count": 14,
   "metadata": {},
   "outputs": [
    {
     "data": {
      "text/html": [
       "<div>\n",
       "<style scoped>\n",
       "    .dataframe tbody tr th:only-of-type {\n",
       "        vertical-align: middle;\n",
       "    }\n",
       "\n",
       "    .dataframe tbody tr th {\n",
       "        vertical-align: top;\n",
       "    }\n",
       "\n",
       "    .dataframe thead th {\n",
       "        text-align: right;\n",
       "    }\n",
       "</style>\n",
       "<table border=\"1\" class=\"dataframe\">\n",
       "  <thead>\n",
       "    <tr style=\"text-align: right;\">\n",
       "      <th>Entity</th>\n",
       "      <th>Afghanistan</th>\n",
       "      <th>Albania</th>\n",
       "      <th>Algeria</th>\n",
       "      <th>Andorra</th>\n",
       "      <th>Angola</th>\n",
       "      <th>Argentina</th>\n",
       "      <th>Aruba</th>\n",
       "      <th>Australia</th>\n",
       "      <th>Austria</th>\n",
       "      <th>Azerbaijan</th>\n",
       "      <th>...</th>\n",
       "      <th>United Arab Emirates</th>\n",
       "      <th>United Kingdom</th>\n",
       "      <th>US</th>\n",
       "      <th>Uruguay</th>\n",
       "      <th>Uzbekistan</th>\n",
       "      <th>Venezuela</th>\n",
       "      <th>Vietnam</th>\n",
       "      <th>Yemen</th>\n",
       "      <th>Zambia</th>\n",
       "      <th>Zimbabwe</th>\n",
       "    </tr>\n",
       "    <tr>\n",
       "      <th>Date</th>\n",
       "      <th></th>\n",
       "      <th></th>\n",
       "      <th></th>\n",
       "      <th></th>\n",
       "      <th></th>\n",
       "      <th></th>\n",
       "      <th></th>\n",
       "      <th></th>\n",
       "      <th></th>\n",
       "      <th></th>\n",
       "      <th></th>\n",
       "      <th></th>\n",
       "      <th></th>\n",
       "      <th></th>\n",
       "      <th></th>\n",
       "      <th></th>\n",
       "      <th></th>\n",
       "      <th></th>\n",
       "      <th></th>\n",
       "      <th></th>\n",
       "      <th></th>\n",
       "    </tr>\n",
       "  </thead>\n",
       "  <tbody>\n",
       "    <tr>\n",
       "      <th>Apr 1, 2020</th>\n",
       "      <td>1.0</td>\n",
       "      <td>1.0</td>\n",
       "      <td>0.0</td>\n",
       "      <td>1.0</td>\n",
       "      <td>1.0</td>\n",
       "      <td>1.0</td>\n",
       "      <td>1.0</td>\n",
       "      <td>1.0</td>\n",
       "      <td>2.0</td>\n",
       "      <td>2.0</td>\n",
       "      <td>...</td>\n",
       "      <td>1.0</td>\n",
       "      <td>1.0</td>\n",
       "      <td>3.0</td>\n",
       "      <td>1.0</td>\n",
       "      <td>1.0</td>\n",
       "      <td>1.0</td>\n",
       "      <td>2.0</td>\n",
       "      <td>0.0</td>\n",
       "      <td>1.0</td>\n",
       "      <td>0.0</td>\n",
       "    </tr>\n",
       "    <tr>\n",
       "      <th>Apr 10, 2020</th>\n",
       "      <td>1.0</td>\n",
       "      <td>1.0</td>\n",
       "      <td>0.0</td>\n",
       "      <td>1.0</td>\n",
       "      <td>2.0</td>\n",
       "      <td>1.0</td>\n",
       "      <td>1.0</td>\n",
       "      <td>1.0</td>\n",
       "      <td>2.0</td>\n",
       "      <td>2.0</td>\n",
       "      <td>...</td>\n",
       "      <td>1.0</td>\n",
       "      <td>1.0</td>\n",
       "      <td>3.0</td>\n",
       "      <td>1.0</td>\n",
       "      <td>1.0</td>\n",
       "      <td>1.0</td>\n",
       "      <td>3.0</td>\n",
       "      <td>0.0</td>\n",
       "      <td>1.0</td>\n",
       "      <td>0.0</td>\n",
       "    </tr>\n",
       "    <tr>\n",
       "      <th>Apr 11, 2020</th>\n",
       "      <td>1.0</td>\n",
       "      <td>1.0</td>\n",
       "      <td>0.0</td>\n",
       "      <td>1.0</td>\n",
       "      <td>2.0</td>\n",
       "      <td>1.0</td>\n",
       "      <td>1.0</td>\n",
       "      <td>1.0</td>\n",
       "      <td>2.0</td>\n",
       "      <td>2.0</td>\n",
       "      <td>...</td>\n",
       "      <td>1.0</td>\n",
       "      <td>1.0</td>\n",
       "      <td>3.0</td>\n",
       "      <td>1.0</td>\n",
       "      <td>1.0</td>\n",
       "      <td>1.0</td>\n",
       "      <td>3.0</td>\n",
       "      <td>0.0</td>\n",
       "      <td>1.0</td>\n",
       "      <td>0.0</td>\n",
       "    </tr>\n",
       "    <tr>\n",
       "      <th>Apr 12, 2020</th>\n",
       "      <td>1.0</td>\n",
       "      <td>1.0</td>\n",
       "      <td>0.0</td>\n",
       "      <td>1.0</td>\n",
       "      <td>2.0</td>\n",
       "      <td>1.0</td>\n",
       "      <td>1.0</td>\n",
       "      <td>1.0</td>\n",
       "      <td>2.0</td>\n",
       "      <td>2.0</td>\n",
       "      <td>...</td>\n",
       "      <td>1.0</td>\n",
       "      <td>1.0</td>\n",
       "      <td>3.0</td>\n",
       "      <td>1.0</td>\n",
       "      <td>1.0</td>\n",
       "      <td>1.0</td>\n",
       "      <td>3.0</td>\n",
       "      <td>0.0</td>\n",
       "      <td>1.0</td>\n",
       "      <td>0.0</td>\n",
       "    </tr>\n",
       "    <tr>\n",
       "      <th>Apr 13, 2020</th>\n",
       "      <td>1.0</td>\n",
       "      <td>1.0</td>\n",
       "      <td>0.0</td>\n",
       "      <td>1.0</td>\n",
       "      <td>2.0</td>\n",
       "      <td>1.0</td>\n",
       "      <td>1.0</td>\n",
       "      <td>1.0</td>\n",
       "      <td>2.0</td>\n",
       "      <td>2.0</td>\n",
       "      <td>...</td>\n",
       "      <td>3.0</td>\n",
       "      <td>1.0</td>\n",
       "      <td>3.0</td>\n",
       "      <td>1.0</td>\n",
       "      <td>1.0</td>\n",
       "      <td>1.0</td>\n",
       "      <td>3.0</td>\n",
       "      <td>0.0</td>\n",
       "      <td>1.0</td>\n",
       "      <td>0.0</td>\n",
       "    </tr>\n",
       "    <tr>\n",
       "      <th>...</th>\n",
       "      <td>...</td>\n",
       "      <td>...</td>\n",
       "      <td>...</td>\n",
       "      <td>...</td>\n",
       "      <td>...</td>\n",
       "      <td>...</td>\n",
       "      <td>...</td>\n",
       "      <td>...</td>\n",
       "      <td>...</td>\n",
       "      <td>...</td>\n",
       "      <td>...</td>\n",
       "      <td>...</td>\n",
       "      <td>...</td>\n",
       "      <td>...</td>\n",
       "      <td>...</td>\n",
       "      <td>...</td>\n",
       "      <td>...</td>\n",
       "      <td>...</td>\n",
       "      <td>...</td>\n",
       "      <td>...</td>\n",
       "      <td>...</td>\n",
       "    </tr>\n",
       "    <tr>\n",
       "      <th>May 5, 2020</th>\n",
       "      <td>NaN</td>\n",
       "      <td>2.0</td>\n",
       "      <td>0.0</td>\n",
       "      <td>3.0</td>\n",
       "      <td>2.0</td>\n",
       "      <td>1.0</td>\n",
       "      <td>NaN</td>\n",
       "      <td>1.0</td>\n",
       "      <td>2.0</td>\n",
       "      <td>NaN</td>\n",
       "      <td>...</td>\n",
       "      <td>NaN</td>\n",
       "      <td>1.0</td>\n",
       "      <td>3.0</td>\n",
       "      <td>1.0</td>\n",
       "      <td>1.0</td>\n",
       "      <td>1.0</td>\n",
       "      <td>3.0</td>\n",
       "      <td>0.0</td>\n",
       "      <td>NaN</td>\n",
       "      <td>NaN</td>\n",
       "    </tr>\n",
       "    <tr>\n",
       "      <th>May 6, 2020</th>\n",
       "      <td>NaN</td>\n",
       "      <td>2.0</td>\n",
       "      <td>0.0</td>\n",
       "      <td>3.0</td>\n",
       "      <td>2.0</td>\n",
       "      <td>1.0</td>\n",
       "      <td>NaN</td>\n",
       "      <td>1.0</td>\n",
       "      <td>2.0</td>\n",
       "      <td>NaN</td>\n",
       "      <td>...</td>\n",
       "      <td>NaN</td>\n",
       "      <td>1.0</td>\n",
       "      <td>3.0</td>\n",
       "      <td>1.0</td>\n",
       "      <td>1.0</td>\n",
       "      <td>1.0</td>\n",
       "      <td>3.0</td>\n",
       "      <td>0.0</td>\n",
       "      <td>NaN</td>\n",
       "      <td>NaN</td>\n",
       "    </tr>\n",
       "    <tr>\n",
       "      <th>May 7, 2020</th>\n",
       "      <td>NaN</td>\n",
       "      <td>2.0</td>\n",
       "      <td>0.0</td>\n",
       "      <td>3.0</td>\n",
       "      <td>NaN</td>\n",
       "      <td>1.0</td>\n",
       "      <td>NaN</td>\n",
       "      <td>NaN</td>\n",
       "      <td>2.0</td>\n",
       "      <td>NaN</td>\n",
       "      <td>...</td>\n",
       "      <td>NaN</td>\n",
       "      <td>1.0</td>\n",
       "      <td>3.0</td>\n",
       "      <td>1.0</td>\n",
       "      <td>1.0</td>\n",
       "      <td>1.0</td>\n",
       "      <td>3.0</td>\n",
       "      <td>0.0</td>\n",
       "      <td>NaN</td>\n",
       "      <td>NaN</td>\n",
       "    </tr>\n",
       "    <tr>\n",
       "      <th>May 8, 2020</th>\n",
       "      <td>NaN</td>\n",
       "      <td>2.0</td>\n",
       "      <td>0.0</td>\n",
       "      <td>3.0</td>\n",
       "      <td>NaN</td>\n",
       "      <td>1.0</td>\n",
       "      <td>NaN</td>\n",
       "      <td>NaN</td>\n",
       "      <td>2.0</td>\n",
       "      <td>NaN</td>\n",
       "      <td>...</td>\n",
       "      <td>NaN</td>\n",
       "      <td>1.0</td>\n",
       "      <td>3.0</td>\n",
       "      <td>NaN</td>\n",
       "      <td>NaN</td>\n",
       "      <td>NaN</td>\n",
       "      <td>3.0</td>\n",
       "      <td>0.0</td>\n",
       "      <td>NaN</td>\n",
       "      <td>NaN</td>\n",
       "    </tr>\n",
       "    <tr>\n",
       "      <th>May 9, 2020</th>\n",
       "      <td>NaN</td>\n",
       "      <td>2.0</td>\n",
       "      <td>0.0</td>\n",
       "      <td>NaN</td>\n",
       "      <td>NaN</td>\n",
       "      <td>1.0</td>\n",
       "      <td>NaN</td>\n",
       "      <td>NaN</td>\n",
       "      <td>2.0</td>\n",
       "      <td>NaN</td>\n",
       "      <td>...</td>\n",
       "      <td>NaN</td>\n",
       "      <td>1.0</td>\n",
       "      <td>3.0</td>\n",
       "      <td>NaN</td>\n",
       "      <td>NaN</td>\n",
       "      <td>NaN</td>\n",
       "      <td>3.0</td>\n",
       "      <td>0.0</td>\n",
       "      <td>NaN</td>\n",
       "      <td>NaN</td>\n",
       "    </tr>\n",
       "  </tbody>\n",
       "</table>\n",
       "<p>135 rows × 160 columns</p>\n",
       "</div>"
      ],
      "text/plain": [
       "Entity        Afghanistan  Albania  Algeria  Andorra  Angola  Argentina  \\\n",
       "Date                                                                      \n",
       "Apr 1, 2020           1.0      1.0      0.0      1.0     1.0        1.0   \n",
       "Apr 10, 2020          1.0      1.0      0.0      1.0     2.0        1.0   \n",
       "Apr 11, 2020          1.0      1.0      0.0      1.0     2.0        1.0   \n",
       "Apr 12, 2020          1.0      1.0      0.0      1.0     2.0        1.0   \n",
       "Apr 13, 2020          1.0      1.0      0.0      1.0     2.0        1.0   \n",
       "...                   ...      ...      ...      ...     ...        ...   \n",
       "May 5, 2020           NaN      2.0      0.0      3.0     2.0        1.0   \n",
       "May 6, 2020           NaN      2.0      0.0      3.0     2.0        1.0   \n",
       "May 7, 2020           NaN      2.0      0.0      3.0     NaN        1.0   \n",
       "May 8, 2020           NaN      2.0      0.0      3.0     NaN        1.0   \n",
       "May 9, 2020           NaN      2.0      0.0      NaN     NaN        1.0   \n",
       "\n",
       "Entity        Aruba  Australia  Austria  Azerbaijan  ...  \\\n",
       "Date                                                 ...   \n",
       "Apr 1, 2020     1.0        1.0      2.0         2.0  ...   \n",
       "Apr 10, 2020    1.0        1.0      2.0         2.0  ...   \n",
       "Apr 11, 2020    1.0        1.0      2.0         2.0  ...   \n",
       "Apr 12, 2020    1.0        1.0      2.0         2.0  ...   \n",
       "Apr 13, 2020    1.0        1.0      2.0         2.0  ...   \n",
       "...             ...        ...      ...         ...  ...   \n",
       "May 5, 2020     NaN        1.0      2.0         NaN  ...   \n",
       "May 6, 2020     NaN        1.0      2.0         NaN  ...   \n",
       "May 7, 2020     NaN        NaN      2.0         NaN  ...   \n",
       "May 8, 2020     NaN        NaN      2.0         NaN  ...   \n",
       "May 9, 2020     NaN        NaN      2.0         NaN  ...   \n",
       "\n",
       "Entity        United Arab Emirates  United Kingdom   US  Uruguay  Uzbekistan  \\\n",
       "Date                                                                           \n",
       "Apr 1, 2020                    1.0             1.0  3.0      1.0         1.0   \n",
       "Apr 10, 2020                   1.0             1.0  3.0      1.0         1.0   \n",
       "Apr 11, 2020                   1.0             1.0  3.0      1.0         1.0   \n",
       "Apr 12, 2020                   1.0             1.0  3.0      1.0         1.0   \n",
       "Apr 13, 2020                   3.0             1.0  3.0      1.0         1.0   \n",
       "...                            ...             ...  ...      ...         ...   \n",
       "May 5, 2020                    NaN             1.0  3.0      1.0         1.0   \n",
       "May 6, 2020                    NaN             1.0  3.0      1.0         1.0   \n",
       "May 7, 2020                    NaN             1.0  3.0      1.0         1.0   \n",
       "May 8, 2020                    NaN             1.0  3.0      NaN         NaN   \n",
       "May 9, 2020                    NaN             1.0  3.0      NaN         NaN   \n",
       "\n",
       "Entity        Venezuela  Vietnam  Yemen  Zambia  Zimbabwe  \n",
       "Date                                                       \n",
       "Apr 1, 2020         1.0      2.0    0.0     1.0       0.0  \n",
       "Apr 10, 2020        1.0      3.0    0.0     1.0       0.0  \n",
       "Apr 11, 2020        1.0      3.0    0.0     1.0       0.0  \n",
       "Apr 12, 2020        1.0      3.0    0.0     1.0       0.0  \n",
       "Apr 13, 2020        1.0      3.0    0.0     1.0       0.0  \n",
       "...                 ...      ...    ...     ...       ...  \n",
       "May 5, 2020         1.0      3.0    0.0     NaN       NaN  \n",
       "May 6, 2020         1.0      3.0    0.0     NaN       NaN  \n",
       "May 7, 2020         1.0      3.0    0.0     NaN       NaN  \n",
       "May 8, 2020         NaN      3.0    0.0     NaN       NaN  \n",
       "May 9, 2020         NaN      3.0    0.0     NaN       NaN  \n",
       "\n",
       "[135 rows x 160 columns]"
      ]
     },
     "execution_count": 14,
     "metadata": {},
     "output_type": "execute_result"
    }
   ],
   "source": [
    "coronavirus_testing_policies"
   ]
  },
  {
   "cell_type": "code",
   "execution_count": 15,
   "metadata": {},
   "outputs": [
    {
     "data": {
      "image/png": "[encoded data removed]",
      "text/plain": [
       "<Figure size 432x288 with 1 Axes>"
      ]
     },
     "metadata": {
      "needs_background": "light"
     },
     "output_type": "display_data"
    }
   ],
   "source": [
    "coronavirus_testing_policies.plot()\n",
    "plt.legend([])\n",
    "plt.show()"
   ]
  },
  {
   "cell_type": "code",
   "execution_count": 16,
   "metadata": {},
   "outputs": [],
   "source": [
    "advanced_testing_policy_adopted = coronavirus_testing_policies.apply(lambda s: (s >= 2).any())"
   ]
  },
  {
   "cell_type": "code",
   "execution_count": 17,
   "metadata": {},
   "outputs": [
    {
     "data": {
      "text/plain": [
       "True     87\n",
       "False    73\n",
       "dtype: int64"
      ]
     },
     "execution_count": 17,
     "metadata": {},
     "output_type": "execute_result"
    }
   ],
   "source": [
    "advanced_testing_policy_adopted.value_counts()"
   ]
  },
  {
   "cell_type": "code",
   "execution_count": 18,
   "metadata": {},
   "outputs": [
    {
     "data": {
      "text/plain": [
       "Index(['Albania', 'Andorra', 'Angola', 'Austria', 'Azerbaijan', 'Bahrain',\n",
       "       'Bangladesh', 'Barbados', 'Belgium', 'Benin', 'Bosnia and Herzegovina',\n",
       "       'Brunei', 'Cameroon', 'Canada', 'Cape Verde', 'Chile', 'China',\n",
       "       'Colombia', 'Costa Rica', 'Cote d'Ivoire', 'Croatia', 'Cuba', 'Cyprus',\n",
       "       'Czechia', 'Denmark', 'Djibouti', 'Dominica', 'Dominican Republic',\n",
       "       'Ecuador', 'Estonia', 'Gabon', 'Ghana', 'Greece', 'Greenland', 'Guam',\n",
       "       'Guatemala', 'Honduras', 'Hong Kong', 'Iceland', 'India', 'Iraq',\n",
       "       'Ireland', 'Italy', 'Japan', 'Jordan', 'Kazakhstan', 'Kuwait',\n",
       "       'Luxembourg', 'Macao', 'Madagascar', 'Malaysia', 'Morocco', 'Burma',\n",
       "       'New Zealand', 'Oman', 'Pakistan', 'Panama', 'Papua New Guinea',\n",
       "       'Paraguay', 'Peru', 'Philippines', 'Portugal', 'Romania', 'Russia',\n",
       "       'Rwanda', 'San Marino', 'Saudi Arabia', 'Seychelles', 'Sierra Leone',\n",
       "       'Singapore', 'Slovenia', 'South Africa', 'Korea, South', 'South Sudan',\n",
       "       'Spain', 'Sri Lanka', 'Sudan', 'Swaziland', 'Switzerland', 'Syria',\n",
       "       'Taiwan*', 'Thailand', 'Trinidad and Tobago', 'Turkey',\n",
       "       'United Arab Emirates', 'US', 'Vietnam'],\n",
       "      dtype='object', name='Entity')"
      ]
     },
     "execution_count": 18,
     "metadata": {},
     "output_type": "execute_result"
    }
   ],
   "source": [
    "advanced_testing_policy_adopted[advanced_testing_policy_adopted].index"
   ]
  },
  {
   "cell_type": "code",
   "execution_count": 19,
   "metadata": {},
   "outputs": [],
   "source": [
    "advanced_testing_policy_adopted.to_csv(\"../data/clean/coronavirus_advanced_testing_policy_adopted.csv\")"
   ]
  },
  {
   "cell_type": "markdown",
   "metadata": {},
   "source": [
    "## Testing per 1,000 people"
   ]
  },
  {
   "cell_type": "code",
   "execution_count": 20,
   "metadata": {},
   "outputs": [],
   "source": [
    "coronavirus_testing_df = pd.read_csv(\"../data/raw/full-list-cumulative-total-tests-per-thousand.csv\")\\\n",
    "                                           .pivot(index=\"Date\", columns=\"Entity\", values=\"Total tests per thousand\")\\\n",
    "                                           .rename({\n",
    "                                                'Czech Republic': \"Czechia\", \n",
    "                                                'United States': \"US\", \n",
    "                                                'Myanmar': \"Burma\", \n",
    "                                                'South Korea': \"Korea, South\", \n",
    "                                                'Taiwan': \"Taiwan*\"\n",
    "                                            }, axis=1).drop([\n",
    "                                                'United States, specimens tested (CDC)',\n",
    "                                                'Japan, tests performed', \n",
    "                                                'India, people tested', \n",
    "                                                'Italy, tests performed', \n",
    "                                                'United Kingdom, tests performed', \n",
    "                                                'Singapore, swabs tested'\n",
    "                                            ], axis=1)"
   ]
  },
  {
   "cell_type": "code",
   "execution_count": null,
   "metadata": {},
   "outputs": [],
   "source": []
  },
  {
   "cell_type": "code",
   "execution_count": 21,
   "metadata": {},
   "outputs": [],
   "source": [
    "latest_testing_per_thousand = coronavirus_testing_df.fillna(method='ffill').iloc[-1]"
   ]
  },
  {
   "cell_type": "code",
   "execution_count": 22,
   "metadata": {},
   "outputs": [
    {
     "data": {
      "text/plain": [
       "<matplotlib.axes._subplots.AxesSubplot at 0x7fc62d60b370>"
      ]
     },
     "execution_count": 22,
     "metadata": {},
     "output_type": "execute_result"
    },
    {
     "data": {
      "image/png": "[encoded data removed]",
      "text/plain": [
       "<Figure size 432x288 with 1 Axes>"
      ]
     },
     "metadata": {
      "needs_background": "light"
     },
     "output_type": "display_data"
    }
   ],
   "source": [
    "latest_testing_per_thousand.hist(bins=100)"
   ]
  },
  {
   "cell_type": "code",
   "execution_count": 23,
   "metadata": {},
   "outputs": [
    {
     "data": {
      "text/plain": [
       "Entity\n",
       "Vietnam        0.027\n",
       "Nigeria        0.116\n",
       "Burma          0.206\n",
       "Ethiopia       0.264\n",
       "Brazil         0.296\n",
       "Indonesia      0.397\n",
       "Nepal          0.560\n",
       "Kenya          0.577\n",
       "Zimbabwe       0.645\n",
       "Bangladesh     0.710\n",
       "Bolivia        0.730\n",
       "Mexico         0.884\n",
       "Morocco        1.003\n",
       "India          1.104\n",
       "Senegal        1.207\n",
       "Pakistan       1.222\n",
       "Philippines    1.248\n",
       "Uganda         1.263\n",
       "Thailand       1.390\n",
       "Japan          1.676\n",
       "Name: May 9, 2020, dtype: float64"
      ]
     },
     "execution_count": 23,
     "metadata": {},
     "output_type": "execute_result"
    }
   ],
   "source": [
    "latest_testing_per_thousand.sort_values().head(20)"
   ]
  },
  {
   "cell_type": "code",
   "execution_count": 24,
   "metadata": {},
   "outputs": [],
   "source": [
    "latest_testing_per_thousand.to_csv(\"../data/clean/coronavirus_latest_testing_per_thousand.csv\")"
   ]
  }
 ],
 "metadata": {
  "kernelspec": {
   "display_name": "Python (custom)",
   "language": "python",
   "name": "myenv"
  },
  "language_info": {
   "codemirror_mode": {
    "name": "ipython",
    "version": 3
   },
   "file_extension": ".py",
   "mimetype": "text/x-python",
   "name": "python",
   "nbconvert_exporter": "python",
   "pygments_lexer": "ipython3",
   "version": "3.7.6"
  }
 },
 "nbformat": 4,
 "nbformat_minor": 4
}
