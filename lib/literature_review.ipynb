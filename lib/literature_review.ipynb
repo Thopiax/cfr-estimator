{
 "cells": [
  {
   "cell_type": "markdown",
   "metadata": {},
   "source": [
    "# Literature Review"
   ]
  },
  {
   "cell_type": "markdown",
   "metadata": {},
   "source": [
    "## Estimating the infection and case fatality ratio for COVID-19 using age-adjusted data from the outbreak on the Diamond Princess cruise ship\n",
    "\n",
    "https://cmmid.github.io/topics/covid19/diamond_cruise_cfr_estimates.html\n",
    "\n",
    "* Decent aim announcement\n",
    "* Hard to accurately estimate CFR in real-time\n",
    "* Problems with naive CFR\n",
    "    * positive bias due to underreporting/undertesting\n",
    "    * negative bias due to failure to account for active cases at censoring\n",
    "    \n",
    "* Assumption of confirmation-to-death same as hospital admission-to-death"
   ]
  },
  {
   "cell_type": "markdown",
   "metadata": {},
   "source": [
    "## Methods for Estimating the Case Fatality Ratio for a Novel, Emerging Infectious Disease\n",
    "\n",
    "https://pdfs.semanticscholar.org/ebf2/48c9fc0a1a23d1778b94083319aa995e34f4.pdf\n",
    "\n",
    "* Decent explanation of CFR, different estimates\n",
    "* SARS data\n",
    "* exntension of Kaplan-Meier survival procedure based on death and recovery"
   ]
  },
  {
   "cell_type": "markdown",
   "metadata": {},
   "source": [
    "## Incubation Period and Other Epidemiological Characteristics of 2019 Novel Coronavirus Infections with Right Truncation: A Statistical Analysis of Publicly Available Case Data\n",
    "\n",
    "https://www.ncbi.nlm.nih.gov/pmc/articles/PMC7074197/\n",
    "\n",
    "- Good introduction to the Novel Coronavirus and Covid-19\n",
    "- Empirical temporal distributions for Covid-19\n",
    "    - Hospital Admission to Death: Weibull distribution with Mean= 8.9 days (95% CI: 7.3, 10.4), SD= 5.5 (4.2, 7.3)\n",
    "\n",
    "$$\n",
    "\\begin{align*}\n",
    "\\text{Mean}=& 8.9 (7.3, 10.4) \\\\\n",
    "\\text{SD}=& 5.4 (4.2, 7.3) \\\\\n",
    "5\\%\t=& 1.7 (0.9, 2.7) \\\\\n",
    "\\text{Median}=&\t\t8.0 (6.2, 9.8) \\\\\n",
    "95\\%\t=\t& 18.8 (15.5, 24.4) \\\\\n",
    "99\\%\t=\t & 24.2 (19.5, 33.0) \\\\\n",
    "\\end{align*}\n",
    "$$\n",
    "\n",
    "- code available: https://github.com/aakhmetz/WuhanIncubationPeriod2020"
   ]
  },
  {
   "cell_type": "code",
   "execution_count": 86,
   "metadata": {},
   "outputs": [],
   "source": [
    "from scipy.optimize import fsolve\n",
    "from scipy.special import gamma\n",
    "\n",
    "# based on some paper\n",
    "def estimate_weibull_parameters(mu=8.9, std=5.4, k_0=1):\n",
    "    def optimization_problem(k):\n",
    "        return (std / mu)**2 - (gamma(1+ 2/k) / gamma(1+ 1/k)) ** 2 + 1;\n",
    "\n",
    "    # solve for k\n",
    "    k = fsolve(optimization_problem, k_0)[0]   \n",
    "    # solve for lambda\n",
    "    l = mu / gamma(1 + 1/k) \n",
    "    \n",
    "    return k, l\n",
    "\n",
    "k, l = estimate_weibull_parameters()"
   ]
  },
  {
   "cell_type": "markdown",
   "metadata": {},
   "source": [
    "## Early epidemiological assessment of the virulence of emerging infectious diseases: a case study of an influenza pandemic.\n",
    "\n",
    "https://www.ncbi.nlm.nih.gov/pubmed/19718434\n",
    "\n",
    "* cCFR = \"interpreted as the conditional probability of death given confirmed diagnosis\" [[Case fatality proportion](https://www.ncbi.nlm.nih.gov/pubmed/17704971)]\n",
    "\n",
    "* \"During the outbreak of severe acute respiratory syndrome (SARS) in 2002–03, it was shown that this estimator, nCFR, considerably underestimates the cCFR\" [[Methods-SARS](http://localhost:8888/notebooks/nbs/literature_review.ipynb#Methods-for-Estimating-the-Case-Fatality-Ratio-for-a-Novel,-Emerging-Infectious-Disease)]\n",
    "\n",
    "* **Hypergeometric estimator** + MLE\n",
    "\n",
    "* upper bound on virulence (true CFR)\n",
    "    - can we create an analogous **lower bound** on survivability (chance of recovery)\n",
    "\n",
    "* good explanatory graphs: https://www.ncbi.nlm.nih.gov/pmc/articles/PMC2729920/figure/pone-0006852-g003/"
   ]
  },
  {
   "cell_type": "markdown",
   "metadata": {},
   "source": [
    "## Non-parametric estimation of the case fatality ratio with competing risks data: An application to Severe Acute Respiratory Syndrome (SARS)\n",
    "\n",
    "https://www.ncbi.nlm.nih.gov/pmc/articles/PMC7169492/pdf/SIM-26-1982.pdf"
   ]
  },
  {
   "cell_type": "markdown",
   "metadata": {},
   "source": [
    "## Epidemic Science in Real Time\n",
    "\n",
    "https://science.sciencemag.org/content/324/5930/987"
   ]
  },
  {
   "cell_type": "code",
   "execution_count": null,
   "metadata": {},
   "outputs": [],
   "source": []
  }
 ],
 "metadata": {
  "kernelspec": {
   "display_name": "Python [conda env:coronavirus]",
   "language": "python",
   "name": "conda-env-coronavirus-py"
  },
  "language_info": {
   "codemirror_mode": {
    "name": "ipython",
    "version": 3
   },
   "file_extension": ".py",
   "mimetype": "text/x-python",
   "name": "python",
   "nbconvert_exporter": "python",
   "pygments_lexer": "ipython3",
   "version": "3.8.2"
  }
 },
 "nbformat": 4,
 "nbformat_minor": 4
}
