{
 "cells": [
  {
   "cell_type": "markdown",
   "metadata": {},
   "source": [
    "# Model Parameters Analysis"
   ]
  },
  {
   "cell_type": "code",
   "execution_count": null,
   "metadata": {},
   "outputs": [],
   "source": [
    "import pandas as pd\n",
    "from pandas.plotting import autocorrelation_plot\n",
    "\n",
    "import numpy as np\n",
    "import matplotlib.pyplot as plt\n",
    "import seaborn as sns\n",
    "\n",
    "from scipy.interpolate import griddata\n",
    "\n",
    "from IPython.core.display import display, HTML\n",
    "display(HTML(\"<style>.container { width:100% !important; }</style>\"))\n",
    "\n",
    "%matplotlib inline\n",
    "\n",
    "plt.rcParams['figure.figsize']=[40,20]\n",
    "plt.rcParams['font.size']=22\n",
    "plt.rcParams['font.weight']='bold'\n",
    "plt.rcParams['axes.titlesize'] = 28\n",
    "plt.rcParams['axes.labelsize'] = 24"
   ]
  },
  {
   "cell_type": "code",
   "execution_count": null,
   "metadata": {},
   "outputs": [],
   "source": [
    "import chart_studio.plotly as py\n",
    "import plotly.graph_objects as go\n",
    "from plotly.subplots import make_subplots\n",
    "from plotly.offline import plot"
   ]
  },
  {
   "cell_type": "markdown",
   "metadata": {},
   "source": [
    "## SARS"
   ]
  },
  {
   "cell_type": "code",
   "execution_count": null,
   "metadata": {},
   "outputs": [],
   "source": [
    "sars_df = pd.read_csv(\"../data/time_series/cumulative/SARS.csv\", index_col=0)"
   ]
  },
  {
   "cell_type": "code",
   "execution_count": 18,
   "metadata": {},
   "outputs": [
    {
     "data": {
      "text/plain": [
       "10.377613776137762"
      ]
     },
     "execution_count": 18,
     "metadata": {},
     "output_type": "execute_result"
    }
   ],
   "source": [
    "(sars_df[\"Infected\"] / sars_df[\"Dead\"]).iloc[-1]"
   ]
  },
  {
   "cell_type": "code",
   "execution_count": null,
   "metadata": {},
   "outputs": [],
   "source": [
    "sars_7d = pd.read_csv(\"../results/SARS_7d_90_params.csv\")\n",
    "sars_14d = pd.read_csv(\"../results/SARS_14d_90_params.csv\")\n",
    "sars_21d = pd.read_csv(\"../results/SARS_21d_90_params.csv\")\n",
    "sars_117d = pd.read_csv(\"../results/SARS_117d_90_params.csv\")"
   ]
  },
  {
   "cell_type": "code",
   "execution_count": null,
   "metadata": {},
   "outputs": [],
   "source": [
    "fig, ax = plt.subplots(nrows=2, ncols=2, sharex=True, sharey=True)\n",
    "\n",
    "fig.suptitle(\"SARS\")\n",
    "\n",
    "ax[0][0].set_title(\"7 day censoring\")\n",
    "sns.scatterplot(x='α', y='p', hue='l', data=sars_7d, ax=ax[0][0])\n",
    "\n",
    "ax[0][1].set_title(\"14 day censoring\")\n",
    "sns.scatterplot(x='α', y='p', hue='l', data=sars_14d, ax=ax[0][1])\n",
    "\n",
    "ax[1][0].set_title(\"21 day censoring\")\n",
    "sns.scatterplot(x='α', y='p', hue='l', data=sars_21d, ax=ax[1][0])\n",
    "\n",
    "ax[1][1].set_title(\"No censoring\")\n",
    "sns.scatterplot(x='α', y='p', hue='l', data=sars_117d, ax=ax[1][1])\n",
    "\n",
    "# plt.savefig(\"../plots/SARS_params.pdf\")"
   ]
  },
  {
   "cell_type": "code",
   "execution_count": null,
   "metadata": {},
   "outputs": [],
   "source": [
    "def generate_surface(df):\n",
    "    z_data = df.pivot(index=\"α\", columns=\"p\", values=\"l\").fillna(0)\n",
    "    \n",
    "    return go.Surface(z=z_data, x=z_data.index, y=z_data.columns, showscale=False)"
   ]
  },
  {
   "cell_type": "code",
   "execution_count": null,
   "metadata": {},
   "outputs": [],
   "source": [
    "def plot_surfaces(title, df_7d, df_14d, df_21d, df_nod):\n",
    "    fig = make_subplots(\n",
    "        rows=2, cols=2,\n",
    "        specs=[[{'type': 'surface'}, {'type': 'surface'}],\n",
    "               [{'type': 'surface'}, {'type': 'surface'}]],\n",
    "        subplot_titles=[\"7 day\", \"14 day\", \"21 day\", \"No censoring\"]\n",
    "    )\n",
    "\n",
    "    fig.add_trace(generate_surface(df_7d), row=1, col=1)\n",
    "    fig.add_trace(generate_surface(df_14d), row=1, col=2)\n",
    "    fig.add_trace(generate_surface(df_21d), row=2, col=1)\n",
    "    fig.add_trace(generate_surface(df_nod), row=2, col=2)\n",
    "    \n",
    "    fig.update_layout(title=title, autosize=True, width=1000, height=1000, \n",
    "                      scene1 = dict(xaxis_title='α', yaxis_title='p', zaxis_title='likelihood'),\n",
    "                      scene2 = dict(xaxis_title='α', yaxis_title='p', zaxis_title='likelihood'),\n",
    "                      scene3 = dict(xaxis_title='α', yaxis_title='p', zaxis_title='likelihood'),\n",
    "                      scene4 = dict(xaxis_title='α', yaxis_title='p', zaxis_title='likelihood'),\n",
    "                     )\n",
    "\n",
    "    plot(fig, filename=f\"../plots/{title}_3d_surface.html\")"
   ]
  },
  {
   "cell_type": "code",
   "execution_count": null,
   "metadata": {},
   "outputs": [],
   "source": [
    "plot_surfaces(\"SARS\", sars_7d, sars_14d, sars_21d, sars_117d)"
   ]
  },
  {
   "cell_type": "markdown",
   "metadata": {},
   "source": [
    "## MERS"
   ]
  },
  {
   "cell_type": "code",
   "execution_count": null,
   "metadata": {},
   "outputs": [],
   "source": [
    "mers_first_7d = pd.read_csv(\"../results/MERS_first_7d_90_params.csv\")\n",
    "mers_first_14d = pd.read_csv(\"../results/MERS_first_14d_90_params.csv\")\n",
    "mers_first_21d = pd.read_csv(\"../results/MERS_first_21d_90_params.csv\")\n",
    "mers_first_402d = pd.read_csv(\"../results/MERS_first_402d_90_params.csv\")"
   ]
  },
  {
   "cell_type": "code",
   "execution_count": null,
   "metadata": {},
   "outputs": [],
   "source": [
    "mers_second_7d = pd.read_csv(\"../results/MERS_second_7d_90_params.csv\")\n",
    "mers_second_14d = pd.read_csv(\"../results/MERS_second_14d_90_params.csv\")\n",
    "mers_second_21d = pd.read_csv(\"../results/MERS_second_21d_90_params.csv\")\n",
    "mers_second_436d = pd.read_csv(\"../results/MERS_second_436d_90_params.csv\")"
   ]
  },
  {
   "cell_type": "code",
   "execution_count": null,
   "metadata": {},
   "outputs": [],
   "source": [
    "fig, ax = plt.subplots(nrows=2, ncols=2, sharex=True, sharey=True)\n",
    "\n",
    "fig.suptitle(\"MERS (2nd)\")\n",
    "\n",
    "ax[0][0].set_title(\"7 day censoring\")\n",
    "sns.scatterplot(x='α', y='p', data=mers_second_7d, ax=ax[0][0])\n",
    "\n",
    "ax[0][1].set_title(\"14 day censoring\")\n",
    "sns.scatterplot(x='α', y='p', data=mers_second_14d, ax=ax[0][1])\n",
    "\n",
    "ax[1][0].set_title(\"21 day censoring\")\n",
    "sns.scatterplot(x='α', y='p', data=mers_second_21d, ax=ax[1][0])\n",
    "\n",
    "ax[1][1].set_title(\"No censoring\")\n",
    "sns.scatterplot(x='α', y='p', data=mers_second_436d, ax=ax[1][1])\n",
    "\n",
    "plt.savefig(\"../plots/MERS_second_params.pdf\")"
   ]
  },
  {
   "cell_type": "markdown",
   "metadata": {},
   "source": [
    "## Coronavirus"
   ]
  },
  {
   "cell_type": "code",
   "execution_count": null,
   "metadata": {},
   "outputs": [],
   "source": [
    "coronavirus_7d = pd.read_csv(\"../results/Coronavirus_7d_90_params.csv\")\n",
    "coronavirus_14d = pd.read_csv(\"../results/Coronavirus_14d_90_params.csv\")\n",
    "coronavirus_21d = pd.read_csv(\"../results/Coronavirus_21d_90_params.csv\")\n",
    "coronavirus_29d = pd.read_csv(\"../results/Coronavirus_29d_90_params.csv\")"
   ]
  },
  {
   "cell_type": "code",
   "execution_count": null,
   "metadata": {},
   "outputs": [],
   "source": [
    "plot_surfaces(\"Coronavirus\", coronavirus_7d, coronavirus_14d, coronavirus_21d, coronavirus_29d)"
   ]
  },
  {
   "cell_type": "code",
   "execution_count": null,
   "metadata": {},
   "outputs": [],
   "source": [
    "fig, ax = plt.subplots(nrows=2, ncols=2, sharex=True, sharey=True)\n",
    "\n",
    "fig.suptitle(\"Coronavirus\")\n",
    "\n",
    "ax[0][0].set_title(\"7 days\")\n",
    "sns.scatterplot(x='α', y='p', hue='l', data=coronavirus_7d, ax=ax[0][0])\n",
    "\n",
    "ax[0][1].set_title(\"14 days\")\n",
    "sns.scatterplot(x='α', y='p', hue='l', data=coronavirus_14d, ax=ax[0][1])\n",
    "\n",
    "ax[1][0].set_title(\"21 days\")\n",
    "sns.scatterplot(x='α', y='p', hue='l', data=coronavirus_21d, ax=ax[1][0])\n",
    "\n",
    "ax[1][1].set_title(\"29 days\")\n",
    "sns.scatterplot(x='α', y='p', hue='l', data=coronavirus_29d, ax=ax[1][1])\n",
    "\n",
    "plt.savefig(\"../plots/Coronavirus_params.pdf\")"
   ]
  },
  {
   "cell_type": "markdown",
   "metadata": {},
   "source": [
    "## Mean Distance FFX"
   ]
  },
  {
   "cell_type": "code",
   "execution_count": 30,
   "metadata": {},
   "outputs": [],
   "source": [
    "SARS_100FFX = pd.read_csv(\"../results/SARS_100FFX_20_mean_params.csv\")\n",
    "SARS_1000FFX = pd.read_csv(\"../results/SARS_1000FFX_20_mean_params.csv\")\n",
    "SARS_5000FFX = pd.read_csv(\"../results/SARS_5000FFX_20_mean_params.csv\")"
   ]
  },
  {
   "cell_type": "code",
   "execution_count": 21,
   "metadata": {},
   "outputs": [],
   "source": [
    "def generate_surface(df):\n",
    "    alpha_space = np.linspace(df[\"α\"].min(), df[\"α\"].max(), len(df[\"α\"].unique()))\n",
    "    p_space = np.linspace(df[\"p\"].min(), df[\"p\"].max(), len(df[\"p\"].unique()))\n",
    "    \n",
    "    X, Y = np.meshgrid(alpha_space, p_space)\n",
    "    \n",
    "    Z = griddata((df[\"α\"], df[\"p\"]), df[\"d\"], (X, Y), method='linear', fill_value=df[\"d\"].max())\n",
    "    \n",
    "    return go.Surface(z=Z, x=X, y=Y, showscale=False)"
   ]
  },
  {
   "cell_type": "code",
   "execution_count": 28,
   "metadata": {},
   "outputs": [],
   "source": [
    "def plot_surfaces(name, *ffx):\n",
    "    rows = int(np.ceil(len(ffx) / 2))\n",
    "    \n",
    "    fig = make_subplots(\n",
    "        rows=rows, cols=2,\n",
    "        specs=[[{'type': 'surface'}, {'type': 'surface'}] for _ in range(rows)],\n",
    "        subplot_titles=[f\"First Few {x}\" for x in ffx]\n",
    "    )\n",
    "    \n",
    "    alpha_range = [1, 0]\n",
    "    \n",
    "    for i, x in enumerate(ffx):\n",
    "        df = pd.read_csv(f\"../results/{name}_{x}FFX_20_mean_params.csv\")\n",
    "        \n",
    "        if df['α'].min() < alpha_range[0]:\n",
    "            alpha_range[0] = df['α'].min()\n",
    "        \n",
    "        if df['α'].max() > alpha_range[1]:\n",
    "            alpha_range[1] = df['α'].max()\n",
    "            \n",
    "        fig.add_trace(generate_surface(df), row=(1 + i//2), col=(1 + (i%2)))\n",
    "        \n",
    "    \n",
    "    fig.update_layout(title=name, autosize=True, width=1000, height=1000,\n",
    "                      **{\n",
    "                        f\"scene{i + 1}\": dict(\n",
    "                            xaxis=dict(\n",
    "                                title='α',\n",
    "                                nticks=10\n",
    "                            ),\n",
    "                            yaxis=dict(\n",
    "                                title='p',\n",
    "                                nticks=10\n",
    "                            ),\n",
    "                            zaxis_title='distance'\n",
    "                        ) for i in range(len(ffx))\n",
    "                      }\n",
    "                     )\n",
    "\n",
    "    plot(fig, filename=f\"../plots/{name}_FFX_3d_surface.html\")"
   ]
  },
  {
   "cell_type": "code",
   "execution_count": 29,
   "metadata": {},
   "outputs": [],
   "source": [
    "plot_surfaces(\"SARS\", 100, 1000, 5000)"
   ]
  },
  {
   "cell_type": "code",
   "execution_count": null,
   "metadata": {},
   "outputs": [],
   "source": [
    "plot_surfaces(\"Coronavirus\", 100, 1000, 10_000, 100_000)"
   ]
  }
 ],
 "metadata": {
  "kernelspec": {
   "display_name": "Python [conda env:root] *",
   "language": "python",
   "name": "conda-root-py"
  },
  "language_info": {
   "codemirror_mode": {
    "name": "ipython",
    "version": 3
   },
   "file_extension": ".py",
   "mimetype": "text/x-python",
   "name": "python",
   "nbconvert_exporter": "python",
   "pygments_lexer": "ipython3",
   "version": "3.7.6"
  }
 },
 "nbformat": 4,
 "nbformat_minor": 4
}
