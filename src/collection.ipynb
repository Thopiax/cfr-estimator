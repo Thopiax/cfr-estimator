{
 "cells": [
  {
   "cell_type": "code",
   "execution_count": 1,
   "metadata": {
    "collapsed": false,
    "inputHidden": false,
    "jupyter": {
     "outputs_hidden": false
    },
    "outputHidden": false
   },
   "outputs": [
    {
     "data": {
      "text/html": [
       "<style>.container { width:100% !important; }</style>"
      ],
      "text/plain": [
       "<IPython.core.display.HTML object>"
      ]
     },
     "metadata": {},
     "output_type": "display_data"
    }
   ],
   "source": [
    "import pandas as pd\n",
    "import numpy as np\n",
    "import matplotlib.pyplot as plt\n",
    "\n",
    "import requests\n",
    "import urllib.request\n",
    "from bs4 import BeautifulSoup\n",
    "import csv\n",
    "\n",
    "import os\n",
    "import re\n",
    "\n",
    "import pickle\n",
    "\n",
    "from IPython.core.display import display, HTML\n",
    "display(HTML(\"<style>.container { width:100% !important; }</style>\"))\n",
    "\n",
    "%matplotlib inline\n",
    "\n",
    "plt.rcParams['figure.figsize']=[40,20]\n",
    "plt.rcParams['font.size']=22\n",
    "plt.rcParams['font.weight']='bold'\n",
    "plt.rcParams['axes.titlesize'] = 28\n",
    "plt.rcParams['axes.labelsize'] = 24"
   ]
  },
  {
   "cell_type": "markdown",
   "metadata": {},
   "source": [
    "## Utility functions"
   ]
  },
  {
   "cell_type": "code",
   "execution_count": null,
   "metadata": {},
   "outputs": [],
   "source": [
    "def normalize_date_index(df):\n",
    "    df = df.copy()\n",
    "    df_date_range = pd.date_range(df.index[0], df.index[-1], name='Dates')\n",
    "    \n",
    "    df = df.reindex(df_date_range, method='bfill')\n",
    "#     df.index = pd.to_timedelta(df.index - min(df.index))\n",
    "    \n",
    "    return df\n",
    "\n",
    "def consider_reclassifications(s):\n",
    "    return s[::-1].cummin()[::-1]"
   ]
  },
  {
   "cell_type": "markdown",
   "metadata": {},
   "source": [
    "# Epidemic Data Collection"
   ]
  },
  {
   "cell_type": "markdown",
   "metadata": {},
   "source": [
    "## SARS\n",
    "\n",
    "The initial dataset was found in Kaggle and reports the WHO as its source. We import the data, altering the headers and setting the date as index. The index is then normalized (i.e., missing days are filled with the same value as previous days and then converted to a range since the first day) "
   ]
  },
  {
   "cell_type": "code",
   "execution_count": 157,
   "metadata": {},
   "outputs": [],
   "source": [
    "sars_df = pd.read_excel('data/SARS.xlsx', usecols=list(range(4)), parse_dates=[1]).set_index('Date', drop=True).rename({\"Mortality\": \"Dead\"}, axis=1)"
   ]
  },
  {
   "cell_type": "code",
   "execution_count": 158,
   "metadata": {},
   "outputs": [],
   "source": [
    "sars_df = normalize_date_index(sars_df)"
   ]
  },
  {
   "cell_type": "markdown",
   "metadata": {},
   "source": [
    "As it turns out, the infection related data is not monotonic (due to reclassification of cases). Given that the mortality data is monotonic we assume that none of the reclassified cases are accounted for in the deaths. To take into account reclassifications, we reverse the list and take the cumulative minimum of the list and reverse it again."
   ]
  },
  {
   "cell_type": "code",
   "execution_count": 159,
   "metadata": {},
   "outputs": [
    {
     "data": {
      "text/plain": [
       "False"
      ]
     },
     "execution_count": 159,
     "metadata": {},
     "output_type": "execute_result"
    }
   ],
   "source": [
    "sars_df['Infected'].is_monotonic"
   ]
  },
  {
   "cell_type": "code",
   "execution_count": 160,
   "metadata": {},
   "outputs": [
    {
     "data": {
      "text/plain": [
       "True"
      ]
     },
     "execution_count": 160,
     "metadata": {},
     "output_type": "execute_result"
    }
   ],
   "source": [
    "sars_df['Dead'].is_monotonic"
   ]
  },
  {
   "cell_type": "code",
   "execution_count": 161,
   "metadata": {},
   "outputs": [
    {
     "data": {
      "text/plain": [
       "Infected    11\n",
       "Dead         0\n",
       "dtype: int64"
      ]
     },
     "execution_count": 161,
     "metadata": {},
     "output_type": "execute_result"
    }
   ],
   "source": [
    "sars_df.diff().where(lambda x: x < 0).count()"
   ]
  },
  {
   "cell_type": "code",
   "execution_count": 162,
   "metadata": {},
   "outputs": [
    {
     "data": {
      "text/plain": [
       "True"
      ]
     },
     "execution_count": 162,
     "metadata": {},
     "output_type": "execute_result"
    }
   ],
   "source": [
    "sars_df['Infected'] = consider_reclassifications(sars_df['Infected'])\n",
    "sars_df['Infected'].is_monotonic"
   ]
  },
  {
   "cell_type": "code",
   "execution_count": 236,
   "metadata": {},
   "outputs": [],
   "source": [
    "sars_df.to_csv('data/time_series/cumulative/SARS.csv')\n",
    "sars_df.diff().fillna(0).to_csv('data/time_series/diff/SARS.csv')"
   ]
  },
  {
   "cell_type": "markdown",
   "metadata": {},
   "source": [
    "## MERS\n",
    "\n",
    "There is a lot of Excel data available on MERS outbreaks throughout the years. We should split each outbreak and analyze them seperately. This will be especially useful when reconciling separate excel files into one."
   ]
  },
  {
   "cell_type": "code",
   "execution_count": 3,
   "metadata": {},
   "outputs": [],
   "source": [
    "MERS_excels = None\n",
    "with open(\"data/MERS_excels.pk\", \"rb\") as file:\n",
    "    MERS_excels = pickle.load(file)"
   ]
  },
  {
   "cell_type": "markdown",
   "metadata": {},
   "source": [
    "### South Korea 2015\n",
    "\n",
    "The MERS outbreak of 2015 in South Korea is the first set of data available. Upon initial inspection of the files, it becomes clear that these build on top of each other and therefore there's no need to aggregate all of them. Instead, we can just consider the last record available containing 188 patient records."
   ]
  },
  {
   "cell_type": "code",
   "execution_count": 453,
   "metadata": {},
   "outputs": [],
   "source": [
    "south_korea_url = MERS_excels[0]"
   ]
  },
  {
   "cell_type": "code",
   "execution_count": 454,
   "metadata": {},
   "outputs": [
    {
     "data": {
      "text/plain": [
       "'https://www.who.int/csr/disease/coronavirus_infections/MERS-CoV-cases-rok-21Jul15.xlsx'"
      ]
     },
     "execution_count": 454,
     "metadata": {},
     "output_type": "execute_result"
    }
   ],
   "source": [
    "south_korea_url"
   ]
  },
  {
   "cell_type": "code",
   "execution_count": 467,
   "metadata": {},
   "outputs": [],
   "source": [
    "south_korea_df = pd.read_excel(south_korea_url, header=3)"
   ]
  },
  {
   "cell_type": "markdown",
   "metadata": {},
   "source": [
    "#### Create Infection Date column"
   ]
  },
  {
   "cell_type": "code",
   "execution_count": 471,
   "metadata": {},
   "outputs": [],
   "source": [
    "date_columns = [\n",
    "    \"Date of symptoms onset\", \n",
    "    \"Date of first hospitalization\",\n",
    "    \"Date of laboratory confirmation\",\n",
    "    \"Date of outcome\"\n",
    "]"
   ]
  },
  {
   "cell_type": "code",
   "execution_count": 472,
   "metadata": {},
   "outputs": [],
   "source": [
    "for col in date_columns:\n",
    "    south_korea_df[col] = pd.to_datetime(south_korea_df[col], errors='coerce')"
   ]
  },
  {
   "cell_type": "code",
   "execution_count": 473,
   "metadata": {},
   "outputs": [],
   "source": [
    "south_korea_df[\"Date of infection\"] = south_korea_df[\"Date of symptoms onset\"]\n",
    "# first fallback: first hospitalization\n",
    "south_korea_df.loc[south_korea_df[\"Date of infection\"].isna(), \"Date of infection\"] = south_korea_df.loc[south_korea_df[\"Date of infection\"].isna(), \"Date of first hospitalization\"]\n",
    "# second fallback: laboratory confirmation\n",
    "south_korea_df.loc[south_korea_df[\"Date of infection\"].isna(), \"Date of infection\"] = south_korea_df.loc[south_korea_df[\"Date of infection\"].isna(), \"Date of laboratory confirmation\"]"
   ]
  },
  {
   "cell_type": "code",
   "execution_count": 476,
   "metadata": {},
   "outputs": [
    {
     "data": {
      "text/plain": [
       "(185, 4)"
      ]
     },
     "execution_count": 476,
     "metadata": {},
     "output_type": "execute_result"
    }
   ],
   "source": [
    "irrelevant_columns = [\n",
    "    \"Case no.\",\n",
    "    \"Age\",\n",
    "    \"Sex\",\n",
    "    \"Health care worker\",\n",
    "    \"Comorbidities\",\n",
    "    \"Date of symptoms onset\", \n",
    "    \"Date of first hospitalization\",\n",
    "    \"Date of laboratory confirmation\"\n",
    "]\n",
    "\n",
    "reduced_df = south_korea_df.drop(columns=irrelevant_columns)\\\n",
    "                           .rename({\"Date of notification to WHO\": \"Last updated\", \"Status\": \"Outcome\"}, axis=1)\\\n",
    "                           .reset_index(drop=True)\n",
    "\n",
    "reduced_df.columns.name = \"\"\n",
    "reduced_df = reduced_df[[\"Date of infection\", \"Outcome\", \"Date of outcome\", \"Last updated\"]]\n",
    "\n",
    "reduced_df.shape"
   ]
  },
  {
   "cell_type": "code",
   "execution_count": 477,
   "metadata": {},
   "outputs": [],
   "source": [
    "reduced_df.to_csv('data/MERS/MERS_south_korea_patients.csv')"
   ]
  },
  {
   "cell_type": "markdown",
   "metadata": {},
   "source": [
    "#### Create Timeline"
   ]
  },
  {
   "cell_type": "code",
   "execution_count": 478,
   "metadata": {},
   "outputs": [],
   "source": [
    "def build_timeline(df):\n",
    "    infection_cumsum = df.groupby(df['Date of infection'].dt.date).size().cumsum()\n",
    "    death_cumsum = df[df['Outcome'] == 'Deceased'].groupby(df['Date of outcome'].dt.date).size().cumsum()\n",
    "    \n",
    "    index_union = death_cumsum.index.union(infection_cumsum.index)\n",
    "    \n",
    "    return pd.DataFrame({\n",
    "        \"Infected\": infection_cumsum, \n",
    "        \"Dead\": death_cumsum\n",
    "    }, index=index_union).fillna(method='ffill').fillna(0).astype('int64')"
   ]
  },
  {
   "cell_type": "code",
   "execution_count": 479,
   "metadata": {},
   "outputs": [],
   "source": [
    "timeline_df = build_timeline(reduced_df)"
   ]
  },
  {
   "cell_type": "code",
   "execution_count": 480,
   "metadata": {},
   "outputs": [],
   "source": [
    "timeline_df.to_csv('data/MERS/MERS_south_korea_timeline.csv')"
   ]
  },
  {
   "cell_type": "markdown",
   "metadata": {},
   "source": [
    "### Middle East 2017-2019\n",
    "\n",
    "This is the other major outbreak happened in the Middle East from early 2017 on. All remaining records seem to involved this outbreak."
   ]
  },
  {
   "cell_type": "code",
   "execution_count": 492,
   "metadata": {},
   "outputs": [
    {
     "data": {
      "text/plain": [
       "(6862, 17)"
      ]
     },
     "execution_count": 492,
     "metadata": {},
     "output_type": "execute_result"
    }
   ],
   "source": [
    "if os.path.isfile('data/MERS/MERS_middle_east_raw.csv'):\n",
    "    middle_east_df = pd.read_csv('data/MERS/middle_east/raw.csv', index_col=0)\n",
    "else:\n",
    "    middle_east_df = pd.concat([pd.read_excel(url, header=None) for url in MERS_excels[9:]], sort=False).reset_index(drop=True)\n",
    "    \n",
    "    middle_east_df.to_csv('data/MERS/MERS_middle_east_raw.csv')\n",
    "    \n",
    "middle_east_df.shape"
   ]
  },
  {
   "cell_type": "markdown",
   "metadata": {},
   "source": [
    "### Clean DataFrame"
   ]
  },
  {
   "cell_type": "markdown",
   "metadata": {},
   "source": [
    "#### Drop Filler Rows\n",
    "\n",
    "Most excel files contain many filler rows (for descriptions and explanations) that we need to ignore in our analysis. The threshold 2 was selected by iterative selection."
   ]
  },
  {
   "cell_type": "code",
   "execution_count": 493,
   "metadata": {},
   "outputs": [
    {
     "data": {
      "text/plain": [
       "(4472, 17)"
      ]
     },
     "execution_count": 493,
     "metadata": {},
     "output_type": "execute_result"
    }
   ],
   "source": [
    "middle_east_df = middle_east_df.dropna(thresh=2)\n",
    "\n",
    "middle_east_df.shape"
   ]
  },
  {
   "cell_type": "markdown",
   "metadata": {},
   "source": [
    "#### Drop Duplicates"
   ]
  },
  {
   "cell_type": "code",
   "execution_count": 494,
   "metadata": {},
   "outputs": [],
   "source": [
    "middle_east_df = middle_east_df.drop_duplicates()"
   ]
  },
  {
   "cell_type": "code",
   "execution_count": 495,
   "metadata": {},
   "outputs": [
    {
     "data": {
      "text/plain": [
       "(613, 17)"
      ]
     },
     "execution_count": 495,
     "metadata": {},
     "output_type": "execute_result"
    }
   ],
   "source": [
    "middle_east_df.shape"
   ]
  },
  {
   "cell_type": "markdown",
   "metadata": {},
   "source": [
    "#### Remove header rows\n",
    "\n",
    "Before performing any further action, we must keep track of column names so we use one of these rows as our default columns for the DataFrame.\n",
    "\n",
    "In order to remove header rows, we must find a column with a consistent value type across all reports. Initially, we thought that the first column (usually named \"Case no.\") would solve our issue. As it turns out, there are some issues with this column so we move on to the next one (normally called \"Date of notification to WHO (yyyy/mm/dd)\"). Using this column removes a total of 5 rows from the DataFrame."
   ]
  },
  {
   "cell_type": "code",
   "execution_count": 496,
   "metadata": {},
   "outputs": [],
   "source": [
    "middle_east_df.columns = middle_east_df.iloc[0].tolist()"
   ]
  },
  {
   "cell_type": "code",
   "execution_count": 497,
   "metadata": {},
   "outputs": [],
   "source": [
    "middle_east_df['Date of notification to WHO (yyyy/mm/dd)'] = pd.to_datetime(middle_east_df['Date of notification to WHO (yyyy/mm/dd)'], errors='coerce')"
   ]
  },
  {
   "cell_type": "code",
   "execution_count": 498,
   "metadata": {},
   "outputs": [
    {
     "data": {
      "text/html": [
       "<div>\n",
       "<style scoped>\n",
       "    .dataframe tbody tr th:only-of-type {\n",
       "        vertical-align: middle;\n",
       "    }\n",
       "\n",
       "    .dataframe tbody tr th {\n",
       "        vertical-align: top;\n",
       "    }\n",
       "\n",
       "    .dataframe thead th {\n",
       "        text-align: right;\n",
       "    }\n",
       "</style>\n",
       "<table border=\"1\" class=\"dataframe\">\n",
       "  <thead>\n",
       "    <tr style=\"text-align: right;\">\n",
       "      <th></th>\n",
       "      <th>Case no.</th>\n",
       "      <th>Date of notification to WHO (yyyy/mm/dd)</th>\n",
       "      <th>Reporting country</th>\n",
       "      <th>City of residence</th>\n",
       "      <th>Age</th>\n",
       "      <th>Sex</th>\n",
       "      <th>Health care worker</th>\n",
       "      <th>Comorbidities</th>\n",
       "      <th>Exposure to camels</th>\n",
       "      <th>Camel milk consumption</th>\n",
       "      <th>Exposure to MERS-CoV cases</th>\n",
       "      <th>Date of symptoms onset (yyyy/mm/dd)</th>\n",
       "      <th>Date of first hospitalization (yyyy/mm/dd)</th>\n",
       "      <th>Date of laboratory confirmation (yyyy/mm/dd)</th>\n",
       "      <th>Status</th>\n",
       "      <th>Date of outcome (yyyy/mm/dd)</th>\n",
       "      <th>Last updated</th>\n",
       "    </tr>\n",
       "  </thead>\n",
       "  <tbody>\n",
       "    <tr>\n",
       "      <th>4</th>\n",
       "      <td>Case no.</td>\n",
       "      <td>NaT</td>\n",
       "      <td>Reporting country</td>\n",
       "      <td>City of residence</td>\n",
       "      <td>Age</td>\n",
       "      <td>Sex</td>\n",
       "      <td>Health care worker</td>\n",
       "      <td>Comorbidities</td>\n",
       "      <td>Exposure to camels</td>\n",
       "      <td>Camel milk consumption</td>\n",
       "      <td>Exposure to MERS-CoV cases</td>\n",
       "      <td>Date of symptoms onset (yyyy/mm/dd)</td>\n",
       "      <td>Date of first hospitalization (yyyy/mm/dd)</td>\n",
       "      <td>Date of laboratory confirmation (yyyy/mm/dd)</td>\n",
       "      <td>Status</td>\n",
       "      <td>Date of outcome (yyyy/mm/dd)</td>\n",
       "      <td>Last updated</td>\n",
       "    </tr>\n",
       "    <tr>\n",
       "      <th>5027</th>\n",
       "      <td>Case no.</td>\n",
       "      <td>NaT</td>\n",
       "      <td>Reporting country</td>\n",
       "      <td>City of residence</td>\n",
       "      <td>Age</td>\n",
       "      <td>Sex</td>\n",
       "      <td>Health care worker</td>\n",
       "      <td>Comorbidities</td>\n",
       "      <td>Exposure to camels</td>\n",
       "      <td>Camel milk consumption</td>\n",
       "      <td>Exposure to MERS-CoV cases</td>\n",
       "      <td>Date of symptoms onset (yyyy/mm/dd)</td>\n",
       "      <td>Date of first hospitalization (yyyy/mm/dd)</td>\n",
       "      <td>Date of laboratory confirmation (yyyy/mm/dd)</td>\n",
       "      <td>Status</td>\n",
       "      <td>Date of outcome (yyyy/mm/dd)</td>\n",
       "      <td>NaN</td>\n",
       "    </tr>\n",
       "    <tr>\n",
       "      <th>5041</th>\n",
       "      <td>Case no.</td>\n",
       "      <td>NaT</td>\n",
       "      <td>Reporting country</td>\n",
       "      <td>Region of residence</td>\n",
       "      <td>Age</td>\n",
       "      <td>Sex</td>\n",
       "      <td>Health care worker</td>\n",
       "      <td>Comorbidities</td>\n",
       "      <td>Exposure to camels</td>\n",
       "      <td>Camel milk consumption</td>\n",
       "      <td>Contact with a MERS-CoV cases</td>\n",
       "      <td>Date of symptoms onset (yyyy/mm/dd)</td>\n",
       "      <td>Date of first hospitalization (yyyy/mm/dd)</td>\n",
       "      <td>Date of laboratory confirmation (yyyy/mm/dd)</td>\n",
       "      <td>Status</td>\n",
       "      <td>Date of outcome (yyyy/mm/dd)</td>\n",
       "      <td>Last updated</td>\n",
       "    </tr>\n",
       "    <tr>\n",
       "      <th>5056</th>\n",
       "      <td>Case no.</td>\n",
       "      <td>NaT</td>\n",
       "      <td>Reporting country</td>\n",
       "      <td>Region of residence</td>\n",
       "      <td>Age</td>\n",
       "      <td>Sex</td>\n",
       "      <td>Health care worker</td>\n",
       "      <td>Comorbidities</td>\n",
       "      <td>Exposure to camels</td>\n",
       "      <td>Camel milk consumption</td>\n",
       "      <td>Contact with a MERS-CoV cases</td>\n",
       "      <td>Date of symptoms onset (yyyy/mm/dd)</td>\n",
       "      <td>Date of first hospitalization (yyyy/mm/dd)</td>\n",
       "      <td>Date of laboratory confirmation (yyyy/mm/dd)</td>\n",
       "      <td>Status</td>\n",
       "      <td>Date of outcome (yyyy/mm/dd)</td>\n",
       "      <td>Last updated</td>\n",
       "    </tr>\n",
       "    <tr>\n",
       "      <th>5080</th>\n",
       "      <td>NaN</td>\n",
       "      <td>NaT</td>\n",
       "      <td>Age</td>\n",
       "      <td>Gender</td>\n",
       "      <td>National</td>\n",
       "      <td>Healthcare  Worker</td>\n",
       "      <td>Region</td>\n",
       "      <td>City</td>\n",
       "      <td>Onset Date</td>\n",
       "      <td>Admission Date</td>\n",
       "      <td>Co-morbidity</td>\n",
       "      <td>Exposure to Dromedary</td>\n",
       "      <td>Symptomatic</td>\n",
       "      <td>Outcome</td>\n",
       "      <td>Date of Death</td>\n",
       "      <td>NaN</td>\n",
       "      <td>NaN</td>\n",
       "    </tr>\n",
       "    <tr>\n",
       "      <th>6767</th>\n",
       "      <td>Case no.</td>\n",
       "      <td>NaT</td>\n",
       "      <td>Reporting country</td>\n",
       "      <td>Region of residence</td>\n",
       "      <td>Age</td>\n",
       "      <td>Sex</td>\n",
       "      <td>Health care worker</td>\n",
       "      <td>Comorbidities</td>\n",
       "      <td>Exposure to camels</td>\n",
       "      <td>Camel milk consumption</td>\n",
       "      <td>Exposure to MERS-CoV cases</td>\n",
       "      <td>Date of symptoms onset (yyyy/mm/dd)</td>\n",
       "      <td>Date of first hospitalization (yyyy/mm/dd)</td>\n",
       "      <td>Date of laboratory confirmation (yyyy/mm/dd)</td>\n",
       "      <td>Status</td>\n",
       "      <td>Date of outcome (yyyy/mm/dd)</td>\n",
       "      <td>Last updated</td>\n",
       "    </tr>\n",
       "  </tbody>\n",
       "</table>\n",
       "</div>"
      ],
      "text/plain": [
       "      Case no. Date of notification to WHO (yyyy/mm/dd)  Reporting country  \\\n",
       "4     Case no.                                      NaT  Reporting country   \n",
       "5027  Case no.                                      NaT  Reporting country   \n",
       "5041  Case no.                                      NaT  Reporting country   \n",
       "5056  Case no.                                      NaT  Reporting country   \n",
       "5080       NaN                                      NaT                Age   \n",
       "6767  Case no.                                      NaT  Reporting country   \n",
       "\n",
       "        City of residence        Age                 Sex  Health care worker  \\\n",
       "4       City of residence        Age                 Sex  Health care worker   \n",
       "5027    City of residence        Age                 Sex  Health care worker   \n",
       "5041  Region of residence        Age                 Sex  Health care worker   \n",
       "5056  Region of residence        Age                 Sex  Health care worker   \n",
       "5080               Gender  National   Healthcare  Worker              Region   \n",
       "6767  Region of residence        Age                 Sex  Health care worker   \n",
       "\n",
       "      Comorbidities  Exposure to camels  Camel milk consumption  \\\n",
       "4     Comorbidities  Exposure to camels  Camel milk consumption   \n",
       "5027  Comorbidities  Exposure to camels  Camel milk consumption   \n",
       "5041  Comorbidities  Exposure to camels  Camel milk consumption   \n",
       "5056  Comorbidities  Exposure to camels  Camel milk consumption   \n",
       "5080           City          Onset Date          Admission Date   \n",
       "6767  Comorbidities  Exposure to camels  Camel milk consumption   \n",
       "\n",
       "         Exposure to MERS-CoV cases  Date of symptoms onset (yyyy/mm/dd)  \\\n",
       "4        Exposure to MERS-CoV cases  Date of symptoms onset (yyyy/mm/dd)   \n",
       "5027     Exposure to MERS-CoV cases  Date of symptoms onset (yyyy/mm/dd)   \n",
       "5041  Contact with a MERS-CoV cases  Date of symptoms onset (yyyy/mm/dd)   \n",
       "5056  Contact with a MERS-CoV cases  Date of symptoms onset (yyyy/mm/dd)   \n",
       "5080                   Co-morbidity                Exposure to Dromedary   \n",
       "6767     Exposure to MERS-CoV cases  Date of symptoms onset (yyyy/mm/dd)   \n",
       "\n",
       "      Date of first hospitalization (yyyy/mm/dd)  \\\n",
       "4     Date of first hospitalization (yyyy/mm/dd)   \n",
       "5027  Date of first hospitalization (yyyy/mm/dd)   \n",
       "5041  Date of first hospitalization (yyyy/mm/dd)   \n",
       "5056  Date of first hospitalization (yyyy/mm/dd)   \n",
       "5080                                 Symptomatic   \n",
       "6767  Date of first hospitalization (yyyy/mm/dd)   \n",
       "\n",
       "      Date of laboratory confirmation (yyyy/mm/dd)         Status  \\\n",
       "4     Date of laboratory confirmation (yyyy/mm/dd)         Status   \n",
       "5027  Date of laboratory confirmation (yyyy/mm/dd)         Status   \n",
       "5041  Date of laboratory confirmation (yyyy/mm/dd)         Status   \n",
       "5056  Date of laboratory confirmation (yyyy/mm/dd)         Status   \n",
       "5080                                      Outcome   Date of Death   \n",
       "6767  Date of laboratory confirmation (yyyy/mm/dd)         Status   \n",
       "\n",
       "      Date of outcome (yyyy/mm/dd)  Last updated  \n",
       "4     Date of outcome (yyyy/mm/dd)  Last updated  \n",
       "5027  Date of outcome (yyyy/mm/dd)           NaN  \n",
       "5041  Date of outcome (yyyy/mm/dd)  Last updated  \n",
       "5056  Date of outcome (yyyy/mm/dd)  Last updated  \n",
       "5080                           NaN           NaN  \n",
       "6767  Date of outcome (yyyy/mm/dd)  Last updated  "
      ]
     },
     "execution_count": 498,
     "metadata": {},
     "output_type": "execute_result"
    }
   ],
   "source": [
    "middle_east_df[middle_east_df['Date of notification to WHO (yyyy/mm/dd)'].isna()]"
   ]
  },
  {
   "cell_type": "code",
   "execution_count": 499,
   "metadata": {},
   "outputs": [
    {
     "data": {
      "text/plain": [
       "(607, 17)"
      ]
     },
     "execution_count": 499,
     "metadata": {},
     "output_type": "execute_result"
    }
   ],
   "source": [
    "middle_east_df = middle_east_df.dropna(subset=['Date of notification to WHO (yyyy/mm/dd)'])\n",
    "\n",
    "middle_east_df.shape"
   ]
  },
  {
   "cell_type": "markdown",
   "metadata": {},
   "source": [
    "There seems to be one report that was formatted differently than all other ones (as can be seen above in row #332). For this case, we will have to manually assign the values to the correct columns using the column names shown above and hope that it fixes it."
   ]
  },
  {
   "cell_type": "code",
   "execution_count": 500,
   "metadata": {},
   "outputs": [],
   "source": [
    "misformatted_row_indexes = middle_east_df[middle_east_df['Reporting country'].str.isnumeric()].index"
   ]
  },
  {
   "cell_type": "code",
   "execution_count": 501,
   "metadata": {},
   "outputs": [],
   "source": [
    "misformatted_df = middle_east_df.loc[misformatted_row_indexes].copy()"
   ]
  },
  {
   "cell_type": "code",
   "execution_count": 502,
   "metadata": {},
   "outputs": [],
   "source": [
    "misformatted_df['Reporting country'] = 'Saudi Arabia'\n",
    "misformatted_df['City of residence'] = middle_east_df.loc[misformatted_row_indexes]['Comorbidities']\n",
    "misformatted_df['Age'] = middle_east_df.loc[misformatted_row_indexes]['Reporting country']\n",
    "misformatted_df['Sex'] = middle_east_df.loc[misformatted_row_indexes]['City of residence']\n",
    "misformatted_df['Health care worker'] = middle_east_df.loc[misformatted_row_indexes]['Sex']\n",
    "misformatted_df['Comorbidities'] = middle_east_df.loc[misformatted_row_indexes]['Exposure to MERS-CoV cases']\n",
    "misformatted_df['Exposure to camels'] = middle_east_df.loc[misformatted_row_indexes]['Date of symptoms onset (yyyy/mm/dd)']\n",
    "misformatted_df['Status'] = middle_east_df.loc[misformatted_row_indexes]['Date of laboratory confirmation (yyyy/mm/dd)']\n",
    "misformatted_df['Date of symptoms onset (yyyy/mm/dd)'] = middle_east_df.loc[misformatted_row_indexes]['Exposure to camels']\n",
    "misformatted_df['Date of outcome (yyyy/mm/dd)'] = middle_east_df.loc[misformatted_row_indexes]['Status']\n",
    "misformatted_df['Date of first hospitalization (yyyy/mm/dd)'] = middle_east_df.loc[misformatted_row_indexes]['Camel milk consumption']\n",
    "misformatted_df['Date of laboratory confirmation (yyyy/mm/dd)'] = np.nan"
   ]
  },
  {
   "cell_type": "code",
   "execution_count": 503,
   "metadata": {},
   "outputs": [],
   "source": [
    "middle_east_df.loc[misformatted_row_indexes, :] = misformatted_df"
   ]
  },
  {
   "cell_type": "markdown",
   "metadata": {},
   "source": [
    "#### Reformat Identifier Columns"
   ]
  },
  {
   "cell_type": "code",
   "execution_count": 379,
   "metadata": {},
   "outputs": [],
   "source": [
    "middle_east_df.replace({\n",
    "    \"male\": \"M\",\n",
    "    \"female\": \"F\",\n",
    "    \"Alive \": \"Alive\",\n",
    "    \"Survivied \": \"Survived\",\n",
    "    \"Recovered\": \"Survived\",\n",
    "    \"Died\": \"Deceased\"\n",
    "}, inplace=True)"
   ]
  },
  {
   "cell_type": "markdown",
   "metadata": {},
   "source": [
    "#### Sort DataFrame chronologically\n",
    "\n",
    "Firstly, we need to handle the cases of empty Last updated value. We will consider the date of notification to be this last update."
   ]
  },
  {
   "cell_type": "code",
   "execution_count": 380,
   "metadata": {},
   "outputs": [],
   "source": [
    "middle_east_df.loc[:, \"Last updated\"] = pd.to_datetime(middle_east_df[\"Last updated\"], errors='coerce')"
   ]
  },
  {
   "cell_type": "code",
   "execution_count": 381,
   "metadata": {},
   "outputs": [],
   "source": [
    "nan_last_updated_mask = middle_east_df[middle_east_df[\"Last updated\"].isna()].index"
   ]
  },
  {
   "cell_type": "code",
   "execution_count": 382,
   "metadata": {},
   "outputs": [],
   "source": [
    "middle_east_df.loc[nan_last_updated_mask, \"Last updated\"] = middle_east_df.loc[nan_last_updated_mask, \"Date of notification to WHO (yyyy/mm/dd)\"]"
   ]
  },
  {
   "cell_type": "code",
   "execution_count": 383,
   "metadata": {},
   "outputs": [],
   "source": [
    "middle_east_df = middle_east_df.sort_values(by='Last updated').reset_index(drop=True)"
   ]
  },
  {
   "cell_type": "markdown",
   "metadata": {},
   "source": [
    "#### Remove duplicate patients\n",
    "\n",
    "First, we remove duplicated patients by their quasi-identifiers (defined below) including their `\"Status\"`. This allows us to remove those duplicates that occur due to an update (with no changes)."
   ]
  },
  {
   "cell_type": "code",
   "execution_count": 384,
   "metadata": {},
   "outputs": [],
   "source": [
    "quasi_identifiers = [\n",
    "    \"Date of notification to WHO (yyyy/mm/dd)\", \n",
    "    \"Reporting country\", \n",
    "    \"City of residence\", \n",
    "    \"Age\", \n",
    "    \"Sex\", \n",
    "    \"Date of symptoms onset (yyyy/mm/dd)\", \n",
    "    \"Date of first hospitalization (yyyy/mm/dd)\"\n",
    "]"
   ]
  },
  {
   "cell_type": "code",
   "execution_count": 385,
   "metadata": {},
   "outputs": [
    {
     "data": {
      "text/plain": [
       "(574, 17)"
      ]
     },
     "execution_count": 385,
     "metadata": {},
     "output_type": "execute_result"
    }
   ],
   "source": [
    "middle_east_df = middle_east_df.drop_duplicates(keep='last', subset=(quasi_identifiers + [\"Status\"]))\n",
    "\n",
    "middle_east_df.shape"
   ]
  },
  {
   "cell_type": "markdown",
   "metadata": {},
   "source": [
    "Next, we look at duplicated patients given their `quasi_identifiers` and keep the most up-to-date record for each patient."
   ]
  },
  {
   "cell_type": "code",
   "execution_count": 386,
   "metadata": {},
   "outputs": [
    {
     "data": {
      "text/plain": [
       "(546, 17)"
      ]
     },
     "execution_count": 386,
     "metadata": {},
     "output_type": "execute_result"
    }
   ],
   "source": [
    "middle_east_df = middle_east_df.drop_duplicates(keep='last', subset=quasi_identifiers)\n",
    "\n",
    "middle_east_df.shape"
   ]
  },
  {
   "cell_type": "markdown",
   "metadata": {},
   "source": [
    "We will now assumed that all other patients whose `\"Status\"` is `Alive` have gone on to survive the disease. Therefore, we can relabel them as `Survived`"
   ]
  },
  {
   "cell_type": "code",
   "execution_count": 387,
   "metadata": {},
   "outputs": [],
   "source": [
    "middle_east_df.replace({\"Alive\": \"Survived\"}, inplace=True)"
   ]
  },
  {
   "cell_type": "markdown",
   "metadata": {},
   "source": [
    "#### Drop unconfirmed cases\n",
    "\n",
    "There are 48 patients for which the laboratory confirmation date is empty. This number is non-negligeable for the scale of data available, but we should still drop these as we can't be sure that they represent people who were actually infected."
   ]
  },
  {
   "cell_type": "code",
   "execution_count": 388,
   "metadata": {},
   "outputs": [],
   "source": [
    "middle_east_df = middle_east_df[~middle_east_df[\"Date of laboratory confirmation (yyyy/mm/dd)\"].isna()]"
   ]
  },
  {
   "cell_type": "code",
   "execution_count": 389,
   "metadata": {},
   "outputs": [
    {
     "data": {
      "text/plain": [
       "(499, 17)"
      ]
     },
     "execution_count": 389,
     "metadata": {},
     "output_type": "execute_result"
    }
   ],
   "source": [
    "middle_east_df.shape"
   ]
  },
  {
   "cell_type": "markdown",
   "metadata": {},
   "source": [
    "#### Create Infection Date column\n",
    "\n",
    "First, we want to convert all dates into datetime types and drop any unconfirmed cases (there are only 48 of them)."
   ]
  },
  {
   "cell_type": "code",
   "execution_count": 390,
   "metadata": {},
   "outputs": [],
   "source": [
    "date_columns = [\n",
    "    \"Date of symptoms onset (yyyy/mm/dd)\", \n",
    "    \"Date of first hospitalization (yyyy/mm/dd)\",\n",
    "    \"Date of laboratory confirmation (yyyy/mm/dd)\",\n",
    "    \"Date of outcome (yyyy/mm/dd)\"\n",
    "]"
   ]
  },
  {
   "cell_type": "code",
   "execution_count": 391,
   "metadata": {},
   "outputs": [],
   "source": [
    "for col in date_columns:\n",
    "    middle_east_df[col] = pd.to_datetime(middle_east_df[col], errors='coerce')"
   ]
  },
  {
   "cell_type": "markdown",
   "metadata": {},
   "source": [
    "Next, we want to define a new column that will be used to simplify and unify the three different infection related date columns. We will prioritize the symptoms column as our main infection start column (even when there is no laboratory confirmation). For null values, we will fallback to the first hospitalization and then laboratory confirmation."
   ]
  },
  {
   "cell_type": "code",
   "execution_count": 392,
   "metadata": {},
   "outputs": [],
   "source": [
    "middle_east_df[\"Date of infection\"] = middle_east_df[\"Date of symptoms onset (yyyy/mm/dd)\"]\n",
    "# first fallback: first hospitalization\n",
    "middle_east_df.loc[middle_east_df[\"Date of infection\"].isna(), \"Date of infection\"] = middle_east_df.loc[middle_east_df[\"Date of infection\"].isna(), \"Date of first hospitalization (yyyy/mm/dd)\"]\n",
    "# second fallback: laboratory confirmation\n",
    "middle_east_df.loc[middle_east_df[\"Date of infection\"].isna(), \"Date of infection\"] = middle_east_df.loc[middle_east_df[\"Date of infection\"].isna(), \"Date of laboratory confirmation (yyyy/mm/dd)\"]"
   ]
  },
  {
   "cell_type": "markdown",
   "metadata": {},
   "source": [
    "#### Drop irrelevant columns"
   ]
  },
  {
   "cell_type": "code",
   "execution_count": 407,
   "metadata": {},
   "outputs": [
    {
     "data": {
      "text/plain": [
       "(499, 4)"
      ]
     },
     "execution_count": 407,
     "metadata": {},
     "output_type": "execute_result"
    }
   ],
   "source": [
    "irrelevant_columns = [\n",
    "    \"Case no.\",\n",
    "    \"Date of notification to WHO (yyyy/mm/dd)\",\n",
    "    \"Reporting country\",\n",
    "    \"City of residence\",\n",
    "    \"Age\",\n",
    "    \"Sex\",\n",
    "    \"Health care worker\",\n",
    "    \"Comorbidities\",\n",
    "    \"Exposure to camels\",\n",
    "    \"Camel milk consumption\",\n",
    "    \"Exposure to MERS-CoV cases\",\n",
    "    \"Date of symptoms onset (yyyy/mm/dd)\", \n",
    "    \"Date of first hospitalization (yyyy/mm/dd)\",\n",
    "    \"Date of laboratory confirmation (yyyy/mm/dd)\",\n",
    "]\n",
    "\n",
    "reduced_df = middle_east_df.drop(columns=irrelevant_columns)\\\n",
    "                           .rename({\"Date of outcome (yyyy/mm/dd)\": \"Date of outcome\", \"Status\": \"Outcome\"}, axis=1)\\\n",
    "                           .reset_index(drop=True)\n",
    "\n",
    "reduced_df.columns.name = \"\"\n",
    "reduced_df = reduced_df[[\"Date of infection\", \"Outcome\", \"Date of outcome\", \"Last updated\"]]\n",
    "\n",
    "reduced_df.shape"
   ]
  },
  {
   "cell_type": "code",
   "execution_count": 431,
   "metadata": {},
   "outputs": [],
   "source": [
    "reduced_df.to_csv('data/MERS/MERS_middle_east_patients.csv')"
   ]
  },
  {
   "cell_type": "markdown",
   "metadata": {},
   "source": [
    "#### Create Timeline"
   ]
  },
  {
   "cell_type": "code",
   "execution_count": 450,
   "metadata": {},
   "outputs": [],
   "source": [
    "def build_timeline(df):\n",
    "    infection_cumsum = df.groupby(df['Date of infection'].dt.date).size().cumsum()\n",
    "    death_cumsum = df[df['Outcome'] == 'Deceased'].groupby(df['Date of outcome'].dt.date).size().cumsum()\n",
    "    \n",
    "    index_union = death_cumsum.index.union(infection_cumsum.index)\n",
    "    \n",
    "    return pd.DataFrame({\n",
    "        \"Infected\": infection_cumsum, \n",
    "        \"Dead\": death_cumsum\n",
    "    }, index=index_union).fillna(method='ffill').fillna(0).astype('int64')"
   ]
  },
  {
   "cell_type": "code",
   "execution_count": 451,
   "metadata": {},
   "outputs": [],
   "source": [
    "timeline_df = build_timeline(reduced_df)"
   ]
  },
  {
   "cell_type": "code",
   "execution_count": 446,
   "metadata": {},
   "outputs": [],
   "source": [
    "timeline_df.to_csv('data/MERS/MERS_middle_east_timeline.csv')"
   ]
  },
  {
   "cell_type": "markdown",
   "metadata": {},
   "source": [
    "### Normalize Timeline"
   ]
  },
  {
   "cell_type": "code",
   "execution_count": 214,
   "metadata": {},
   "outputs": [],
   "source": [
    "mers_ts = pd.read_csv('data/MERS/MERS_middle_east_timeline.csv', parse_dates=[0], index_col=0)"
   ]
  },
  {
   "cell_type": "code",
   "execution_count": 215,
   "metadata": {},
   "outputs": [],
   "source": [
    "mers_ts = normalize_date_index(mers_ts)"
   ]
  },
  {
   "cell_type": "code",
   "execution_count": 216,
   "metadata": {},
   "outputs": [
    {
     "data": {
      "text/plain": [
       "<matplotlib.axes._subplots.AxesSubplot at 0x133e65110>"
      ]
     },
     "execution_count": 216,
     "metadata": {},
     "output_type": "execute_result"
    },
    {
     "data": {
      "image/png": "[encoded data removed]",
      "text/plain": [
       "<Figure size 2880x1440 with 1 Axes>"
      ]
     },
     "metadata": {
      "needs_background": "light"
     },
     "output_type": "display_data"
    }
   ],
   "source": [
    "mers_ts.plot()"
   ]
  },
  {
   "cell_type": "markdown",
   "metadata": {},
   "source": [
    "Clearly, there are two sepeare outbreaks in this dataset. One ending before week 60 (seems like week 57) and the other starting at week 90."
   ]
  },
  {
   "cell_type": "code",
   "execution_count": 217,
   "metadata": {},
   "outputs": [],
   "source": [
    "start_date = min(mers_ts.index)"
   ]
  },
  {
   "cell_type": "code",
   "execution_count": 246,
   "metadata": {},
   "outputs": [
    {
     "data": {
      "text/plain": [
       "<matplotlib.axes._subplots.AxesSubplot at 0x1252e5b10>"
      ]
     },
     "execution_count": 246,
     "metadata": {},
     "output_type": "execute_result"
    },
    {
     "data": {
      "image/png": "[encoded data removed]",
      "text/plain": [
       "<Figure size 2880x1440 with 1 Axes>"
      ]
     },
     "metadata": {
      "needs_background": "light"
     },
     "output_type": "display_data"
    }
   ],
   "source": [
    "first_mers_ts = mers_ts.loc[:start_date + pd.Timedelta(days=400)]\n",
    "# set the first day to be 0s\n",
    "first_mers_ts = first_mers_ts.reindex(pd.date_range(start_date - pd.Timedelta(days=1), max(first_mers_ts.index))).fillna(0)\n",
    "first_mers_ts.plot()"
   ]
  },
  {
   "cell_type": "code",
   "execution_count": 247,
   "metadata": {},
   "outputs": [],
   "source": [
    "first_mers_ts.to_csv('data/time_series/cumulative/MERS_first.csv')\n",
    "first_mers_ts.diff().fillna(0).to_csv('data/time_series/diff/MERS_first.csv')"
   ]
  },
  {
   "cell_type": "code",
   "execution_count": 226,
   "metadata": {},
   "outputs": [
    {
     "data": {
      "text/plain": [
       "<matplotlib.axes._subplots.AxesSubplot at 0x138bd6d10>"
      ]
     },
     "execution_count": 226,
     "metadata": {},
     "output_type": "execute_result"
    },
    {
     "data": {
      "image/png": "[encoded data removed]",
      "text/plain": [
       "<Figure size 2880x1440 with 1 Axes>"
      ]
     },
     "metadata": {
      "needs_background": "light"
     },
     "output_type": "display_data"
    }
   ],
   "source": [
    "second_mers_ts = mers_ts.loc[start_date + pd.Timedelta(days=633):] - mers_ts.loc[start_date + pd.Timedelta(days=632)]\n",
    "second_mers_ts.plot()"
   ]
  },
  {
   "cell_type": "code",
   "execution_count": 238,
   "metadata": {},
   "outputs": [],
   "source": [
    "second_mers_ts.to_csv('data/time_series/cumulative/MERS_second.csv')\n",
    "second_mers_ts.diff().fillna(0).to_csv('data/time_series/diff/MERS_second.csv')"
   ]
  },
  {
   "cell_type": "markdown",
   "metadata": {},
   "source": [
    "## Ebola\n",
    "\n",
    "The dataset was obtained from https://data.humdata.org/dataset/ebola-cases-2014 and the WHO is the source. There are a couple of caveats:\n",
    "\n",
    "> The WHO declared Senegal, Nigeria, Spain, United States of America, Mali, the United Kingdom, Liberia, Sierra Leone and Guinea to be Ebola free on 17 October, 20 October, 2 December, mid December 2014, 18 January 2015, 10 March 2015, 9 May 2015, 7 November 2015 and 29 December 2015 respectively. Although not reported in the sitrep, the cumulative figures from these countries are presented in the dataset for convenience. On 14 November 2014, Liberia has fewer deaths than the last update on 12 November due to reclassification. Data are based on official information reported by ministries of health, through WHO country offices. "
   ]
  },
  {
   "cell_type": "code",
   "execution_count": 19,
   "metadata": {},
   "outputs": [],
   "source": [
    "eradication_dates = {\n",
    "    'Senegal': '2014-10-17',\n",
    "    'Nigeria': '2014-10-20',\n",
    "    'Spain': '2014-12-02',\n",
    "    'United States of America': '2014-12-15',\n",
    "    'Mali': '2015-01-18',\n",
    "    'United Kingdom': '2015-03-10',\n",
    "    'Liberia': '2015-05-09',\n",
    "    'Sierra Leone': '2015-11-07',\n",
    "    'Guinea': '2015-12-29',\n",
    "}\n",
    "\n",
    "ebola_df = pd.read_csv('data/ebola_data_db_format.csv')"
   ]
  },
  {
   "cell_type": "code",
   "execution_count": 10,
   "metadata": {},
   "outputs": [],
   "source": [
    "confirmed_df = ebola_df[ebola_df[\"Indicator\"].isin([\"Cumulative number of confirmed Ebola cases\", \"Cumulative number of confirmed Ebola deaths\"])]"
   ]
  },
  {
   "cell_type": "code",
   "execution_count": 11,
   "metadata": {},
   "outputs": [],
   "source": [
    "reduced_df = confirmed_df.groupby(['Country', 'Date', 'Indicator'])['value'].sum().unstack('Indicator').fillna(method='ffill').astype('int64')"
   ]
  },
  {
   "cell_type": "markdown",
   "metadata": {},
   "source": [
    "There are a few countries in the dataset that had only a handful of confirmed cases. We will disregard them as they don't represent the true outbreaks. We will therefore only keep Guinea, Liberia and Sierra Leone."
   ]
  },
  {
   "cell_type": "code",
   "execution_count": 32,
   "metadata": {},
   "outputs": [
    {
     "data": {
      "text/html": [
       "<div>\n",
       "<style scoped>\n",
       "    .dataframe tbody tr th:only-of-type {\n",
       "        vertical-align: middle;\n",
       "    }\n",
       "\n",
       "    .dataframe tbody tr th {\n",
       "        vertical-align: top;\n",
       "    }\n",
       "\n",
       "    .dataframe thead th {\n",
       "        text-align: right;\n",
       "    }\n",
       "</style>\n",
       "<table border=\"1\" class=\"dataframe\">\n",
       "  <thead>\n",
       "    <tr style=\"text-align: right;\">\n",
       "      <th>Indicator</th>\n",
       "      <th>Cumulative number of confirmed Ebola cases</th>\n",
       "      <th>Cumulative number of confirmed Ebola deaths</th>\n",
       "    </tr>\n",
       "    <tr>\n",
       "      <th>Country</th>\n",
       "      <th></th>\n",
       "      <th></th>\n",
       "    </tr>\n",
       "  </thead>\n",
       "  <tbody>\n",
       "    <tr>\n",
       "      <th>Guinea</th>\n",
       "      <td>3351</td>\n",
       "      <td>2083</td>\n",
       "    </tr>\n",
       "    <tr>\n",
       "      <th>Guinea 2</th>\n",
       "      <td>2</td>\n",
       "      <td>1</td>\n",
       "    </tr>\n",
       "    <tr>\n",
       "      <th>Italy</th>\n",
       "      <td>1</td>\n",
       "      <td>1</td>\n",
       "    </tr>\n",
       "    <tr>\n",
       "      <th>Liberia</th>\n",
       "      <td>3153</td>\n",
       "      <td>3858</td>\n",
       "    </tr>\n",
       "    <tr>\n",
       "      <th>Liberia 2</th>\n",
       "      <td>9</td>\n",
       "      <td>3</td>\n",
       "    </tr>\n",
       "    <tr>\n",
       "      <th>Mali</th>\n",
       "      <td>7</td>\n",
       "      <td>5</td>\n",
       "    </tr>\n",
       "    <tr>\n",
       "      <th>Nigeria</th>\n",
       "      <td>19</td>\n",
       "      <td>7</td>\n",
       "    </tr>\n",
       "    <tr>\n",
       "      <th>Senegal</th>\n",
       "      <td>1</td>\n",
       "      <td>0</td>\n",
       "    </tr>\n",
       "    <tr>\n",
       "      <th>Sierra Leone</th>\n",
       "      <td>8704</td>\n",
       "      <td>3589</td>\n",
       "    </tr>\n",
       "    <tr>\n",
       "      <th>Spain</th>\n",
       "      <td>1</td>\n",
       "      <td>0</td>\n",
       "    </tr>\n",
       "    <tr>\n",
       "      <th>United Kingdom</th>\n",
       "      <td>1</td>\n",
       "      <td>0</td>\n",
       "    </tr>\n",
       "    <tr>\n",
       "      <th>United States of America</th>\n",
       "      <td>4</td>\n",
       "      <td>1</td>\n",
       "    </tr>\n",
       "  </tbody>\n",
       "</table>\n",
       "</div>"
      ],
      "text/plain": [
       "Indicator                 Cumulative number of confirmed Ebola cases  \\\n",
       "Country                                                                \n",
       "Guinea                                                          3351   \n",
       "Guinea 2                                                           2   \n",
       "Italy                                                              1   \n",
       "Liberia                                                         3153   \n",
       "Liberia 2                                                          9   \n",
       "Mali                                                               7   \n",
       "Nigeria                                                           19   \n",
       "Senegal                                                            1   \n",
       "Sierra Leone                                                    8704   \n",
       "Spain                                                              1   \n",
       "United Kingdom                                                     1   \n",
       "United States of America                                           4   \n",
       "\n",
       "Indicator                 Cumulative number of confirmed Ebola deaths  \n",
       "Country                                                                \n",
       "Guinea                                                           2083  \n",
       "Guinea 2                                                            1  \n",
       "Italy                                                               1  \n",
       "Liberia                                                          3858  \n",
       "Liberia 2                                                           3  \n",
       "Mali                                                                5  \n",
       "Nigeria                                                             7  \n",
       "Senegal                                                             0  \n",
       "Sierra Leone                                                     3589  \n",
       "Spain                                                               0  \n",
       "United Kingdom                                                      0  \n",
       "United States of America                                            1  "
      ]
     },
     "execution_count": 32,
     "metadata": {},
     "output_type": "execute_result"
    }
   ],
   "source": [
    "reduced_df.max(level=0)"
   ]
  },
  {
   "cell_type": "code",
   "execution_count": 55,
   "metadata": {},
   "outputs": [],
   "source": [
    "reduced_df = reduced_df.loc[['Guinea', 'Liberia', 'Sierra Leone']].rename({\n",
    "    \"Cumulative number of confirmed Ebola cases\": 'Infected',\n",
    "    \"Cumulative number of confirmed Ebola deaths\": 'Dead'\n",
    "}, axis=1)"
   ]
  },
  {
   "cell_type": "code",
   "execution_count": 56,
   "metadata": {},
   "outputs": [],
   "source": [
    "guinea_df = reduced_df.loc['Guinea'][:eradication_dates['Guinea']]\n",
    "liberia_df = reduced_df.loc['Liberia'][:eradication_dates['Liberia']]\n",
    "sierra_leone_df = reduced_df.loc['Sierra Leone'][:eradication_dates['Sierra Leone']]"
   ]
  },
  {
   "cell_type": "code",
   "execution_count": 60,
   "metadata": {},
   "outputs": [],
   "source": [
    "guinea_df.to_csv('data/time_series/ebola_guinea.csv')\n",
    "liberia_df.to_csv('data/time_series/ebola_liberia.csv')\n",
    "sierra_leone_df.to_csv('data/time_series/ebola_sierra_leone.csv')"
   ]
  },
  {
   "cell_type": "markdown",
   "metadata": {},
   "source": [
    "## Coronavirus\n",
    "\n",
    "The timeseries datasets for the Novel Coronavirus were provided by JHU CSSE (John's Hopkins) in this [GitHub repo](https://github.com/CSSEGISandData/COVID-19/)."
   ]
  },
  {
   "cell_type": "code",
   "execution_count": 2,
   "metadata": {},
   "outputs": [],
   "source": [
    "coronavirus_infected = pd.read_csv('https://raw.githubusercontent.com/CSSEGISandData/COVID-19/master/csse_covid_19_data/csse_covid_19_time_series/time_series_19-covid-Confirmed.csv')\\\n",
    "                      .drop([\"Province/State\", \"Country/Region\", \"Lat\", \"Long\"], axis=1)\\\n",
    "                      .sum(axis=0)\n",
    "\n",
    "coronavirus_deaths = pd.read_csv('https://raw.githubusercontent.com/CSSEGISandData/COVID-19/master/csse_covid_19_data/csse_covid_19_time_series/time_series_19-covid-Deaths.csv')\\\n",
    "                      .drop([\"Province/State\", \"Country/Region\", \"Lat\", \"Long\"], axis=1)\\\n",
    "                      .sum(axis=0)"
   ]
  },
  {
   "cell_type": "code",
   "execution_count": 3,
   "metadata": {},
   "outputs": [
    {
     "data": {
      "text/plain": [
       "1/22/20       555\n",
       "1/23/20       653\n",
       "1/24/20       941\n",
       "1/25/20      1434\n",
       "1/26/20      2118\n",
       "1/27/20      2927\n",
       "1/28/20      5578\n",
       "1/29/20      6166\n",
       "1/30/20      8234\n",
       "1/31/20      9927\n",
       "2/1/20      12038\n",
       "2/2/20      16787\n",
       "2/3/20      19881\n",
       "2/4/20      23892\n",
       "2/5/20      27635\n",
       "2/6/20      30817\n",
       "2/7/20      34391\n",
       "2/8/20      37120\n",
       "2/9/20      40150\n",
       "2/10/20     42762\n",
       "2/11/20     44802\n",
       "2/12/20     45221\n",
       "2/13/20     60368\n",
       "2/14/20     66885\n",
       "2/15/20     69030\n",
       "2/16/20     71224\n",
       "2/17/20     73258\n",
       "2/18/20     75136\n",
       "2/19/20     75639\n",
       "2/20/20     76197\n",
       "2/21/20     76823\n",
       "2/22/20     78579\n",
       "2/23/20     78965\n",
       "2/24/20     79568\n",
       "2/25/20     80413\n",
       "2/26/20     81395\n",
       "2/27/20     82754\n",
       "2/28/20     84120\n",
       "2/29/20     86011\n",
       "3/1/20      88369\n",
       "3/2/20      90306\n",
       "3/3/20      92840\n",
       "3/4/20      95120\n",
       "3/5/20      97882\n",
       "3/6/20     101784\n",
       "3/7/20     105821\n",
       "3/8/20     109795\n",
       "3/9/20     113561\n",
       "3/10/20    118592\n",
       "3/11/20    125865\n",
       "3/12/20    128343\n",
       "3/13/20    145193\n",
       "3/14/20    156094\n",
       "3/15/20    167446\n",
       "3/16/20    181527\n",
       "3/17/20    197142\n",
       "3/18/20    214910\n",
       "dtype: int64"
      ]
     },
     "execution_count": 3,
     "metadata": {},
     "output_type": "execute_result"
    }
   ],
   "source": [
    "coronavirus_infected"
   ]
  },
  {
   "cell_type": "code",
   "execution_count": 4,
   "metadata": {},
   "outputs": [],
   "source": [
    "coronavirus_df = pd.DataFrame.from_dict({'Infected': coronavirus_infected, 'Dead': coronavirus_deaths})"
   ]
  },
  {
   "cell_type": "code",
   "execution_count": 7,
   "metadata": {},
   "outputs": [],
   "source": [
    "coronavirus_df.to_csv('../data/time_series/cumulative/Coronavirus.csv')\n",
    "coronavirus_df.diff().fillna(0).to_csv('../data/time_series/diff/Coronavirus.csv')"
   ]
  },
  {
   "cell_type": "code",
   "execution_count": null,
   "metadata": {},
   "outputs": [],
   "source": []
  }
 ],
 "metadata": {
  "kernel_info": {
   "name": "python3"
  },
  "kernelspec": {
   "display_name": "Python 3",
   "language": "python",
   "name": "python3"
  },
  "language_info": {
   "codemirror_mode": {
    "name": "ipython",
    "version": 3
   },
   "file_extension": ".py",
   "mimetype": "text/x-python",
   "name": "python",
   "nbconvert_exporter": "python",
   "pygments_lexer": "ipython3",
   "version": "3.7.6"
  },
  "nteract": {
   "version": "0.21.0"
  }
 },
 "nbformat": 4,
 "nbformat_minor": 4
}
